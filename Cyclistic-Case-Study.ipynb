{
  "nbformat": 4,
  "nbformat_minor": 0,
  "metadata": {
    "colab": {
      "provenance": []
    },
    "kernelspec": {
      "name": "ir",
      "display_name": "R"
    },
    "language_info": {
      "name": "R"
    }
  },
  "cells": [
    {
      "cell_type": "markdown",
      "source": [
        "# Google Data Analytics Capstone Project: Cyclistic Case Study"
      ],
      "metadata": {
        "id": "1b2XReVxaDda"
      }
    },
    {
      "cell_type": "markdown",
      "source": [
        "## Introduction\n",
        "This is the capstone project for the Google Data Analytics Professional Certificate.\n",
        "In this case study I'll perform taskes used by junior data analyst to analyze historical data from a Chicago based bike-shared company.\n",
        "The main tools I used were spreadsheets (Excel), R, and PowerBI.\n",
        "- Initial analysis and cleaning were done with Microsoft Excel.\n",
        "- Data Cleaning, validation and exploratory analysis were done with RStudio.\n",
        "- Data Vizualization using Microsoft Power BI.\n",
        "\n",
        "## Scenario\n",
        "Cyclistic is a bike-shared company based in Chicago, USA. With more than 5,800 bicycles and over 1,000 stations spread all over the city.\n",
        "The company have three main types of products focused on two types of customers. People who purchase single-rides or full-day passes are called **casual riders** and hose who purchase annual memberships are called **annual members**.\n",
        "\n",
        "Cyclistic financial analyst have concluded that annual members are more profitable than casual riders, and the marketing team believes that the company's future success depends on maximizing the number of annual memberships.\n",
        "\n",
        "So, the marketing team want to understand how casual riders and annual members use Cyclistic differently. These insights will help the team create a new marketing strategy to convert casual riders inte members. The primary stakeholder for the project is the director of the marketing team, Lily Moreno, and the Cyclistic executive team. Other members of the marketing team are secondary stakeholders.\n",
        "\n",
        "## Bussiness Task\n",
        "\n",
        "The main goal of the project is *understand how casual riders and annual members use Cyclistic differently by analyzing historical data*.\n",
        "\n",
        "## Data Sources\n",
        "\n",
        "We'll use Cyclistic historical data of the past 12 months, which is available for download [here](https://divvy-tripdata.s3.amazonaws.com/index.html). The data is provided by Motiva Inc. under this [license](https://divvybikes.com/data-license-agreement).\n",
        "\n",
        "We'll also be using a data set of Divvy Stations in Chicago, you can find it for download [here](https://data.cityofchicago.org/Transportation/Divvy-Bicycle-Stations/bbyy-e7gq/data_preview). This will be helpful when we clean the stations information.\n",
        "\n",
        "The data is stored in .csv files and structured in rows and columns. Each record (or row) represents a ride and is identified by an unique field named \"ride_id\". Bellow you can find a summary of each field from the original data source:\n",
        "\n",
        "#### Cyclistic Historical Data\n",
        "- ride_id: unique ride identifier\n",
        "- rideable_type: represents the bike type. And can be one of the following values: docked, electrical or classic\n",
        "- started_at: this is the ride's start date and time\n",
        "- ended_at: same as the field above only for the end of the ride.\n",
        "- start_station_name: ride's start station name\n",
        "- start_station_id: start station identifier\n",
        "- end_station_name: ride's end station name\n",
        "- end_station_id: end station identifier\n",
        "- start_lat: start station latitude\n",
        "- start_lng: start station longitude\n",
        "- end_lat: end station latitude\n",
        "- end_lng: end station longitude\n",
        "-  member_casual: membership type. Can have two possible values: member ou casual.\n",
        "\n",
        "#### Divvy Stations Data Set\n",
        "\n",
        "- ID: Station identifier\n",
        "- Station Name: name of the station\n",
        "- Total Docks: number of spaces for bycicles in that location\n",
        "- Docks in Service: number of docks that are actually available from Total Docks\n",
        "- Latitude: latitude of the station\n",
        "- Longitude: longitude of the station\n",
        "- Location: full geographical location of the station. Is the join of latitude and longitude\n",
        "\n",
        "Both data sources follow all criteria involved in bias and credbility. To maintain data security each personal identifiable information was anonymized."
      ],
      "metadata": {
        "id": "E2atG0R2DVuM"
      }
    },
    {
      "cell_type": "code",
      "source": [
        "# Loading Packages\n",
        "library(lubridate)\n",
        "library(ggplot2)\n",
        "library(tidyverse)"
      ],
      "metadata": {
        "colab": {
          "base_uri": "https://localhost:8080/"
        },
        "id": "HO5siT8aIzDX",
        "outputId": "9709209f-69df-4f30-84f5-974dc851f943"
      },
      "execution_count": null,
      "outputs": [
        {
          "output_type": "stream",
          "name": "stderr",
          "text": [
            "\n",
            "Attaching package: ‘lubridate’\n",
            "\n",
            "\n",
            "The following objects are masked from ‘package:base’:\n",
            "\n",
            "    date, intersect, setdiff, union\n",
            "\n",
            "\n",
            "── \u001b[1mAttaching core tidyverse packages\u001b[22m ──────────────────────── tidyverse 2.0.0 ──\n",
            "\u001b[32m✔\u001b[39m \u001b[34mdplyr  \u001b[39m 1.1.4     \u001b[32m✔\u001b[39m \u001b[34mstringr\u001b[39m 1.5.1\n",
            "\u001b[32m✔\u001b[39m \u001b[34mforcats\u001b[39m 1.0.0     \u001b[32m✔\u001b[39m \u001b[34mtibble \u001b[39m 3.2.1\n",
            "\u001b[32m✔\u001b[39m \u001b[34mpurrr  \u001b[39m 1.0.2     \u001b[32m✔\u001b[39m \u001b[34mtidyr  \u001b[39m 1.3.0\n",
            "\u001b[32m✔\u001b[39m \u001b[34mreadr  \u001b[39m 2.1.5     \n",
            "── \u001b[1mConflicts\u001b[22m ────────────────────────────────────────── tidyverse_conflicts() ──\n",
            "\u001b[31m✖\u001b[39m \u001b[34mdplyr\u001b[39m::\u001b[32mfilter()\u001b[39m masks \u001b[34mstats\u001b[39m::filter()\n",
            "\u001b[31m✖\u001b[39m \u001b[34mdplyr\u001b[39m::\u001b[32mlag()\u001b[39m    masks \u001b[34mstats\u001b[39m::lag()\n",
            "\u001b[36mℹ\u001b[39m Use the conflicted package (\u001b[3m\u001b[34m<http://conflicted.r-lib.org/>\u001b[39m\u001b[23m) to force all conflicts to become errors\n"
          ]
        }
      ]
    },
    {
      "cell_type": "markdown",
      "source": [
        "## Data Cleaning and Manipulation\n",
        "\n",
        "This step will help us make sure data is stored correctly and ready to be analyzed.\n",
        "After downloading all 12 files and unzipping them, I created a folder for each month to host all original .csv files. I performed the first part of the manipulation with Excel, to get me familiarized with the data and because it is easy to filter data and check formatting problems than ith R.\n",
        "The second, and main, part of the cleaning and manipulation process was done with R.\n",
        "\n",
        "### Data Manipulation with Excel\n",
        "\n",
        "I opened each file with Excel to perform the first part of the data manipulation, and then saved the original files as .xlsx file on a new folder to preserve the original files.\n",
        "For each file I repeated the following steps:\n",
        "- Open the file and used the text to column tool\n",
        "- Created \"ride_length\" column: by subtracting \"start_date\" form \"end_date\". And then formatting it to time.\n",
        "- Changed \"started_at\" and \"ended_at\" formats to dd/mm/yyyy hh:mm:ss using formatting tools\n",
        "- Checking both \"casual_members\" and \"rideable_type\" for blanks and other inputs that are not expected. when I found blanks I deleted the rows.\n",
        "\n",
        "Using some discriptive analysis and pivot tables I was able to get some initial insights with Excel.\n",
        "\n",
        "By looking at the total amount of rows in each files I could see that summer months have higher observations than any other time of year. With winter having the lowest number of rides, with 4 times less rides than summer.\n",
        "\n",
        "| Month/ Year | Total Rows |\n",
        "|--------------|--------------|\n",
        "| September 2023 | 666,371|\n",
        "| August 2023 | 771,693|\n",
        "| July 2021 | 767,650|\n",
        "| June 2023| 719,618|\n",
        "| May 2023| 604,827|\n",
        "| April 2023| 426,590|\n",
        "| March 2023| 258,678|\n",
        "| February 2023| 190,445|\n",
        "| January 2023 | 190,301|\n",
        "|December 2022 |181,807|\n",
        "|November 2022| 337,735|\n",
        "|October 2022 | 558,685|\n",
        "\n",
        "After the manipulation part is done I saved new files as .csv again, and stored them on a new folder.\n",
        "\n",
        "### Data Cleaning and Manipulation with R\n",
        "\n",
        "Since the size of the datasets are too large, it makes sens to move our analysis to another tool in order to perform better. I chose to work with R for this part of the analysis.\n",
        "\n",
        "\n"
      ],
      "metadata": {
        "id": "fRk48_vFO1KL"
      }
    },
    {
      "cell_type": "code",
      "source": [
        "# Step 1: Collecting data & joining into one file\n",
        "\n",
        "m10_2022 <- read.csv('202210-tripdata.csv', sep = ';')\n",
        "m11_2022 <- read.csv('202211-tripdata.csv', sep = ';')\n",
        "m12_2022 <- read.csv('202212-tripdata.csv', sep = ';')\n",
        "m01_2023 <- read.csv('202301-tripdata.csv', sep = ';')\n",
        "m02_2023 <- read.csv('202302-tripdata.csv', sep = ';')\n",
        "m03_2023 <- read.csv('202303-tripdata.csv', sep = ';')\n",
        "m04_2023 <- read.csv('202304-tripdata.csv', sep = ';')\n",
        "m05_2023 <- read.csv('202305-tripdata.csv', sep = ';')\n",
        "m06_2023 <- read.csv('202306-tripdata.csv', sep = ';')\n",
        "m07_2023 <- read.csv('202307-tripdata.csv', sep = ';')\n",
        "m08_2023 <- read.csv('202308-tripdata.csv', sep = ';')\n",
        "m09_2023 <- read.csv('202309-tripdata.csv', sep = ';')"
      ],
      "metadata": {
        "id": "Q0ZcQsEBN738"
      },
      "execution_count": null,
      "outputs": []
    },
    {
      "cell_type": "markdown",
      "source": [
        "After importing all twelve files into RStudio is time to join all 12 month files into one. To do that I'll first check if every column name is the same, to avoid any errors.\n",
        "\n",
        "While checking the column names we spotted one file with a different name and I'll change it to the right one before joining all files."
      ],
      "metadata": {
        "id": "M-wGmkBJTdIx"
      }
    },
    {
      "cell_type": "code",
      "source": [
        "colnames(m10_2022) #Test this for each file name to check for column names inconsistencies\n",
        "\n",
        "m01_2023 <- rename(m01_2023, ride_length = ride_lentgh) #remember to always insert the new name first"
      ],
      "metadata": {
        "colab": {
          "base_uri": "https://localhost:8080/",
          "height": 52
        },
        "id": "s2I9PBPrTnMp",
        "outputId": "a4a55790-dc53-47c2-a8b0-78ba2d1cb9ed"
      },
      "execution_count": null,
      "outputs": [
        {
          "output_type": "display_data",
          "data": {
            "text/html": [
              "<style>\n",
              ".list-inline {list-style: none; margin:0; padding: 0}\n",
              ".list-inline>li {display: inline-block}\n",
              ".list-inline>li:not(:last-child)::after {content: \"\\00b7\"; padding: 0 .5ex}\n",
              "</style>\n",
              "<ol class=list-inline><li>'ride_id'</li><li>'rideable_type'</li><li>'started_at'</li><li>'ended_at'</li><li>'ride_length'</li><li>'day_of_week'</li><li>'start_station_name'</li><li>'start_station_id'</li><li>'end_station_name'</li><li>'end_station_id'</li><li>'start_lat'</li><li>'start_lng'</li><li>'end_lat'</li><li>'end_lng'</li><li>'member_casual'</li></ol>\n"
            ],
            "text/markdown": "1. 'ride_id'\n2. 'rideable_type'\n3. 'started_at'\n4. 'ended_at'\n5. 'ride_length'\n6. 'day_of_week'\n7. 'start_station_name'\n8. 'start_station_id'\n9. 'end_station_name'\n10. 'end_station_id'\n11. 'start_lat'\n12. 'start_lng'\n13. 'end_lat'\n14. 'end_lng'\n15. 'member_casual'\n\n\n",
            "text/latex": "\\begin{enumerate*}\n\\item 'ride\\_id'\n\\item 'rideable\\_type'\n\\item 'started\\_at'\n\\item 'ended\\_at'\n\\item 'ride\\_length'\n\\item 'day\\_of\\_week'\n\\item 'start\\_station\\_name'\n\\item 'start\\_station\\_id'\n\\item 'end\\_station\\_name'\n\\item 'end\\_station\\_id'\n\\item 'start\\_lat'\n\\item 'start\\_lng'\n\\item 'end\\_lat'\n\\item 'end\\_lng'\n\\item 'member\\_casual'\n\\end{enumerate*}\n",
            "text/plain": [
              " [1] \"ride_id\"            \"rideable_type\"      \"started_at\"        \n",
              " [4] \"ended_at\"           \"ride_length\"        \"day_of_week\"       \n",
              " [7] \"start_station_name\" \"start_station_id\"   \"end_station_name\"  \n",
              "[10] \"end_station_id\"     \"start_lat\"          \"start_lng\"         \n",
              "[13] \"end_lat\"            \"end_lng\"            \"member_casual\"     "
            ]
          },
          "metadata": {}
        }
      ]
    },
    {
      "cell_type": "code",
      "source": [
        "all_trips <- bind_rows(m10_2022,m11_2022,m12_2022,m01_2023,m02_2023,m03_2023,m04_2023,m05_2023,m06_2023,m07_2023,m08_2023,m09_2023)\n"
      ],
      "metadata": {
        "id": "FoqG_Tu3TvxY"
      },
      "execution_count": null,
      "outputs": []
    },
    {
      "cell_type": "code",
      "source": [
        "#Inspecting the data\n",
        "\n",
        "colnames(all_trips)\n",
        "dim(all_trips)\n"
      ],
      "metadata": {
        "colab": {
          "base_uri": "https://localhost:8080/",
          "height": 69
        },
        "id": "vg2JGAtOT2iI",
        "outputId": "32badfc2-897f-4c07-91a6-3de20e72344e"
      },
      "execution_count": null,
      "outputs": [
        {
          "output_type": "display_data",
          "data": {
            "text/html": [
              "<style>\n",
              ".list-inline {list-style: none; margin:0; padding: 0}\n",
              ".list-inline>li {display: inline-block}\n",
              ".list-inline>li:not(:last-child)::after {content: \"\\00b7\"; padding: 0 .5ex}\n",
              "</style>\n",
              "<ol class=list-inline><li>'ride_id'</li><li>'rideable_type'</li><li>'started_at'</li><li>'ended_at'</li><li>'ride_length'</li><li>'day_of_week'</li><li>'start_station_name'</li><li>'start_station_id'</li><li>'end_station_name'</li><li>'end_station_id'</li><li>'start_lat'</li><li>'start_lng'</li><li>'end_lat'</li><li>'end_lng'</li><li>'member_casual'</li></ol>\n"
            ],
            "text/markdown": "1. 'ride_id'\n2. 'rideable_type'\n3. 'started_at'\n4. 'ended_at'\n5. 'ride_length'\n6. 'day_of_week'\n7. 'start_station_name'\n8. 'start_station_id'\n9. 'end_station_name'\n10. 'end_station_id'\n11. 'start_lat'\n12. 'start_lng'\n13. 'end_lat'\n14. 'end_lng'\n15. 'member_casual'\n\n\n",
            "text/latex": "\\begin{enumerate*}\n\\item 'ride\\_id'\n\\item 'rideable\\_type'\n\\item 'started\\_at'\n\\item 'ended\\_at'\n\\item 'ride\\_length'\n\\item 'day\\_of\\_week'\n\\item 'start\\_station\\_name'\n\\item 'start\\_station\\_id'\n\\item 'end\\_station\\_name'\n\\item 'end\\_station\\_id'\n\\item 'start\\_lat'\n\\item 'start\\_lng'\n\\item 'end\\_lat'\n\\item 'end\\_lng'\n\\item 'member\\_casual'\n\\end{enumerate*}\n",
            "text/plain": [
              " [1] \"ride_id\"            \"rideable_type\"      \"started_at\"        \n",
              " [4] \"ended_at\"           \"ride_length\"        \"day_of_week\"       \n",
              " [7] \"start_station_name\" \"start_station_id\"   \"end_station_name\"  \n",
              "[10] \"end_station_id\"     \"start_lat\"          \"start_lng\"         \n",
              "[13] \"end_lat\"            \"end_lng\"            \"member_casual\"     "
            ]
          },
          "metadata": {}
        },
        {
          "output_type": "display_data",
          "data": {
            "text/html": [
              "<style>\n",
              ".list-inline {list-style: none; margin:0; padding: 0}\n",
              ".list-inline>li {display: inline-block}\n",
              ".list-inline>li:not(:last-child)::after {content: \"\\00b7\"; padding: 0 .5ex}\n",
              "</style>\n",
              "<ol class=list-inline><li>5674399</li><li>15</li></ol>\n"
            ],
            "text/markdown": "1. 5674399\n2. 15\n\n\n",
            "text/latex": "\\begin{enumerate*}\n\\item 5674399\n\\item 15\n\\end{enumerate*}\n",
            "text/plain": [
              "[1] 5674399      15"
            ]
          },
          "metadata": {}
        }
      ]
    },
    {
      "cell_type": "markdown",
      "source": [
        "The data have over 5 million records and 15 columns. Let's see the first rows of the data, and take a look at it's structure more closely."
      ],
      "metadata": {
        "id": "eB-rD0WCCarg"
      }
    },
    {
      "cell_type": "code",
      "source": [
        "head(all_trips)"
      ],
      "metadata": {
        "colab": {
          "base_uri": "https://localhost:8080/",
          "height": 428
        },
        "id": "8KNOtzzWCT59",
        "outputId": "7c28305b-6e00-44e9-efef-25be35fd4b78"
      },
      "execution_count": null,
      "outputs": [
        {
          "output_type": "display_data",
          "data": {
            "text/html": [
              "<table class=\"dataframe\">\n",
              "<caption>A data.frame: 6 × 15</caption>\n",
              "<thead>\n",
              "\t<tr><th></th><th scope=col>ride_id</th><th scope=col>rideable_type</th><th scope=col>started_at</th><th scope=col>ended_at</th><th scope=col>ride_length</th><th scope=col>day_of_week</th><th scope=col>start_station_name</th><th scope=col>start_station_id</th><th scope=col>end_station_name</th><th scope=col>end_station_id</th><th scope=col>start_lat</th><th scope=col>start_lng</th><th scope=col>end_lat</th><th scope=col>end_lng</th><th scope=col>member_casual</th></tr>\n",
              "\t<tr><th></th><th scope=col>&lt;chr&gt;</th><th scope=col>&lt;chr&gt;</th><th scope=col>&lt;chr&gt;</th><th scope=col>&lt;chr&gt;</th><th scope=col>&lt;chr&gt;</th><th scope=col>&lt;int&gt;</th><th scope=col>&lt;chr&gt;</th><th scope=col>&lt;chr&gt;</th><th scope=col>&lt;chr&gt;</th><th scope=col>&lt;chr&gt;</th><th scope=col>&lt;dbl&gt;</th><th scope=col>&lt;dbl&gt;</th><th scope=col>&lt;dbl&gt;</th><th scope=col>&lt;dbl&gt;</th><th scope=col>&lt;chr&gt;</th></tr>\n",
              "</thead>\n",
              "<tbody>\n",
              "\t<tr><th scope=row>1</th><td>A50255C1E17942AB</td><td>classic_bike </td><td>14/10/2022 17:13:30</td><td>14/10/2022 17:19:39</td><td>00:06:09</td><td>5</td><td>Noble St &amp; Milwaukee Ave </td><td><span style=white-space:pre-wrap>13290       </span></td><td><span style=white-space:pre-wrap>Larrabee St &amp; Division St           </span></td><td>KA1504000079</td><td>41.90068</td><td>-87.66260</td><td>41.90349</td><td>-87.64335</td><td>member</td></tr>\n",
              "\t<tr><th scope=row>2</th><td>DB692A70BD2DD4E3</td><td>electric_bike</td><td>01/10/2022 16:29:26</td><td>01/10/2022 16:49:06</td><td>00:19:40</td><td>6</td><td>Damen Ave &amp; Charleston St</td><td><span style=white-space:pre-wrap>13288       </span></td><td><span style=white-space:pre-wrap>Damen Ave &amp; Cullerton St            </span></td><td><span style=white-space:pre-wrap>13089       </span></td><td>41.92004</td><td>-87.67794</td><td>41.85497</td><td>-87.67570</td><td>casual</td></tr>\n",
              "\t<tr><th scope=row>3</th><td>3C02727AAF60F873</td><td>electric_bike</td><td>19/10/2022 18:55:40</td><td>19/10/2022 19:03:30</td><td>00:07:50</td><td>3</td><td>Hoyne Ave &amp; Balmoral Ave </td><td><span style=white-space:pre-wrap>655         </span></td><td><span style=white-space:pre-wrap>Western Ave &amp; Leland Ave            </span></td><td>TA1307000140</td><td>41.97988</td><td>-87.68190</td><td>41.96640</td><td>-87.68870</td><td>member</td></tr>\n",
              "\t<tr><th scope=row>4</th><td>47E653FDC2D99236</td><td>electric_bike</td><td>31/10/2022 07:52:36</td><td>31/10/2022 07:58:49</td><td>00:06:13</td><td>1</td><td><span style=white-space:pre-wrap>Rush St &amp; Cedar St       </span></td><td>KA1504000133</td><td>Orleans St &amp; Chestnut St (NEXT Apts)</td><td><span style=white-space:pre-wrap>620         </span></td><td>41.90227</td><td>-87.62769</td><td>41.89820</td><td>-87.63754</td><td>member</td></tr>\n",
              "\t<tr><th scope=row>5</th><td>8B5407BE535159BF</td><td>classic_bike </td><td>13/10/2022 18:41:03</td><td>13/10/2022 19:26:18</td><td>00:45:15</td><td>4</td><td>900 W Harrison St        </td><td>13028       </td><td>Adler Planetarium                   </td><td>13431       </td><td>41.87475</td><td>-87.64981</td><td>41.86610</td><td>-87.60727</td><td>casual</td></tr>\n",
              "\t<tr><th scope=row>6</th><td>A177C92E9F021B99</td><td>electric_bike</td><td>13/10/2022 15:53:27</td><td>13/10/2022 15:59:17</td><td>00:05:50</td><td>4</td><td><span style=white-space:pre-wrap>900 W Harrison St        </span></td><td><span style=white-space:pre-wrap>13028       </span></td><td><span style=white-space:pre-wrap>Loomis St &amp; Lexington St            </span></td><td><span style=white-space:pre-wrap>13332       </span></td><td>41.87472</td><td>-87.64983</td><td>41.87219</td><td>-87.66150</td><td>casual</td></tr>\n",
              "</tbody>\n",
              "</table>\n"
            ],
            "text/markdown": "\nA data.frame: 6 × 15\n\n| <!--/--> | ride_id &lt;chr&gt; | rideable_type &lt;chr&gt; | started_at &lt;chr&gt; | ended_at &lt;chr&gt; | ride_length &lt;chr&gt; | day_of_week &lt;int&gt; | start_station_name &lt;chr&gt; | start_station_id &lt;chr&gt; | end_station_name &lt;chr&gt; | end_station_id &lt;chr&gt; | start_lat &lt;dbl&gt; | start_lng &lt;dbl&gt; | end_lat &lt;dbl&gt; | end_lng &lt;dbl&gt; | member_casual &lt;chr&gt; |\n|---|---|---|---|---|---|---|---|---|---|---|---|---|---|---|---|\n| 1 | A50255C1E17942AB | classic_bike  | 14/10/2022 17:13:30 | 14/10/2022 17:19:39 | 00:06:09 | 5 | Noble St &amp; Milwaukee Ave  | 13290        | Larrabee St &amp; Division St            | KA1504000079 | 41.90068 | -87.66260 | 41.90349 | -87.64335 | member |\n| 2 | DB692A70BD2DD4E3 | electric_bike | 01/10/2022 16:29:26 | 01/10/2022 16:49:06 | 00:19:40 | 6 | Damen Ave &amp; Charleston St | 13288        | Damen Ave &amp; Cullerton St             | 13089        | 41.92004 | -87.67794 | 41.85497 | -87.67570 | casual |\n| 3 | 3C02727AAF60F873 | electric_bike | 19/10/2022 18:55:40 | 19/10/2022 19:03:30 | 00:07:50 | 3 | Hoyne Ave &amp; Balmoral Ave  | 655          | Western Ave &amp; Leland Ave             | TA1307000140 | 41.97988 | -87.68190 | 41.96640 | -87.68870 | member |\n| 4 | 47E653FDC2D99236 | electric_bike | 31/10/2022 07:52:36 | 31/10/2022 07:58:49 | 00:06:13 | 1 | Rush St &amp; Cedar St        | KA1504000133 | Orleans St &amp; Chestnut St (NEXT Apts) | 620          | 41.90227 | -87.62769 | 41.89820 | -87.63754 | member |\n| 5 | 8B5407BE535159BF | classic_bike  | 13/10/2022 18:41:03 | 13/10/2022 19:26:18 | 00:45:15 | 4 | 900 W Harrison St         | 13028        | Adler Planetarium                    | 13431        | 41.87475 | -87.64981 | 41.86610 | -87.60727 | casual |\n| 6 | A177C92E9F021B99 | electric_bike | 13/10/2022 15:53:27 | 13/10/2022 15:59:17 | 00:05:50 | 4 | 900 W Harrison St         | 13028        | Loomis St &amp; Lexington St             | 13332        | 41.87472 | -87.64983 | 41.87219 | -87.66150 | casual |\n\n",
            "text/latex": "A data.frame: 6 × 15\n\\begin{tabular}{r|lllllllllllllll}\n  & ride\\_id & rideable\\_type & started\\_at & ended\\_at & ride\\_length & day\\_of\\_week & start\\_station\\_name & start\\_station\\_id & end\\_station\\_name & end\\_station\\_id & start\\_lat & start\\_lng & end\\_lat & end\\_lng & member\\_casual\\\\\n  & <chr> & <chr> & <chr> & <chr> & <chr> & <int> & <chr> & <chr> & <chr> & <chr> & <dbl> & <dbl> & <dbl> & <dbl> & <chr>\\\\\n\\hline\n\t1 & A50255C1E17942AB & classic\\_bike  & 14/10/2022 17:13:30 & 14/10/2022 17:19:39 & 00:06:09 & 5 & Noble St \\& Milwaukee Ave  & 13290        & Larrabee St \\& Division St            & KA1504000079 & 41.90068 & -87.66260 & 41.90349 & -87.64335 & member\\\\\n\t2 & DB692A70BD2DD4E3 & electric\\_bike & 01/10/2022 16:29:26 & 01/10/2022 16:49:06 & 00:19:40 & 6 & Damen Ave \\& Charleston St & 13288        & Damen Ave \\& Cullerton St             & 13089        & 41.92004 & -87.67794 & 41.85497 & -87.67570 & casual\\\\\n\t3 & 3C02727AAF60F873 & electric\\_bike & 19/10/2022 18:55:40 & 19/10/2022 19:03:30 & 00:07:50 & 3 & Hoyne Ave \\& Balmoral Ave  & 655          & Western Ave \\& Leland Ave             & TA1307000140 & 41.97988 & -87.68190 & 41.96640 & -87.68870 & member\\\\\n\t4 & 47E653FDC2D99236 & electric\\_bike & 31/10/2022 07:52:36 & 31/10/2022 07:58:49 & 00:06:13 & 1 & Rush St \\& Cedar St        & KA1504000133 & Orleans St \\& Chestnut St (NEXT Apts) & 620          & 41.90227 & -87.62769 & 41.89820 & -87.63754 & member\\\\\n\t5 & 8B5407BE535159BF & classic\\_bike  & 13/10/2022 18:41:03 & 13/10/2022 19:26:18 & 00:45:15 & 4 & 900 W Harrison St         & 13028        & Adler Planetarium                    & 13431        & 41.87475 & -87.64981 & 41.86610 & -87.60727 & casual\\\\\n\t6 & A177C92E9F021B99 & electric\\_bike & 13/10/2022 15:53:27 & 13/10/2022 15:59:17 & 00:05:50 & 4 & 900 W Harrison St         & 13028        & Loomis St \\& Lexington St             & 13332        & 41.87472 & -87.64983 & 41.87219 & -87.66150 & casual\\\\\n\\end{tabular}\n",
            "text/plain": [
              "  ride_id          rideable_type started_at          ended_at           \n",
              "1 A50255C1E17942AB classic_bike  14/10/2022 17:13:30 14/10/2022 17:19:39\n",
              "2 DB692A70BD2DD4E3 electric_bike 01/10/2022 16:29:26 01/10/2022 16:49:06\n",
              "3 3C02727AAF60F873 electric_bike 19/10/2022 18:55:40 19/10/2022 19:03:30\n",
              "4 47E653FDC2D99236 electric_bike 31/10/2022 07:52:36 31/10/2022 07:58:49\n",
              "5 8B5407BE535159BF classic_bike  13/10/2022 18:41:03 13/10/2022 19:26:18\n",
              "6 A177C92E9F021B99 electric_bike 13/10/2022 15:53:27 13/10/2022 15:59:17\n",
              "  ride_length day_of_week start_station_name        start_station_id\n",
              "1 00:06:09    5           Noble St & Milwaukee Ave  13290           \n",
              "2 00:19:40    6           Damen Ave & Charleston St 13288           \n",
              "3 00:07:50    3           Hoyne Ave & Balmoral Ave  655             \n",
              "4 00:06:13    1           Rush St & Cedar St        KA1504000133    \n",
              "5 00:45:15    4           900 W Harrison St         13028           \n",
              "6 00:05:50    4           900 W Harrison St         13028           \n",
              "  end_station_name                     end_station_id start_lat start_lng\n",
              "1 Larrabee St & Division St            KA1504000079   41.90068  -87.66260\n",
              "2 Damen Ave & Cullerton St             13089          41.92004  -87.67794\n",
              "3 Western Ave & Leland Ave             TA1307000140   41.97988  -87.68190\n",
              "4 Orleans St & Chestnut St (NEXT Apts) 620            41.90227  -87.62769\n",
              "5 Adler Planetarium                    13431          41.87475  -87.64981\n",
              "6 Loomis St & Lexington St             13332          41.87472  -87.64983\n",
              "  end_lat  end_lng   member_casual\n",
              "1 41.90349 -87.64335 member       \n",
              "2 41.85497 -87.67570 casual       \n",
              "3 41.96640 -87.68870 member       \n",
              "4 41.89820 -87.63754 member       \n",
              "5 41.86610 -87.60727 casual       \n",
              "6 41.87219 -87.66150 casual       "
            ]
          },
          "metadata": {}
        }
      ]
    },
    {
      "cell_type": "markdown",
      "source": [
        "After the manipulation I've done in Excel, I've added 2 other columns. Which are:\n",
        "- ride_length: that calculates the trip duration by subtracting start date and time from the end.\n",
        "- day_of_week: that is a numeric entry to the day of week. There we have 1 as Monday and 7 as Sunday.\n"
      ],
      "metadata": {
        "id": "0QxNVUzvCzRT"
      }
    },
    {
      "cell_type": "code",
      "source": [
        "glimpse(all_trips)\n"
      ],
      "metadata": {
        "colab": {
          "base_uri": "https://localhost:8080/"
        },
        "id": "CyDi3oM6CQz-",
        "outputId": "89d2572e-fd52-44a0-b4e5-a28d6604c407"
      },
      "execution_count": null,
      "outputs": [
        {
          "output_type": "stream",
          "name": "stdout",
          "text": [
            "Rows: 5,674,399\n",
            "Columns: 15\n",
            "$ ride_id            \u001b[3m\u001b[90m<chr>\u001b[39m\u001b[23m \"A50255C1E17942AB\", \"DB692A70BD2DD4E3\", \"3C02727AAF…\n",
            "$ rideable_type      \u001b[3m\u001b[90m<chr>\u001b[39m\u001b[23m \"classic_bike\", \"electric_bike\", \"electric_bike\", \"…\n",
            "$ started_at         \u001b[3m\u001b[90m<chr>\u001b[39m\u001b[23m \"14/10/2022 17:13:30\", \"01/10/2022 16:29:26\", \"19/1…\n",
            "$ ended_at           \u001b[3m\u001b[90m<chr>\u001b[39m\u001b[23m \"14/10/2022 17:19:39\", \"01/10/2022 16:49:06\", \"19/1…\n",
            "$ ride_length        \u001b[3m\u001b[90m<chr>\u001b[39m\u001b[23m \"00:06:09\", \"00:19:40\", \"00:07:50\", \"00:06:13\", \"00…\n",
            "$ day_of_week        \u001b[3m\u001b[90m<int>\u001b[39m\u001b[23m 5, 6, 3, 1, 4, 4, 4, 3, 6, 1, 6, 4, 7, 7, 1, 5, 7, …\n",
            "$ start_station_name \u001b[3m\u001b[90m<chr>\u001b[39m\u001b[23m \"Noble St & Milwaukee Ave\", \"Damen Ave & Charleston…\n",
            "$ start_station_id   \u001b[3m\u001b[90m<chr>\u001b[39m\u001b[23m \"13290\", \"13288\", \"655\", \"KA1504000133\", \"13028\", \"…\n",
            "$ end_station_name   \u001b[3m\u001b[90m<chr>\u001b[39m\u001b[23m \"Larrabee St & Division St\", \"Damen Ave & Cullerton…\n",
            "$ end_station_id     \u001b[3m\u001b[90m<chr>\u001b[39m\u001b[23m \"KA1504000079\", \"13089\", \"TA1307000140\", \"620\", \"13…\n",
            "$ start_lat          \u001b[3m\u001b[90m<dbl>\u001b[39m\u001b[23m 41.90068, 41.92004, 41.97988, 41.90227, 41.87475, 4…\n",
            "$ start_lng          \u001b[3m\u001b[90m<dbl>\u001b[39m\u001b[23m -87.66260, -87.67794, -87.68190, -87.62769, -87.649…\n",
            "$ end_lat            \u001b[3m\u001b[90m<dbl>\u001b[39m\u001b[23m 41.90349, 41.85497, 41.96640, 41.89820, 41.86610, 4…\n",
            "$ end_lng            \u001b[3m\u001b[90m<dbl>\u001b[39m\u001b[23m -87.64335, -87.67570, -87.68870, -87.63754, -87.607…\n",
            "$ member_casual      \u001b[3m\u001b[90m<chr>\u001b[39m\u001b[23m \"member\", \"casual\", \"member\", \"member\", \"casual\", \"…\n"
          ]
        }
      ]
    },
    {
      "cell_type": "code",
      "source": [
        "summary(all_trips)"
      ],
      "metadata": {
        "colab": {
          "base_uri": "https://localhost:8080/",
          "height": 589
        },
        "id": "f9DTopCvCWvK",
        "outputId": "00827cf5-3e25-4236-9ab8-ebf05d550512"
      },
      "execution_count": null,
      "outputs": [
        {
          "output_type": "display_data",
          "data": {
            "text/plain": [
              "   ride_id          rideable_type       started_at          ended_at        \n",
              " Length:5674399     Length:5674399     Length:5674399     Length:5674399    \n",
              " Class :character   Class :character   Class :character   Class :character  \n",
              " Mode  :character   Mode  :character   Mode  :character   Mode  :character  \n",
              "                                                                            \n",
              "                                                                            \n",
              "                                                                            \n",
              "                                                                            \n",
              " ride_length         day_of_week    start_station_name start_station_id  \n",
              " Length:5674399     Min.   :1.000   Length:5674399     Length:5674399    \n",
              " Class :character   1st Qu.:2.000   Class :character   Class :character  \n",
              " Mode  :character   Median :4.000   Mode  :character   Mode  :character  \n",
              "                    Mean   :4.078                                        \n",
              "                    3rd Qu.:6.000                                        \n",
              "                    Max.   :7.000                                        \n",
              "                                                                         \n",
              " end_station_name   end_station_id       start_lat       start_lng     \n",
              " Length:5674399     Length:5674399     Min.   :41.63   Min.   :-87.94  \n",
              " Class :character   Class :character   1st Qu.:41.88   1st Qu.:-87.66  \n",
              " Mode  :character   Mode  :character   Median :41.90   Median :-87.64  \n",
              "                                       Mean   :41.90   Mean   :-87.65  \n",
              "                                       3rd Qu.:41.93   3rd Qu.:-87.63  \n",
              "                                       Max.   :42.07   Max.   :-87.46  \n",
              "                                                                       \n",
              "    end_lat         end_lng       member_casual     \n",
              " Min.   : 0.00   Min.   :-88.16   Length:5674399    \n",
              " 1st Qu.:41.88   1st Qu.:-87.66   Class :character  \n",
              " Median :41.90   Median :-87.64   Mode  :character  \n",
              " Mean   :41.90   Mean   :-87.65                     \n",
              " 3rd Qu.:41.93   3rd Qu.:-87.63                     \n",
              " Max.   :42.18   Max.   :  0.00                     \n",
              " NA's   :6642    NA's   :6642                       "
            ]
          },
          "metadata": {}
        }
      ]
    },
    {
      "cell_type": "markdown",
      "source": [
        "After seeing more about our data there is a few correction I'll have to do. Such as changing data types to a better match. Both start and end date/time are as character, as well as the trip duration."
      ],
      "metadata": {
        "id": "ty96jsLxDsPT"
      }
    },
    {
      "cell_type": "markdown",
      "source": [
        "I created an annual file, with all 12 month records, called \"all_trips\". Now I'll perform come cleaning before I can proceed to analysis. There are four main sterps I'll take to clean this file:\n",
        "1. I'll create other columns to provide additional opportunities to aggregate data, this will be based on the \"started_at\" column\n",
        "2. Recalculate the \"ride_length\" using R commands\n",
        "3. Delete records with a negative \"ride_length\", that have a \"ride_id\" with more or less than 16 digits and that have a rideable type equals to \"docked\".\n",
        "4. Drop records with null start and/or end station information.\n",
        "\n",
        "First I'll creat date columns to separate the start date and facilitate future analysis. For this, I created day, month, and year columns.\n"
      ],
      "metadata": {
        "id": "xh0OaPG3Twno"
      }
    },
    {
      "cell_type": "code",
      "source": [
        "# Step 2: Fixing problems and cleaning the data\n",
        "\n",
        "all_trips$started_at <- dmy_hms(all_trips$started_at)\n",
        "all_trips$ended_at <- dmy_hms(all_trips$ended_at)\n",
        "\n",
        "all_trips$date <- as.Date(all_trips$started_at, format = \"%d/%m/%Y\") #these new columns will future aggregations and analysis\n",
        "all_trips$day <- format(as.Date(all_trips$date), \"%d\")\n",
        "all_trips$month <- format(as.Date(all_trips$date), \"%m\")\n",
        "all_trips$year <- format(as.Date(all_trips$date), \"%Y\")\n",
        "all_trips$day_of_week <- format(as.Date(all_trips$started_at), \"%A\")\n"
      ],
      "metadata": {
        "id": "ycU-w0BjVBtU"
      },
      "execution_count": null,
      "outputs": []
    },
    {
      "cell_type": "code",
      "source": [
        "all_trips$ride_length <- as.duration(hms(all_trips$ride_length))\n",
        "all_trips$ride_length <- as.double(all_trips$ride_length)"
      ],
      "metadata": {
        "colab": {
          "base_uri": "https://localhost:8080/"
        },
        "id": "J3uLtRfCVYy2",
        "outputId": "1a44ea9f-dafc-4492-8565-6537880e5677"
      },
      "execution_count": null,
      "outputs": [
        {
          "output_type": "stream",
          "name": "stderr",
          "text": [
            "Warning message in .parse_hms(..., order = \"HMS\", quiet = quiet):\n",
            "“Some strings failed to parse”\n"
          ]
        }
      ]
    },
    {
      "cell_type": "markdown",
      "source": [
        "Now we can delete records that don't make sense, in order to keep the most tidy data set. This will help maintain the analysis more accurate. An I chose to create a new data frame to maintain the original dataset, I called it \"all_trips_v2\".\n",
        "\n"
      ],
      "metadata": {
        "id": "w2_rKfBMVa2r"
      }
    },
    {
      "cell_type": "code",
      "source": [
        "#The \"docked_bike\" type are bicycles that were taken for inspections so we can drop this category.\n",
        "#A started time greater than ended time is not possible, do I'll remove this records as well.\n",
        "\n",
        "all_trips_v2 <- all_trips[!(all_trips$rideable_type == 'docked_bike' | all_trips$started_at > all_trips$ended_at),]\n",
        "all_trips_v2 <- filter(all_trips_v2,nchar(all_trips_v2$ride_id)==16) #### Standard ride id should have 16 digits.\n"
      ],
      "metadata": {
        "id": "Zdp7LhE1WMss"
      },
      "execution_count": null,
      "outputs": []
    },
    {
      "cell_type": "code",
      "source": [
        "#Validation of the data\n",
        "\n",
        "table(all_trips_v2$member_casual)\n",
        "table(all_trips_v2$rideable_type)"
      ],
      "metadata": {
        "colab": {
          "base_uri": "https://localhost:8080/",
          "height": 124
        },
        "id": "cmHhkW7fWs8X",
        "outputId": "4d48d160-197d-4a1a-eb0d-9597d9760276"
      },
      "execution_count": null,
      "outputs": [
        {
          "output_type": "display_data",
          "data": {
            "text/plain": [
              "\n",
              " casual  member \n",
              "1986538 3585227 "
            ]
          },
          "metadata": {}
        },
        {
          "output_type": "display_data",
          "data": {
            "text/plain": [
              "\n",
              " classic_bike electric_bike \n",
              "      2576663       2995102 "
            ]
          },
          "metadata": {}
        }
      ]
    },
    {
      "cell_type": "markdown",
      "source": [
        "Before we can move to the analysis and visualization phase, I did a few more cleaning steps on the dataset. As I went trough the data set I found some inconsistencies on station names and information. This included extra spaces and characters, geospacial terms that weren't needed, and duplicated station ids.\n",
        "To help clean the data I worked with the divvy station dataset, an auxiliary file that have station names, location and id.\n",
        "\n",
        "The process of cleaning the station information was done in a few steps:\n",
        "- Clean both datasets (\"all_trips\" and divvy stations) to match station names.\n",
        "- Merge those files and look for errors and inconsistencies.\n",
        "\n",
        "Both these steps were done a couple times, until we had no station differences between both files.\n"
      ],
      "metadata": {
        "id": "m4Gq8tIZ1Yxv"
      }
    },
    {
      "cell_type": "code",
      "source": [
        "# Step 3: Cleaning Locations for better analysis\n",
        "\n",
        "#Cleaning an auxiliary data set from Divvy Stations Website\n",
        "#The idea is to match this auxiliary file with the main data set to get stations information right.\n",
        "divvy_stations <- read.csv('Divvy_Bicycle_Stations.csv', sep = ';')\n",
        "\n",
        "divvy_stations %>%\n",
        "  filter(is.na(str_match(Station.Name, \".*\\\\*\"))!=TRUE)\n",
        "\n",
        "divvy_stations %>%\n",
        "  filter(is.na(str_match(Station.Name, \"Public Rack - \"))!=TRUE)\n",
        "\n",
        "divvy_stations %>%\n",
        "  filter((str_detect(Station.Name, \" - SE| - SW| - South\"))==TRUE)"
      ],
      "metadata": {
        "colab": {
          "base_uri": "https://localhost:8080/",
          "height": 1000
        },
        "id": "biCR0WL8EvTR",
        "outputId": "285405ee-3a79-4039-a3ab-809a5eccbbc0"
      },
      "execution_count": null,
      "outputs": [
        {
          "output_type": "display_data",
          "data": {
            "text/html": [
              "<table class=\"dataframe\">\n",
              "<caption>A data.frame: 0 × 8</caption>\n",
              "<thead>\n",
              "\t<tr><th scope=col>ID</th><th scope=col>Station.Name</th><th scope=col>Total.Docks</th><th scope=col>Docks.in.Service</th><th scope=col>Status</th><th scope=col>Latitude</th><th scope=col>Longitude</th><th scope=col>Location</th></tr>\n",
              "\t<tr><th scope=col>&lt;dbl&gt;</th><th scope=col>&lt;chr&gt;</th><th scope=col>&lt;int&gt;</th><th scope=col>&lt;int&gt;</th><th scope=col>&lt;chr&gt;</th><th scope=col>&lt;dbl&gt;</th><th scope=col>&lt;dbl&gt;</th><th scope=col>&lt;chr&gt;</th></tr>\n",
              "</thead>\n",
              "<tbody>\n",
              "</tbody>\n",
              "</table>\n"
            ],
            "text/markdown": "\nA data.frame: 0 × 8\n\n| ID &lt;dbl&gt; | Station.Name &lt;chr&gt; | Total.Docks &lt;int&gt; | Docks.in.Service &lt;int&gt; | Status &lt;chr&gt; | Latitude &lt;dbl&gt; | Longitude &lt;dbl&gt; | Location &lt;chr&gt; |\n|---|---|---|---|---|---|---|---|\n\n",
            "text/latex": "A data.frame: 0 × 8\n\\begin{tabular}{llllllll}\n ID & Station.Name & Total.Docks & Docks.in.Service & Status & Latitude & Longitude & Location\\\\\n <dbl> & <chr> & <int> & <int> & <chr> & <dbl> & <dbl> & <chr>\\\\\n\\hline\n\\end{tabular}\n",
            "text/plain": [
              "     ID Station.Name Total.Docks Docks.in.Service Status Latitude Longitude\n",
              "     Location"
            ]
          },
          "metadata": {}
        },
        {
          "output_type": "display_data",
          "data": {
            "text/html": [
              "<table class=\"dataframe\">\n",
              "<caption>A data.frame: 569 × 8</caption>\n",
              "<thead>\n",
              "\t<tr><th scope=col>ID</th><th scope=col>Station.Name</th><th scope=col>Total.Docks</th><th scope=col>Docks.in.Service</th><th scope=col>Status</th><th scope=col>Latitude</th><th scope=col>Longitude</th><th scope=col>Location</th></tr>\n",
              "\t<tr><th scope=col>&lt;dbl&gt;</th><th scope=col>&lt;chr&gt;</th><th scope=col>&lt;int&gt;</th><th scope=col>&lt;int&gt;</th><th scope=col>&lt;chr&gt;</th><th scope=col>&lt;dbl&gt;</th><th scope=col>&lt;dbl&gt;</th><th scope=col>&lt;chr&gt;</th></tr>\n",
              "</thead>\n",
              "<tbody>\n",
              "\t<tr><td>1.57595e+18</td><td><span style=white-space:pre-wrap>Public Rack - Kildare Ave &amp; Division St            </span></td><td>9</td><td>9</td><td>In Service</td><td>41.90239</td><td>-87.73360</td><td>(41.902393, -87.733598) </td></tr>\n",
              "\t<tr><td>1.67385e+18</td><td><span style=white-space:pre-wrap>Public Rack - Francisco Ave &amp; Touhy Ave            </span></td><td>2</td><td>2</td><td>In Service</td><td>42.01187</td><td>-87.70132</td><td>(42.011865, -87.701317) </td></tr>\n",
              "\t<tr><td>1.67385e+18</td><td>Public Rack - California Ave &amp; Touhy Ave - midblock</td><td>1</td><td>1</td><td>In Service</td><td>42.01221</td><td>-87.70047</td><td>(42.012207, -87.700474) </td></tr>\n",
              "\t<tr><td>1.67385e+18</td><td><span style=white-space:pre-wrap>Public Rack - California Ave &amp; Touhy Ave - SW      </span></td><td>1</td><td>1</td><td>In Service</td><td>42.01187</td><td>-87.70041</td><td>(42.011867, -87.700407) </td></tr>\n",
              "\t<tr><td>1.67385e+18</td><td><span style=white-space:pre-wrap>Public Rack - California Ave &amp; Touhy Ave - NW      </span></td><td>1</td><td>1</td><td>In Service</td><td>42.01218</td><td>-87.69987</td><td>(42.012177, -87.699865) </td></tr>\n",
              "\t<tr><td>1.67385e+18</td><td><span style=white-space:pre-wrap>Public Rack - Rockwell Ave &amp; Touhy Ave             </span></td><td>2</td><td>2</td><td>In Service</td><td>42.01234</td><td>-87.69538</td><td>(42.012344, -87.695383) </td></tr>\n",
              "\t<tr><td>1.67419e+18</td><td>Public Rack - 111th St - Morgan Park Metra         </td><td>2</td><td>2</td><td>In Service</td><td>41.69274</td><td>-87.67057</td><td>(41.692738, -87.670569) </td></tr>\n",
              "\t<tr><td>1.67419e+18</td><td>Public Rack - 2302 S Pulaski Rd                    </td><td>1</td><td>1</td><td>In Service</td><td>41.84944</td><td>-87.72488</td><td>(41.849437, -87.724879) </td></tr>\n",
              "\t<tr><td>1.67419e+18</td><td><span style=white-space:pre-wrap>Public Rack - 63rd &amp; Western Ave N                 </span></td><td>1</td><td>1</td><td>In Service</td><td>41.77933</td><td>-87.68377</td><td>(41.779334, -87.683768) </td></tr>\n",
              "\t<tr><td>1.67419e+18</td><td>Public Rack - Abbott Park                          </td><td>2</td><td>2</td><td>In Service</td><td>41.72170</td><td>-87.62228</td><td>(41.721696, -87.622278) </td></tr>\n",
              "\t<tr><td>1.67419e+18</td><td><span style=white-space:pre-wrap>Public Rack - 63rd &amp; Western Ave S                 </span></td><td>1</td><td>1</td><td>In Service</td><td>41.77920</td><td>-87.68359</td><td>(41.779196, -87.683589) </td></tr>\n",
              "\t<tr><td>1.67419e+18</td><td>Public Rack - 83rd St (Avalon Park) Metra          </td><td>1</td><td>1</td><td>In Service</td><td>41.74392</td><td>-87.59879</td><td>(41.743916, -87.598786) </td></tr>\n",
              "\t<tr><td>1.67419e+18</td><td><span style=white-space:pre-wrap>Public Rack - Ada St &amp; 95th St                     </span></td><td>1</td><td>1</td><td>In Service</td><td>41.72158</td><td>-87.65612</td><td><span style=white-space:pre-wrap>(41.72158, -87.65612)   </span></td></tr>\n",
              "\t<tr><td>1.67419e+18</td><td><span style=white-space:pre-wrap>Public Rack - Ada St &amp; 117th St                    </span></td><td>1</td><td>1</td><td>In Service</td><td>41.68113</td><td>-87.65506</td><td>(41.681128, -87.655064) </td></tr>\n",
              "\t<tr><td>1.67419e+18</td><td>Public Rack - Al Raby School                       </td><td>3</td><td>3</td><td>In Service</td><td>41.88617</td><td>-87.71471</td><td>(41.886167, -87.714711) </td></tr>\n",
              "\t<tr><td>1.67419e+18</td><td><span style=white-space:pre-wrap>Public Rack - Albany Ave &amp; 103rd St                </span></td><td>1</td><td>1</td><td>In Service</td><td>41.70675</td><td>-87.70005</td><td>(41.706747, -87.700047) </td></tr>\n",
              "\t<tr><td>1.67419e+18</td><td>Public Rack - Archer Park                          </td><td>2</td><td>2</td><td>In Service</td><td>41.80382</td><td>-87.73551</td><td>(41.803822, -87.73551)  </td></tr>\n",
              "\t<tr><td>1.67419e+18</td><td><span style=white-space:pre-wrap>Public Rack - Albany Ave &amp; 63rd St                 </span></td><td>1</td><td>1</td><td>In Service</td><td>41.77891</td><td>-87.70084</td><td><span style=white-space:pre-wrap>(41.778906, -87.70084)  </span></td></tr>\n",
              "\t<tr><td>1.67419e+18</td><td><span style=white-space:pre-wrap>Public Rack - Albany Ave &amp; 111th St - NW           </span></td><td>1</td><td>1</td><td>In Service</td><td>41.69167</td><td>-87.69851</td><td>(41.691669, -87.698507) </td></tr>\n",
              "\t<tr><td>1.67419e+18</td><td><span style=white-space:pre-wrap>Public Rack - Ashland Ave &amp; 46th St                </span></td><td>1</td><td>1</td><td>In Service</td><td>41.81054</td><td>-87.66540</td><td>(41.810537, -87.665404) </td></tr>\n",
              "\t<tr><td>1.67419e+18</td><td><span style=white-space:pre-wrap>Public Rack - Ashland Ave &amp; 45th St                </span></td><td>1</td><td>1</td><td>In Service</td><td>41.81196</td><td>-87.66486</td><td>(41.811958, -87.664862) </td></tr>\n",
              "\t<tr><td>1.67419e+18</td><td><span style=white-space:pre-wrap>Public Rack - Ashland Ave &amp; 45th St S              </span></td><td>1</td><td>1</td><td>In Service</td><td>41.81117</td><td>-87.66474</td><td><span style=white-space:pre-wrap>(41.811169, -87.66474)  </span></td></tr>\n",
              "\t<tr><td>1.67419e+18</td><td><span style=white-space:pre-wrap>Public Rack - Austin Ave &amp; Roscoe St               </span></td><td>5</td><td>5</td><td>In Service</td><td>41.94220</td><td>-87.77647</td><td>(41.942196, -87.776472) </td></tr>\n",
              "\t<tr><td>1.67419e+18</td><td><span style=white-space:pre-wrap>Public Rack - Ashland Ave &amp; 71st St                </span></td><td>2</td><td>2</td><td>In Service</td><td>41.76577</td><td>-87.66433</td><td><span style=white-space:pre-wrap>(41.76577, -87.66433)   </span></td></tr>\n",
              "\t<tr><td>1.67419e+18</td><td><span style=white-space:pre-wrap>Public Rack - Ashland Ave &amp; 73rd St                </span></td><td>1</td><td>1</td><td>In Service</td><td>41.76082</td><td>-87.66350</td><td>(41.760817, -87.663499) </td></tr>\n",
              "\t<tr><td>1.67419e+18</td><td><span style=white-space:pre-wrap>Public Rack - Ashland Ave &amp; 76th St                </span></td><td>2</td><td>2</td><td>In Service</td><td>41.75596</td><td>-87.66391</td><td><span style=white-space:pre-wrap>(41.75596, -87.66391)   </span></td></tr>\n",
              "\t<tr><td>1.67419e+18</td><td><span style=white-space:pre-wrap>Public Rack - Austin Ave &amp; Wrightwood Ave          </span></td><td>1</td><td>1</td><td>In Service</td><td>41.92767</td><td>-87.77568</td><td>(41.927666, -87.775682) </td></tr>\n",
              "\t<tr><td>1.67419e+18</td><td><span style=white-space:pre-wrap>Public Rack - Austin Blvd &amp; North Ave              </span></td><td>1</td><td>1</td><td>In Service</td><td>41.90928</td><td>-87.77561</td><td>(41.909281, -87.775613) </td></tr>\n",
              "\t<tr><td>1.67419e+18</td><td><span style=white-space:pre-wrap>Public Rack - Austin Ave &amp; Wellington Ave          </span></td><td>1</td><td>1</td><td>In Service</td><td>41.93525</td><td>-87.77605</td><td>(41.9352453, -87.776052)</td></tr>\n",
              "\t<tr><td>1.67419e+18</td><td><span style=white-space:pre-wrap>Public Rack - Avenue J &amp; 102nd St                  </span></td><td>2</td><td>2</td><td>In Service</td><td>41.70983</td><td>-87.53424</td><td>(41.709832, -87.534238) </td></tr>\n",
              "\t<tr><td>⋮</td><td>⋮</td><td>⋮</td><td>⋮</td><td>⋮</td><td>⋮</td><td>⋮</td><td>⋮</td></tr>\n",
              "\t<tr><td>1.71582e+18</td><td><span style=white-space:pre-wrap>Public Rack - Talman Ave &amp; Pershing Rd      </span></td><td>1</td><td>1</td><td>In Service</td><td>41.82259</td><td>-87.69073</td><td><span style=white-space:pre-wrap>(41.822592, -87.690725)    </span></td></tr>\n",
              "\t<tr><td>1.71582e+18</td><td><span style=white-space:pre-wrap>Public Rack - Throop St &amp; 48t ST            </span></td><td>1</td><td>1</td><td>In Service</td><td>41.80700</td><td>-87.65794</td><td><span style=white-space:pre-wrap>(41.806999, -87.657942)    </span></td></tr>\n",
              "\t<tr><td>1.71582e+18</td><td><span style=white-space:pre-wrap>Public Rack - Loomis Blvd &amp; 47th St         </span></td><td>1</td><td>1</td><td>In Service</td><td>41.80875</td><td>-87.66026</td><td><span style=white-space:pre-wrap>(41.808746, -87.66026)     </span></td></tr>\n",
              "\t<tr><td>1.71582e+18</td><td><span style=white-space:pre-wrap>Public Rack - Hoyne Ave &amp; 51st St           </span></td><td>2</td><td>2</td><td>In Service</td><td>41.80100</td><td>-87.67677</td><td><span style=white-space:pre-wrap>(41.801001, -87.676773)    </span></td></tr>\n",
              "\t<tr><td>1.71582e+18</td><td><span style=white-space:pre-wrap>Public Rack - Oakley Ave &amp; 50th Pl          </span></td><td>1</td><td>1</td><td>In Service</td><td>41.80193</td><td>-87.68090</td><td><span style=white-space:pre-wrap>(41.80193, -87.680903)     </span></td></tr>\n",
              "\t<tr><td>1.71582e+18</td><td><span style=white-space:pre-wrap>Public Rack - Western Blvd &amp; 52nd St        </span></td><td>1</td><td>1</td><td>In Service</td><td>41.79897</td><td>-87.68191</td><td><span style=white-space:pre-wrap>(41.798974, -87.681909)    </span></td></tr>\n",
              "\t<tr><td>1.71582e+18</td><td><span style=white-space:pre-wrap>Public Rack - Kedzie Ave &amp; 54th Pl          </span></td><td>1</td><td>1</td><td>In Service</td><td>41.79464</td><td>-87.70377</td><td><span style=white-space:pre-wrap>(41.794639, -87.703767)    </span></td></tr>\n",
              "\t<tr><td>1.71582e+18</td><td><span style=white-space:pre-wrap>Public Rack - Maplewood Ave &amp; 47th St       </span></td><td>1</td><td>1</td><td>In Service</td><td>41.80841</td><td>-87.68854</td><td><span style=white-space:pre-wrap>(41.808413, -87.688535)    </span></td></tr>\n",
              "\t<tr><td>1.71582e+18</td><td><span style=white-space:pre-wrap>Public Rack - Western Ave &amp; 47th Pl         </span></td><td>1</td><td>1</td><td>In Service</td><td>41.80804</td><td>-87.68471</td><td><span style=white-space:pre-wrap>(41.808038, -87.684709)    </span></td></tr>\n",
              "\t<tr><td>1.71585e+18</td><td><span style=white-space:pre-wrap>Public Rack - Grand Ave &amp; Lawndale Ave      </span></td><td>2</td><td>2</td><td>In Service</td><td>41.90350</td><td>-87.72040</td><td><span style=white-space:pre-wrap>(41.9035, -87.7204)        </span></td></tr>\n",
              "\t<tr><td>1.71585e+18</td><td><span style=white-space:pre-wrap>Public Rack - Rockwell &amp; Division           </span></td><td>1</td><td>1</td><td>In Service</td><td>41.90282</td><td>-87.69240</td><td><span style=white-space:pre-wrap>(41.90282, -87.692397)     </span></td></tr>\n",
              "\t<tr><td>1.71585e+18</td><td><span style=white-space:pre-wrap>Public Rack - Division St &amp; Christiana Ave  </span></td><td>2</td><td>2</td><td>In Service</td><td>41.90254</td><td>-87.71085</td><td><span style=white-space:pre-wrap>(41.90254, -87.71085)      </span></td></tr>\n",
              "\t<tr><td>1.71585e+18</td><td><span style=white-space:pre-wrap>Public Rack - Sawyer Ave &amp; Chicago Ave      </span></td><td>1</td><td>1</td><td>In Service</td><td>41.89546</td><td>-87.70809</td><td><span style=white-space:pre-wrap>(41.8954597, -87.7080933)  </span></td></tr>\n",
              "\t<tr><td>1.71585e+18</td><td><span style=white-space:pre-wrap>Public Rack - Kedzie Ave &amp; Chicago Ave      </span></td><td>1</td><td>1</td><td>In Service</td><td>41.89556</td><td>-87.70641</td><td><span style=white-space:pre-wrap>(41.89556, -87.70641)      </span></td></tr>\n",
              "\t<tr><td>1.71585e+18</td><td><span style=white-space:pre-wrap>Public Rack - Kildare Ave &amp; North Ave       </span></td><td>1</td><td>1</td><td>In Service</td><td>41.90987</td><td>-87.73399</td><td><span style=white-space:pre-wrap>(41.909866, -87.73399)     </span></td></tr>\n",
              "\t<tr><td>1.71585e+18</td><td><span style=white-space:pre-wrap>Public Rack - Tripp Ave &amp; North Ave         </span></td><td>2</td><td>2</td><td>In Service</td><td>41.90995</td><td>-87.73271</td><td>(41.90995395, -87.73271446)</td></tr>\n",
              "\t<tr><td>1.71585e+18</td><td>Public Rack - Central Park Ave &amp; Fulton Blvd</td><td>2</td><td>2</td><td>In Service</td><td>41.88615</td><td>-87.71551</td><td><span style=white-space:pre-wrap>(41.8861512, -87.7155114)  </span></td></tr>\n",
              "\t<tr><td>1.71585e+18</td><td><span style=white-space:pre-wrap>Public Rack - Homan Ave &amp; Lake St           </span></td><td>2</td><td>2</td><td>In Service</td><td>41.88474</td><td>-87.71136</td><td><span style=white-space:pre-wrap>(41.88474, -87.711357)     </span></td></tr>\n",
              "\t<tr><td>1.71585e+18</td><td>Public Rack - Garfield Park Conservatory    </td><td>2</td><td>2</td><td>In Service</td><td>41.88658</td><td>-87.71665</td><td>(41.88658, -87.716646)     </td></tr>\n",
              "\t<tr><td>1.71585e+18</td><td><span style=white-space:pre-wrap>Public Rack - Kedzie Ave &amp; Walnut St        </span></td><td>1</td><td>1</td><td>In Service</td><td>41.88589</td><td>-87.70642</td><td><span style=white-space:pre-wrap>(41.885891, -87.706425)    </span></td></tr>\n",
              "\t<tr><td>1.71585e+18</td><td>Public Rack - Independence Blvd &amp; Roosevelt </td><td>1</td><td>1</td><td>In Service</td><td>41.86621</td><td>-87.71850</td><td><span style=white-space:pre-wrap>(41.8662123, -87.7184969)  </span></td></tr>\n",
              "\t<tr><td>1.71585e+18</td><td><span style=white-space:pre-wrap>Public Rack - Lawndale Ave &amp; Roosevelt      </span></td><td>2</td><td>2</td><td>In Service</td><td>41.86623</td><td>-87.71792</td><td><span style=white-space:pre-wrap>(41.866225, -87.717918)    </span></td></tr>\n",
              "\t<tr><td>1.71585e+18</td><td><span style=white-space:pre-wrap>Public Rack - St Louis Ave &amp; Flournoy St    </span></td><td>1</td><td>1</td><td>In Service</td><td>41.87278</td><td>-87.71316</td><td><span style=white-space:pre-wrap>(41.8727811, -87.7131562)  </span></td></tr>\n",
              "\t<tr><td>1.71585e+18</td><td><span style=white-space:pre-wrap>Public Rack - Homan Ave &amp; Roosevelt         </span></td><td>1</td><td>1</td><td>In Service</td><td>41.86649</td><td>-87.71079</td><td><span style=white-space:pre-wrap>(41.86649, -87.710786)     </span></td></tr>\n",
              "\t<tr><td>1.71585e+18</td><td><span style=white-space:pre-wrap>Public Rack - Kedvale Ave &amp; 26th St         </span></td><td>1</td><td>1</td><td>In Service</td><td>41.84427</td><td>-87.72810</td><td><span style=white-space:pre-wrap>(41.844265, -87.728103)    </span></td></tr>\n",
              "\t<tr><td>1.71585e+18</td><td><span style=white-space:pre-wrap>Public Rack - Komensky Ave &amp; 26th St        </span></td><td>1</td><td>1</td><td>In Service</td><td>41.84417</td><td>-87.72632</td><td><span style=white-space:pre-wrap>(41.844168, -87.726317)    </span></td></tr>\n",
              "\t<tr><td>1.71585e+18</td><td><span style=white-space:pre-wrap>Public Rack - Pulaski Rd &amp; Grenshaw St      </span></td><td>1</td><td>1</td><td>In Service</td><td>41.86703</td><td>-87.72546</td><td><span style=white-space:pre-wrap>(41.8670279, -87.7254644)  </span></td></tr>\n",
              "\t<tr><td>1.71585e+18</td><td><span style=white-space:pre-wrap>Public Rack - Washington Park Ct &amp; 51st St  </span></td><td>2</td><td>2</td><td>In Service</td><td>41.80219</td><td>-87.61514</td><td><span style=white-space:pre-wrap>(41.8021917, -87.6151444)  </span></td></tr>\n",
              "\t<tr><td>1.71585e+18</td><td><span style=white-space:pre-wrap>Public Rack - Lawndale Ave &amp; 23rd St        </span></td><td>2</td><td>2</td><td>In Service</td><td>41.84996</td><td>-87.71671</td><td><span style=white-space:pre-wrap>(41.849956, -87.716712)    </span></td></tr>\n",
              "\t<tr><td>1.71585e+18</td><td><span style=white-space:pre-wrap>Public Rack - Ashland Ave &amp; 74th St         </span></td><td>2</td><td>2</td><td>In Service</td><td>41.75973</td><td>-87.66374</td><td><span style=white-space:pre-wrap>(41.759735, -87.663736)    </span></td></tr>\n",
              "</tbody>\n",
              "</table>\n"
            ],
            "text/markdown": "\nA data.frame: 569 × 8\n\n| ID &lt;dbl&gt; | Station.Name &lt;chr&gt; | Total.Docks &lt;int&gt; | Docks.in.Service &lt;int&gt; | Status &lt;chr&gt; | Latitude &lt;dbl&gt; | Longitude &lt;dbl&gt; | Location &lt;chr&gt; |\n|---|---|---|---|---|---|---|---|\n| 1.57595e+18 | Public Rack - Kildare Ave &amp; Division St             | 9 | 9 | In Service | 41.90239 | -87.73360 | (41.902393, -87.733598)  |\n| 1.67385e+18 | Public Rack - Francisco Ave &amp; Touhy Ave             | 2 | 2 | In Service | 42.01187 | -87.70132 | (42.011865, -87.701317)  |\n| 1.67385e+18 | Public Rack - California Ave &amp; Touhy Ave - midblock | 1 | 1 | In Service | 42.01221 | -87.70047 | (42.012207, -87.700474)  |\n| 1.67385e+18 | Public Rack - California Ave &amp; Touhy Ave - SW       | 1 | 1 | In Service | 42.01187 | -87.70041 | (42.011867, -87.700407)  |\n| 1.67385e+18 | Public Rack - California Ave &amp; Touhy Ave - NW       | 1 | 1 | In Service | 42.01218 | -87.69987 | (42.012177, -87.699865)  |\n| 1.67385e+18 | Public Rack - Rockwell Ave &amp; Touhy Ave              | 2 | 2 | In Service | 42.01234 | -87.69538 | (42.012344, -87.695383)  |\n| 1.67419e+18 | Public Rack - 111th St - Morgan Park Metra          | 2 | 2 | In Service | 41.69274 | -87.67057 | (41.692738, -87.670569)  |\n| 1.67419e+18 | Public Rack - 2302 S Pulaski Rd                     | 1 | 1 | In Service | 41.84944 | -87.72488 | (41.849437, -87.724879)  |\n| 1.67419e+18 | Public Rack - 63rd &amp; Western Ave N                  | 1 | 1 | In Service | 41.77933 | -87.68377 | (41.779334, -87.683768)  |\n| 1.67419e+18 | Public Rack - Abbott Park                           | 2 | 2 | In Service | 41.72170 | -87.62228 | (41.721696, -87.622278)  |\n| 1.67419e+18 | Public Rack - 63rd &amp; Western Ave S                  | 1 | 1 | In Service | 41.77920 | -87.68359 | (41.779196, -87.683589)  |\n| 1.67419e+18 | Public Rack - 83rd St (Avalon Park) Metra           | 1 | 1 | In Service | 41.74392 | -87.59879 | (41.743916, -87.598786)  |\n| 1.67419e+18 | Public Rack - Ada St &amp; 95th St                      | 1 | 1 | In Service | 41.72158 | -87.65612 | (41.72158, -87.65612)    |\n| 1.67419e+18 | Public Rack - Ada St &amp; 117th St                     | 1 | 1 | In Service | 41.68113 | -87.65506 | (41.681128, -87.655064)  |\n| 1.67419e+18 | Public Rack - Al Raby School                        | 3 | 3 | In Service | 41.88617 | -87.71471 | (41.886167, -87.714711)  |\n| 1.67419e+18 | Public Rack - Albany Ave &amp; 103rd St                 | 1 | 1 | In Service | 41.70675 | -87.70005 | (41.706747, -87.700047)  |\n| 1.67419e+18 | Public Rack - Archer Park                           | 2 | 2 | In Service | 41.80382 | -87.73551 | (41.803822, -87.73551)   |\n| 1.67419e+18 | Public Rack - Albany Ave &amp; 63rd St                  | 1 | 1 | In Service | 41.77891 | -87.70084 | (41.778906, -87.70084)   |\n| 1.67419e+18 | Public Rack - Albany Ave &amp; 111th St - NW            | 1 | 1 | In Service | 41.69167 | -87.69851 | (41.691669, -87.698507)  |\n| 1.67419e+18 | Public Rack - Ashland Ave &amp; 46th St                 | 1 | 1 | In Service | 41.81054 | -87.66540 | (41.810537, -87.665404)  |\n| 1.67419e+18 | Public Rack - Ashland Ave &amp; 45th St                 | 1 | 1 | In Service | 41.81196 | -87.66486 | (41.811958, -87.664862)  |\n| 1.67419e+18 | Public Rack - Ashland Ave &amp; 45th St S               | 1 | 1 | In Service | 41.81117 | -87.66474 | (41.811169, -87.66474)   |\n| 1.67419e+18 | Public Rack - Austin Ave &amp; Roscoe St                | 5 | 5 | In Service | 41.94220 | -87.77647 | (41.942196, -87.776472)  |\n| 1.67419e+18 | Public Rack - Ashland Ave &amp; 71st St                 | 2 | 2 | In Service | 41.76577 | -87.66433 | (41.76577, -87.66433)    |\n| 1.67419e+18 | Public Rack - Ashland Ave &amp; 73rd St                 | 1 | 1 | In Service | 41.76082 | -87.66350 | (41.760817, -87.663499)  |\n| 1.67419e+18 | Public Rack - Ashland Ave &amp; 76th St                 | 2 | 2 | In Service | 41.75596 | -87.66391 | (41.75596, -87.66391)    |\n| 1.67419e+18 | Public Rack - Austin Ave &amp; Wrightwood Ave           | 1 | 1 | In Service | 41.92767 | -87.77568 | (41.927666, -87.775682)  |\n| 1.67419e+18 | Public Rack - Austin Blvd &amp; North Ave               | 1 | 1 | In Service | 41.90928 | -87.77561 | (41.909281, -87.775613)  |\n| 1.67419e+18 | Public Rack - Austin Ave &amp; Wellington Ave           | 1 | 1 | In Service | 41.93525 | -87.77605 | (41.9352453, -87.776052) |\n| 1.67419e+18 | Public Rack - Avenue J &amp; 102nd St                   | 2 | 2 | In Service | 41.70983 | -87.53424 | (41.709832, -87.534238)  |\n| ⋮ | ⋮ | ⋮ | ⋮ | ⋮ | ⋮ | ⋮ | ⋮ |\n| 1.71582e+18 | Public Rack - Talman Ave &amp; Pershing Rd       | 1 | 1 | In Service | 41.82259 | -87.69073 | (41.822592, -87.690725)     |\n| 1.71582e+18 | Public Rack - Throop St &amp; 48t ST             | 1 | 1 | In Service | 41.80700 | -87.65794 | (41.806999, -87.657942)     |\n| 1.71582e+18 | Public Rack - Loomis Blvd &amp; 47th St          | 1 | 1 | In Service | 41.80875 | -87.66026 | (41.808746, -87.66026)      |\n| 1.71582e+18 | Public Rack - Hoyne Ave &amp; 51st St            | 2 | 2 | In Service | 41.80100 | -87.67677 | (41.801001, -87.676773)     |\n| 1.71582e+18 | Public Rack - Oakley Ave &amp; 50th Pl           | 1 | 1 | In Service | 41.80193 | -87.68090 | (41.80193, -87.680903)      |\n| 1.71582e+18 | Public Rack - Western Blvd &amp; 52nd St         | 1 | 1 | In Service | 41.79897 | -87.68191 | (41.798974, -87.681909)     |\n| 1.71582e+18 | Public Rack - Kedzie Ave &amp; 54th Pl           | 1 | 1 | In Service | 41.79464 | -87.70377 | (41.794639, -87.703767)     |\n| 1.71582e+18 | Public Rack - Maplewood Ave &amp; 47th St        | 1 | 1 | In Service | 41.80841 | -87.68854 | (41.808413, -87.688535)     |\n| 1.71582e+18 | Public Rack - Western Ave &amp; 47th Pl          | 1 | 1 | In Service | 41.80804 | -87.68471 | (41.808038, -87.684709)     |\n| 1.71585e+18 | Public Rack - Grand Ave &amp; Lawndale Ave       | 2 | 2 | In Service | 41.90350 | -87.72040 | (41.9035, -87.7204)         |\n| 1.71585e+18 | Public Rack - Rockwell &amp; Division            | 1 | 1 | In Service | 41.90282 | -87.69240 | (41.90282, -87.692397)      |\n| 1.71585e+18 | Public Rack - Division St &amp; Christiana Ave   | 2 | 2 | In Service | 41.90254 | -87.71085 | (41.90254, -87.71085)       |\n| 1.71585e+18 | Public Rack - Sawyer Ave &amp; Chicago Ave       | 1 | 1 | In Service | 41.89546 | -87.70809 | (41.8954597, -87.7080933)   |\n| 1.71585e+18 | Public Rack - Kedzie Ave &amp; Chicago Ave       | 1 | 1 | In Service | 41.89556 | -87.70641 | (41.89556, -87.70641)       |\n| 1.71585e+18 | Public Rack - Kildare Ave &amp; North Ave        | 1 | 1 | In Service | 41.90987 | -87.73399 | (41.909866, -87.73399)      |\n| 1.71585e+18 | Public Rack - Tripp Ave &amp; North Ave          | 2 | 2 | In Service | 41.90995 | -87.73271 | (41.90995395, -87.73271446) |\n| 1.71585e+18 | Public Rack - Central Park Ave &amp; Fulton Blvd | 2 | 2 | In Service | 41.88615 | -87.71551 | (41.8861512, -87.7155114)   |\n| 1.71585e+18 | Public Rack - Homan Ave &amp; Lake St            | 2 | 2 | In Service | 41.88474 | -87.71136 | (41.88474, -87.711357)      |\n| 1.71585e+18 | Public Rack - Garfield Park Conservatory     | 2 | 2 | In Service | 41.88658 | -87.71665 | (41.88658, -87.716646)      |\n| 1.71585e+18 | Public Rack - Kedzie Ave &amp; Walnut St         | 1 | 1 | In Service | 41.88589 | -87.70642 | (41.885891, -87.706425)     |\n| 1.71585e+18 | Public Rack - Independence Blvd &amp; Roosevelt  | 1 | 1 | In Service | 41.86621 | -87.71850 | (41.8662123, -87.7184969)   |\n| 1.71585e+18 | Public Rack - Lawndale Ave &amp; Roosevelt       | 2 | 2 | In Service | 41.86623 | -87.71792 | (41.866225, -87.717918)     |\n| 1.71585e+18 | Public Rack - St Louis Ave &amp; Flournoy St     | 1 | 1 | In Service | 41.87278 | -87.71316 | (41.8727811, -87.7131562)   |\n| 1.71585e+18 | Public Rack - Homan Ave &amp; Roosevelt          | 1 | 1 | In Service | 41.86649 | -87.71079 | (41.86649, -87.710786)      |\n| 1.71585e+18 | Public Rack - Kedvale Ave &amp; 26th St          | 1 | 1 | In Service | 41.84427 | -87.72810 | (41.844265, -87.728103)     |\n| 1.71585e+18 | Public Rack - Komensky Ave &amp; 26th St         | 1 | 1 | In Service | 41.84417 | -87.72632 | (41.844168, -87.726317)     |\n| 1.71585e+18 | Public Rack - Pulaski Rd &amp; Grenshaw St       | 1 | 1 | In Service | 41.86703 | -87.72546 | (41.8670279, -87.7254644)   |\n| 1.71585e+18 | Public Rack - Washington Park Ct &amp; 51st St   | 2 | 2 | In Service | 41.80219 | -87.61514 | (41.8021917, -87.6151444)   |\n| 1.71585e+18 | Public Rack - Lawndale Ave &amp; 23rd St         | 2 | 2 | In Service | 41.84996 | -87.71671 | (41.849956, -87.716712)     |\n| 1.71585e+18 | Public Rack - Ashland Ave &amp; 74th St          | 2 | 2 | In Service | 41.75973 | -87.66374 | (41.759735, -87.663736)     |\n\n",
            "text/latex": "A data.frame: 569 × 8\n\\begin{tabular}{llllllll}\n ID & Station.Name & Total.Docks & Docks.in.Service & Status & Latitude & Longitude & Location\\\\\n <dbl> & <chr> & <int> & <int> & <chr> & <dbl> & <dbl> & <chr>\\\\\n\\hline\n\t 1.57595e+18 & Public Rack - Kildare Ave \\& Division St             & 9 & 9 & In Service & 41.90239 & -87.73360 & (41.902393, -87.733598) \\\\\n\t 1.67385e+18 & Public Rack - Francisco Ave \\& Touhy Ave             & 2 & 2 & In Service & 42.01187 & -87.70132 & (42.011865, -87.701317) \\\\\n\t 1.67385e+18 & Public Rack - California Ave \\& Touhy Ave - midblock & 1 & 1 & In Service & 42.01221 & -87.70047 & (42.012207, -87.700474) \\\\\n\t 1.67385e+18 & Public Rack - California Ave \\& Touhy Ave - SW       & 1 & 1 & In Service & 42.01187 & -87.70041 & (42.011867, -87.700407) \\\\\n\t 1.67385e+18 & Public Rack - California Ave \\& Touhy Ave - NW       & 1 & 1 & In Service & 42.01218 & -87.69987 & (42.012177, -87.699865) \\\\\n\t 1.67385e+18 & Public Rack - Rockwell Ave \\& Touhy Ave              & 2 & 2 & In Service & 42.01234 & -87.69538 & (42.012344, -87.695383) \\\\\n\t 1.67419e+18 & Public Rack - 111th St - Morgan Park Metra          & 2 & 2 & In Service & 41.69274 & -87.67057 & (41.692738, -87.670569) \\\\\n\t 1.67419e+18 & Public Rack - 2302 S Pulaski Rd                     & 1 & 1 & In Service & 41.84944 & -87.72488 & (41.849437, -87.724879) \\\\\n\t 1.67419e+18 & Public Rack - 63rd \\& Western Ave N                  & 1 & 1 & In Service & 41.77933 & -87.68377 & (41.779334, -87.683768) \\\\\n\t 1.67419e+18 & Public Rack - Abbott Park                           & 2 & 2 & In Service & 41.72170 & -87.62228 & (41.721696, -87.622278) \\\\\n\t 1.67419e+18 & Public Rack - 63rd \\& Western Ave S                  & 1 & 1 & In Service & 41.77920 & -87.68359 & (41.779196, -87.683589) \\\\\n\t 1.67419e+18 & Public Rack - 83rd St (Avalon Park) Metra           & 1 & 1 & In Service & 41.74392 & -87.59879 & (41.743916, -87.598786) \\\\\n\t 1.67419e+18 & Public Rack - Ada St \\& 95th St                      & 1 & 1 & In Service & 41.72158 & -87.65612 & (41.72158, -87.65612)   \\\\\n\t 1.67419e+18 & Public Rack - Ada St \\& 117th St                     & 1 & 1 & In Service & 41.68113 & -87.65506 & (41.681128, -87.655064) \\\\\n\t 1.67419e+18 & Public Rack - Al Raby School                        & 3 & 3 & In Service & 41.88617 & -87.71471 & (41.886167, -87.714711) \\\\\n\t 1.67419e+18 & Public Rack - Albany Ave \\& 103rd St                 & 1 & 1 & In Service & 41.70675 & -87.70005 & (41.706747, -87.700047) \\\\\n\t 1.67419e+18 & Public Rack - Archer Park                           & 2 & 2 & In Service & 41.80382 & -87.73551 & (41.803822, -87.73551)  \\\\\n\t 1.67419e+18 & Public Rack - Albany Ave \\& 63rd St                  & 1 & 1 & In Service & 41.77891 & -87.70084 & (41.778906, -87.70084)  \\\\\n\t 1.67419e+18 & Public Rack - Albany Ave \\& 111th St - NW            & 1 & 1 & In Service & 41.69167 & -87.69851 & (41.691669, -87.698507) \\\\\n\t 1.67419e+18 & Public Rack - Ashland Ave \\& 46th St                 & 1 & 1 & In Service & 41.81054 & -87.66540 & (41.810537, -87.665404) \\\\\n\t 1.67419e+18 & Public Rack - Ashland Ave \\& 45th St                 & 1 & 1 & In Service & 41.81196 & -87.66486 & (41.811958, -87.664862) \\\\\n\t 1.67419e+18 & Public Rack - Ashland Ave \\& 45th St S               & 1 & 1 & In Service & 41.81117 & -87.66474 & (41.811169, -87.66474)  \\\\\n\t 1.67419e+18 & Public Rack - Austin Ave \\& Roscoe St                & 5 & 5 & In Service & 41.94220 & -87.77647 & (41.942196, -87.776472) \\\\\n\t 1.67419e+18 & Public Rack - Ashland Ave \\& 71st St                 & 2 & 2 & In Service & 41.76577 & -87.66433 & (41.76577, -87.66433)   \\\\\n\t 1.67419e+18 & Public Rack - Ashland Ave \\& 73rd St                 & 1 & 1 & In Service & 41.76082 & -87.66350 & (41.760817, -87.663499) \\\\\n\t 1.67419e+18 & Public Rack - Ashland Ave \\& 76th St                 & 2 & 2 & In Service & 41.75596 & -87.66391 & (41.75596, -87.66391)   \\\\\n\t 1.67419e+18 & Public Rack - Austin Ave \\& Wrightwood Ave           & 1 & 1 & In Service & 41.92767 & -87.77568 & (41.927666, -87.775682) \\\\\n\t 1.67419e+18 & Public Rack - Austin Blvd \\& North Ave               & 1 & 1 & In Service & 41.90928 & -87.77561 & (41.909281, -87.775613) \\\\\n\t 1.67419e+18 & Public Rack - Austin Ave \\& Wellington Ave           & 1 & 1 & In Service & 41.93525 & -87.77605 & (41.9352453, -87.776052)\\\\\n\t 1.67419e+18 & Public Rack - Avenue J \\& 102nd St                   & 2 & 2 & In Service & 41.70983 & -87.53424 & (41.709832, -87.534238) \\\\\n\t ⋮ & ⋮ & ⋮ & ⋮ & ⋮ & ⋮ & ⋮ & ⋮\\\\\n\t 1.71582e+18 & Public Rack - Talman Ave \\& Pershing Rd       & 1 & 1 & In Service & 41.82259 & -87.69073 & (41.822592, -87.690725)    \\\\\n\t 1.71582e+18 & Public Rack - Throop St \\& 48t ST             & 1 & 1 & In Service & 41.80700 & -87.65794 & (41.806999, -87.657942)    \\\\\n\t 1.71582e+18 & Public Rack - Loomis Blvd \\& 47th St          & 1 & 1 & In Service & 41.80875 & -87.66026 & (41.808746, -87.66026)     \\\\\n\t 1.71582e+18 & Public Rack - Hoyne Ave \\& 51st St            & 2 & 2 & In Service & 41.80100 & -87.67677 & (41.801001, -87.676773)    \\\\\n\t 1.71582e+18 & Public Rack - Oakley Ave \\& 50th Pl           & 1 & 1 & In Service & 41.80193 & -87.68090 & (41.80193, -87.680903)     \\\\\n\t 1.71582e+18 & Public Rack - Western Blvd \\& 52nd St         & 1 & 1 & In Service & 41.79897 & -87.68191 & (41.798974, -87.681909)    \\\\\n\t 1.71582e+18 & Public Rack - Kedzie Ave \\& 54th Pl           & 1 & 1 & In Service & 41.79464 & -87.70377 & (41.794639, -87.703767)    \\\\\n\t 1.71582e+18 & Public Rack - Maplewood Ave \\& 47th St        & 1 & 1 & In Service & 41.80841 & -87.68854 & (41.808413, -87.688535)    \\\\\n\t 1.71582e+18 & Public Rack - Western Ave \\& 47th Pl          & 1 & 1 & In Service & 41.80804 & -87.68471 & (41.808038, -87.684709)    \\\\\n\t 1.71585e+18 & Public Rack - Grand Ave \\& Lawndale Ave       & 2 & 2 & In Service & 41.90350 & -87.72040 & (41.9035, -87.7204)        \\\\\n\t 1.71585e+18 & Public Rack - Rockwell \\& Division            & 1 & 1 & In Service & 41.90282 & -87.69240 & (41.90282, -87.692397)     \\\\\n\t 1.71585e+18 & Public Rack - Division St \\& Christiana Ave   & 2 & 2 & In Service & 41.90254 & -87.71085 & (41.90254, -87.71085)      \\\\\n\t 1.71585e+18 & Public Rack - Sawyer Ave \\& Chicago Ave       & 1 & 1 & In Service & 41.89546 & -87.70809 & (41.8954597, -87.7080933)  \\\\\n\t 1.71585e+18 & Public Rack - Kedzie Ave \\& Chicago Ave       & 1 & 1 & In Service & 41.89556 & -87.70641 & (41.89556, -87.70641)      \\\\\n\t 1.71585e+18 & Public Rack - Kildare Ave \\& North Ave        & 1 & 1 & In Service & 41.90987 & -87.73399 & (41.909866, -87.73399)     \\\\\n\t 1.71585e+18 & Public Rack - Tripp Ave \\& North Ave          & 2 & 2 & In Service & 41.90995 & -87.73271 & (41.90995395, -87.73271446)\\\\\n\t 1.71585e+18 & Public Rack - Central Park Ave \\& Fulton Blvd & 2 & 2 & In Service & 41.88615 & -87.71551 & (41.8861512, -87.7155114)  \\\\\n\t 1.71585e+18 & Public Rack - Homan Ave \\& Lake St            & 2 & 2 & In Service & 41.88474 & -87.71136 & (41.88474, -87.711357)     \\\\\n\t 1.71585e+18 & Public Rack - Garfield Park Conservatory     & 2 & 2 & In Service & 41.88658 & -87.71665 & (41.88658, -87.716646)     \\\\\n\t 1.71585e+18 & Public Rack - Kedzie Ave \\& Walnut St         & 1 & 1 & In Service & 41.88589 & -87.70642 & (41.885891, -87.706425)    \\\\\n\t 1.71585e+18 & Public Rack - Independence Blvd \\& Roosevelt  & 1 & 1 & In Service & 41.86621 & -87.71850 & (41.8662123, -87.7184969)  \\\\\n\t 1.71585e+18 & Public Rack - Lawndale Ave \\& Roosevelt       & 2 & 2 & In Service & 41.86623 & -87.71792 & (41.866225, -87.717918)    \\\\\n\t 1.71585e+18 & Public Rack - St Louis Ave \\& Flournoy St     & 1 & 1 & In Service & 41.87278 & -87.71316 & (41.8727811, -87.7131562)  \\\\\n\t 1.71585e+18 & Public Rack - Homan Ave \\& Roosevelt          & 1 & 1 & In Service & 41.86649 & -87.71079 & (41.86649, -87.710786)     \\\\\n\t 1.71585e+18 & Public Rack - Kedvale Ave \\& 26th St          & 1 & 1 & In Service & 41.84427 & -87.72810 & (41.844265, -87.728103)    \\\\\n\t 1.71585e+18 & Public Rack - Komensky Ave \\& 26th St         & 1 & 1 & In Service & 41.84417 & -87.72632 & (41.844168, -87.726317)    \\\\\n\t 1.71585e+18 & Public Rack - Pulaski Rd \\& Grenshaw St       & 1 & 1 & In Service & 41.86703 & -87.72546 & (41.8670279, -87.7254644)  \\\\\n\t 1.71585e+18 & Public Rack - Washington Park Ct \\& 51st St   & 2 & 2 & In Service & 41.80219 & -87.61514 & (41.8021917, -87.6151444)  \\\\\n\t 1.71585e+18 & Public Rack - Lawndale Ave \\& 23rd St         & 2 & 2 & In Service & 41.84996 & -87.71671 & (41.849956, -87.716712)    \\\\\n\t 1.71585e+18 & Public Rack - Ashland Ave \\& 74th St          & 2 & 2 & In Service & 41.75973 & -87.66374 & (41.759735, -87.663736)    \\\\\n\\end{tabular}\n",
            "text/plain": [
              "    ID          Station.Name                                        Total.Docks\n",
              "1   1.57595e+18 Public Rack - Kildare Ave & Division St             9          \n",
              "2   1.67385e+18 Public Rack - Francisco Ave & Touhy Ave             2          \n",
              "3   1.67385e+18 Public Rack - California Ave & Touhy Ave - midblock 1          \n",
              "4   1.67385e+18 Public Rack - California Ave & Touhy Ave - SW       1          \n",
              "5   1.67385e+18 Public Rack - California Ave & Touhy Ave - NW       1          \n",
              "6   1.67385e+18 Public Rack - Rockwell Ave & Touhy Ave              2          \n",
              "7   1.67419e+18 Public Rack - 111th St - Morgan Park Metra          2          \n",
              "8   1.67419e+18 Public Rack - 2302 S Pulaski Rd                     1          \n",
              "9   1.67419e+18 Public Rack - 63rd & Western Ave N                  1          \n",
              "10  1.67419e+18 Public Rack - Abbott Park                           2          \n",
              "11  1.67419e+18 Public Rack - 63rd & Western Ave S                  1          \n",
              "12  1.67419e+18 Public Rack - 83rd St (Avalon Park) Metra           1          \n",
              "13  1.67419e+18 Public Rack - Ada St & 95th St                      1          \n",
              "14  1.67419e+18 Public Rack - Ada St & 117th St                     1          \n",
              "15  1.67419e+18 Public Rack - Al Raby School                        3          \n",
              "16  1.67419e+18 Public Rack - Albany Ave & 103rd St                 1          \n",
              "17  1.67419e+18 Public Rack - Archer Park                           2          \n",
              "18  1.67419e+18 Public Rack - Albany Ave & 63rd St                  1          \n",
              "19  1.67419e+18 Public Rack - Albany Ave & 111th St - NW            1          \n",
              "20  1.67419e+18 Public Rack - Ashland Ave & 46th St                 1          \n",
              "21  1.67419e+18 Public Rack - Ashland Ave & 45th St                 1          \n",
              "22  1.67419e+18 Public Rack - Ashland Ave & 45th St S               1          \n",
              "23  1.67419e+18 Public Rack - Austin Ave & Roscoe St                5          \n",
              "24  1.67419e+18 Public Rack - Ashland Ave & 71st St                 2          \n",
              "25  1.67419e+18 Public Rack - Ashland Ave & 73rd St                 1          \n",
              "26  1.67419e+18 Public Rack - Ashland Ave & 76th St                 2          \n",
              "27  1.67419e+18 Public Rack - Austin Ave & Wrightwood Ave           1          \n",
              "28  1.67419e+18 Public Rack - Austin Blvd & North Ave               1          \n",
              "29  1.67419e+18 Public Rack - Austin Ave & Wellington Ave           1          \n",
              "30  1.67419e+18 Public Rack - Avenue J & 102nd St                   2          \n",
              "⋮   ⋮           ⋮                                                   ⋮          \n",
              "540 1.71582e+18 Public Rack - Talman Ave & Pershing Rd              1          \n",
              "541 1.71582e+18 Public Rack - Throop St & 48t ST                    1          \n",
              "542 1.71582e+18 Public Rack - Loomis Blvd & 47th St                 1          \n",
              "543 1.71582e+18 Public Rack - Hoyne Ave & 51st St                   2          \n",
              "544 1.71582e+18 Public Rack - Oakley Ave & 50th Pl                  1          \n",
              "545 1.71582e+18 Public Rack - Western Blvd & 52nd St                1          \n",
              "546 1.71582e+18 Public Rack - Kedzie Ave & 54th Pl                  1          \n",
              "547 1.71582e+18 Public Rack - Maplewood Ave & 47th St               1          \n",
              "548 1.71582e+18 Public Rack - Western Ave & 47th Pl                 1          \n",
              "549 1.71585e+18 Public Rack - Grand Ave & Lawndale Ave              2          \n",
              "550 1.71585e+18 Public Rack - Rockwell & Division                   1          \n",
              "551 1.71585e+18 Public Rack - Division St & Christiana Ave          2          \n",
              "552 1.71585e+18 Public Rack - Sawyer Ave & Chicago Ave              1          \n",
              "553 1.71585e+18 Public Rack - Kedzie Ave & Chicago Ave              1          \n",
              "554 1.71585e+18 Public Rack - Kildare Ave & North Ave               1          \n",
              "555 1.71585e+18 Public Rack - Tripp Ave & North Ave                 2          \n",
              "556 1.71585e+18 Public Rack - Central Park Ave & Fulton Blvd        2          \n",
              "557 1.71585e+18 Public Rack - Homan Ave & Lake St                   2          \n",
              "558 1.71585e+18 Public Rack - Garfield Park Conservatory            2          \n",
              "559 1.71585e+18 Public Rack - Kedzie Ave & Walnut St                1          \n",
              "560 1.71585e+18 Public Rack - Independence Blvd & Roosevelt         1          \n",
              "561 1.71585e+18 Public Rack - Lawndale Ave & Roosevelt              2          \n",
              "562 1.71585e+18 Public Rack - St Louis Ave & Flournoy St            1          \n",
              "563 1.71585e+18 Public Rack - Homan Ave & Roosevelt                 1          \n",
              "564 1.71585e+18 Public Rack - Kedvale Ave & 26th St                 1          \n",
              "565 1.71585e+18 Public Rack - Komensky Ave & 26th St                1          \n",
              "566 1.71585e+18 Public Rack - Pulaski Rd & Grenshaw St              1          \n",
              "567 1.71585e+18 Public Rack - Washington Park Ct & 51st St          2          \n",
              "568 1.71585e+18 Public Rack - Lawndale Ave & 23rd St                2          \n",
              "569 1.71585e+18 Public Rack - Ashland Ave & 74th St                 2          \n",
              "    Docks.in.Service Status     Latitude Longitude Location                   \n",
              "1   9                In Service 41.90239 -87.73360 (41.902393, -87.733598)    \n",
              "2   2                In Service 42.01187 -87.70132 (42.011865, -87.701317)    \n",
              "3   1                In Service 42.01221 -87.70047 (42.012207, -87.700474)    \n",
              "4   1                In Service 42.01187 -87.70041 (42.011867, -87.700407)    \n",
              "5   1                In Service 42.01218 -87.69987 (42.012177, -87.699865)    \n",
              "6   2                In Service 42.01234 -87.69538 (42.012344, -87.695383)    \n",
              "7   2                In Service 41.69274 -87.67057 (41.692738, -87.670569)    \n",
              "8   1                In Service 41.84944 -87.72488 (41.849437, -87.724879)    \n",
              "9   1                In Service 41.77933 -87.68377 (41.779334, -87.683768)    \n",
              "10  2                In Service 41.72170 -87.62228 (41.721696, -87.622278)    \n",
              "11  1                In Service 41.77920 -87.68359 (41.779196, -87.683589)    \n",
              "12  1                In Service 41.74392 -87.59879 (41.743916, -87.598786)    \n",
              "13  1                In Service 41.72158 -87.65612 (41.72158, -87.65612)      \n",
              "14  1                In Service 41.68113 -87.65506 (41.681128, -87.655064)    \n",
              "15  3                In Service 41.88617 -87.71471 (41.886167, -87.714711)    \n",
              "16  1                In Service 41.70675 -87.70005 (41.706747, -87.700047)    \n",
              "17  2                In Service 41.80382 -87.73551 (41.803822, -87.73551)     \n",
              "18  1                In Service 41.77891 -87.70084 (41.778906, -87.70084)     \n",
              "19  1                In Service 41.69167 -87.69851 (41.691669, -87.698507)    \n",
              "20  1                In Service 41.81054 -87.66540 (41.810537, -87.665404)    \n",
              "21  1                In Service 41.81196 -87.66486 (41.811958, -87.664862)    \n",
              "22  1                In Service 41.81117 -87.66474 (41.811169, -87.66474)     \n",
              "23  5                In Service 41.94220 -87.77647 (41.942196, -87.776472)    \n",
              "24  2                In Service 41.76577 -87.66433 (41.76577, -87.66433)      \n",
              "25  1                In Service 41.76082 -87.66350 (41.760817, -87.663499)    \n",
              "26  2                In Service 41.75596 -87.66391 (41.75596, -87.66391)      \n",
              "27  1                In Service 41.92767 -87.77568 (41.927666, -87.775682)    \n",
              "28  1                In Service 41.90928 -87.77561 (41.909281, -87.775613)    \n",
              "29  1                In Service 41.93525 -87.77605 (41.9352453, -87.776052)   \n",
              "30  2                In Service 41.70983 -87.53424 (41.709832, -87.534238)    \n",
              "⋮   ⋮                ⋮          ⋮        ⋮         ⋮                          \n",
              "540 1                In Service 41.82259 -87.69073 (41.822592, -87.690725)    \n",
              "541 1                In Service 41.80700 -87.65794 (41.806999, -87.657942)    \n",
              "542 1                In Service 41.80875 -87.66026 (41.808746, -87.66026)     \n",
              "543 2                In Service 41.80100 -87.67677 (41.801001, -87.676773)    \n",
              "544 1                In Service 41.80193 -87.68090 (41.80193, -87.680903)     \n",
              "545 1                In Service 41.79897 -87.68191 (41.798974, -87.681909)    \n",
              "546 1                In Service 41.79464 -87.70377 (41.794639, -87.703767)    \n",
              "547 1                In Service 41.80841 -87.68854 (41.808413, -87.688535)    \n",
              "548 1                In Service 41.80804 -87.68471 (41.808038, -87.684709)    \n",
              "549 2                In Service 41.90350 -87.72040 (41.9035, -87.7204)        \n",
              "550 1                In Service 41.90282 -87.69240 (41.90282, -87.692397)     \n",
              "551 2                In Service 41.90254 -87.71085 (41.90254, -87.71085)      \n",
              "552 1                In Service 41.89546 -87.70809 (41.8954597, -87.7080933)  \n",
              "553 1                In Service 41.89556 -87.70641 (41.89556, -87.70641)      \n",
              "554 1                In Service 41.90987 -87.73399 (41.909866, -87.73399)     \n",
              "555 2                In Service 41.90995 -87.73271 (41.90995395, -87.73271446)\n",
              "556 2                In Service 41.88615 -87.71551 (41.8861512, -87.7155114)  \n",
              "557 2                In Service 41.88474 -87.71136 (41.88474, -87.711357)     \n",
              "558 2                In Service 41.88658 -87.71665 (41.88658, -87.716646)     \n",
              "559 1                In Service 41.88589 -87.70642 (41.885891, -87.706425)    \n",
              "560 1                In Service 41.86621 -87.71850 (41.8662123, -87.7184969)  \n",
              "561 2                In Service 41.86623 -87.71792 (41.866225, -87.717918)    \n",
              "562 1                In Service 41.87278 -87.71316 (41.8727811, -87.7131562)  \n",
              "563 1                In Service 41.86649 -87.71079 (41.86649, -87.710786)     \n",
              "564 1                In Service 41.84427 -87.72810 (41.844265, -87.728103)    \n",
              "565 1                In Service 41.84417 -87.72632 (41.844168, -87.726317)    \n",
              "566 1                In Service 41.86703 -87.72546 (41.8670279, -87.7254644)  \n",
              "567 2                In Service 41.80219 -87.61514 (41.8021917, -87.6151444)  \n",
              "568 2                In Service 41.84996 -87.71671 (41.849956, -87.716712)    \n",
              "569 2                In Service 41.75973 -87.66374 (41.759735, -87.663736)    "
            ]
          },
          "metadata": {}
        },
        {
          "output_type": "display_data",
          "data": {
            "text/html": [
              "<table class=\"dataframe\">\n",
              "<caption>A data.frame: 15 × 8</caption>\n",
              "<thead>\n",
              "\t<tr><th scope=col>ID</th><th scope=col>Station.Name</th><th scope=col>Total.Docks</th><th scope=col>Docks.in.Service</th><th scope=col>Status</th><th scope=col>Latitude</th><th scope=col>Longitude</th><th scope=col>Location</th></tr>\n",
              "\t<tr><th scope=col>&lt;dbl&gt;</th><th scope=col>&lt;chr&gt;</th><th scope=col>&lt;int&gt;</th><th scope=col>&lt;int&gt;</th><th scope=col>&lt;chr&gt;</th><th scope=col>&lt;dbl&gt;</th><th scope=col>&lt;dbl&gt;</th><th scope=col>&lt;chr&gt;</th></tr>\n",
              "</thead>\n",
              "<tbody>\n",
              "\t<tr><td>1.67385e+18</td><td>Public Rack - California Ave &amp; Touhy Ave - SW</td><td>1</td><td>1</td><td>In Service</td><td>42.01187</td><td>-87.70041</td><td><span style=white-space:pre-wrap>(42.011867, -87.700407)  </span></td></tr>\n",
              "\t<tr><td>1.67419e+18</td><td><span style=white-space:pre-wrap>Public Rack - Halsted St &amp; 95th St - SW      </span></td><td>1</td><td>1</td><td>In Service</td><td>41.72096</td><td>-87.64345</td><td><span style=white-space:pre-wrap>(41.720964, -87.643447)  </span></td></tr>\n",
              "\t<tr><td>1.67419e+18</td><td><span style=white-space:pre-wrap>Public Rack - Halsted St &amp; 95th St - SE      </span></td><td>3</td><td>3</td><td>In Service</td><td>41.72100</td><td>-87.64303</td><td><span style=white-space:pre-wrap>(41.721004, -87.643031)  </span></td></tr>\n",
              "\t<tr><td>1.67419e+18</td><td><span style=white-space:pre-wrap>Public Rack - Honore St &amp; 87th St - SE       </span></td><td>1</td><td>1</td><td>In Service</td><td>41.73548</td><td>-87.66889</td><td><span style=white-space:pre-wrap>(41.735485, -87.668889)  </span></td></tr>\n",
              "\t<tr><td>1.67419e+18</td><td><span style=white-space:pre-wrap>Public Rack - Kedzie Ave &amp; 54th St - SE      </span></td><td>1</td><td>1</td><td>In Service</td><td>41.79433</td><td>-87.70347</td><td><span style=white-space:pre-wrap>(41.794326, -87.703471)  </span></td></tr>\n",
              "\t<tr><td>1.67419e+18</td><td><span style=white-space:pre-wrap>Public Rack - Kedzie Ave &amp; 54th St - SW      </span></td><td>1</td><td>1</td><td>In Service</td><td>41.79522</td><td>-87.70372</td><td><span style=white-space:pre-wrap>(41.795222, -87.703719)  </span></td></tr>\n",
              "\t<tr><td>1.67419e+18</td><td><span style=white-space:pre-wrap>Public Rack - Kedzie Ave &amp; 64th St - SE      </span></td><td>1</td><td>1</td><td>In Service</td><td>41.77699</td><td>-87.70292</td><td><span style=white-space:pre-wrap>(41.776985, -87.702916)  </span></td></tr>\n",
              "\t<tr><td>1.67419e+18</td><td><span style=white-space:pre-wrap>Public Rack - Kedzie Ave &amp; 64th St - SW      </span></td><td>2</td><td>2</td><td>In Service</td><td>41.77703</td><td>-87.70322</td><td><span style=white-space:pre-wrap>(41.777031, -87.703223)  </span></td></tr>\n",
              "\t<tr><td>1.67419e+18</td><td>Public Rack - Mt Greenwood Library - South   </td><td>2</td><td>2</td><td>In Service</td><td>41.69288</td><td>-87.70105</td><td>(41.692883, -87.701048)  </td></tr>\n",
              "\t<tr><td>1.67419e+18</td><td>Public Rack - South Shore High School        </td><td>3</td><td>3</td><td>In Service</td><td>41.75644</td><td>-87.57956</td><td>(41.756444, -87.579556)  </td></tr>\n",
              "\t<tr><td>1.67419e+18</td><td><span style=white-space:pre-wrap>Public Rack - Western Ave &amp; 111th St - SW    </span></td><td>2</td><td>2</td><td>In Service</td><td>41.69161</td><td>-87.68152</td><td><span style=white-space:pre-wrap>(41.69161, -87.681523)   </span></td></tr>\n",
              "\t<tr><td>1.67725e+18</td><td>Public Rack - Sawyer Ave &amp; Bryn Mawr Ave - SW</td><td>1</td><td>1</td><td>In Service</td><td>41.98288</td><td>-87.71053</td><td><span style=white-space:pre-wrap>(41.982879, -87.710534)  </span></td></tr>\n",
              "\t<tr><td>1.67725e+18</td><td>Public Rack - Sawyer Ave &amp; Bryn Mawr Ave - SE</td><td>1</td><td>1</td><td>In Service</td><td>41.98302</td><td>-87.70970</td><td>(41.9830174, -87.7096999)</td></tr>\n",
              "\t<tr><td>1.67725e+18</td><td><span style=white-space:pre-wrap>Public Rack - Western Ave &amp; 111th St - SE    </span></td><td>1</td><td>1</td><td>In Service</td><td>41.69167</td><td>-87.68102</td><td><span style=white-space:pre-wrap>(41.691665, -87.681022)  </span></td></tr>\n",
              "\t<tr><td>1.68353e+18</td><td><span style=white-space:pre-wrap>Public Rack - South Shore Dr &amp; 71st St       </span></td><td>2</td><td>2</td><td>In Service</td><td>41.76621</td><td>-87.56279</td><td><span style=white-space:pre-wrap>(41.766206, -87.562789)  </span></td></tr>\n",
              "</tbody>\n",
              "</table>\n"
            ],
            "text/markdown": "\nA data.frame: 15 × 8\n\n| ID &lt;dbl&gt; | Station.Name &lt;chr&gt; | Total.Docks &lt;int&gt; | Docks.in.Service &lt;int&gt; | Status &lt;chr&gt; | Latitude &lt;dbl&gt; | Longitude &lt;dbl&gt; | Location &lt;chr&gt; |\n|---|---|---|---|---|---|---|---|\n| 1.67385e+18 | Public Rack - California Ave &amp; Touhy Ave - SW | 1 | 1 | In Service | 42.01187 | -87.70041 | (42.011867, -87.700407)   |\n| 1.67419e+18 | Public Rack - Halsted St &amp; 95th St - SW       | 1 | 1 | In Service | 41.72096 | -87.64345 | (41.720964, -87.643447)   |\n| 1.67419e+18 | Public Rack - Halsted St &amp; 95th St - SE       | 3 | 3 | In Service | 41.72100 | -87.64303 | (41.721004, -87.643031)   |\n| 1.67419e+18 | Public Rack - Honore St &amp; 87th St - SE        | 1 | 1 | In Service | 41.73548 | -87.66889 | (41.735485, -87.668889)   |\n| 1.67419e+18 | Public Rack - Kedzie Ave &amp; 54th St - SE       | 1 | 1 | In Service | 41.79433 | -87.70347 | (41.794326, -87.703471)   |\n| 1.67419e+18 | Public Rack - Kedzie Ave &amp; 54th St - SW       | 1 | 1 | In Service | 41.79522 | -87.70372 | (41.795222, -87.703719)   |\n| 1.67419e+18 | Public Rack - Kedzie Ave &amp; 64th St - SE       | 1 | 1 | In Service | 41.77699 | -87.70292 | (41.776985, -87.702916)   |\n| 1.67419e+18 | Public Rack - Kedzie Ave &amp; 64th St - SW       | 2 | 2 | In Service | 41.77703 | -87.70322 | (41.777031, -87.703223)   |\n| 1.67419e+18 | Public Rack - Mt Greenwood Library - South    | 2 | 2 | In Service | 41.69288 | -87.70105 | (41.692883, -87.701048)   |\n| 1.67419e+18 | Public Rack - South Shore High School         | 3 | 3 | In Service | 41.75644 | -87.57956 | (41.756444, -87.579556)   |\n| 1.67419e+18 | Public Rack - Western Ave &amp; 111th St - SW     | 2 | 2 | In Service | 41.69161 | -87.68152 | (41.69161, -87.681523)    |\n| 1.67725e+18 | Public Rack - Sawyer Ave &amp; Bryn Mawr Ave - SW | 1 | 1 | In Service | 41.98288 | -87.71053 | (41.982879, -87.710534)   |\n| 1.67725e+18 | Public Rack - Sawyer Ave &amp; Bryn Mawr Ave - SE | 1 | 1 | In Service | 41.98302 | -87.70970 | (41.9830174, -87.7096999) |\n| 1.67725e+18 | Public Rack - Western Ave &amp; 111th St - SE     | 1 | 1 | In Service | 41.69167 | -87.68102 | (41.691665, -87.681022)   |\n| 1.68353e+18 | Public Rack - South Shore Dr &amp; 71st St        | 2 | 2 | In Service | 41.76621 | -87.56279 | (41.766206, -87.562789)   |\n\n",
            "text/latex": "A data.frame: 15 × 8\n\\begin{tabular}{llllllll}\n ID & Station.Name & Total.Docks & Docks.in.Service & Status & Latitude & Longitude & Location\\\\\n <dbl> & <chr> & <int> & <int> & <chr> & <dbl> & <dbl> & <chr>\\\\\n\\hline\n\t 1.67385e+18 & Public Rack - California Ave \\& Touhy Ave - SW & 1 & 1 & In Service & 42.01187 & -87.70041 & (42.011867, -87.700407)  \\\\\n\t 1.67419e+18 & Public Rack - Halsted St \\& 95th St - SW       & 1 & 1 & In Service & 41.72096 & -87.64345 & (41.720964, -87.643447)  \\\\\n\t 1.67419e+18 & Public Rack - Halsted St \\& 95th St - SE       & 3 & 3 & In Service & 41.72100 & -87.64303 & (41.721004, -87.643031)  \\\\\n\t 1.67419e+18 & Public Rack - Honore St \\& 87th St - SE        & 1 & 1 & In Service & 41.73548 & -87.66889 & (41.735485, -87.668889)  \\\\\n\t 1.67419e+18 & Public Rack - Kedzie Ave \\& 54th St - SE       & 1 & 1 & In Service & 41.79433 & -87.70347 & (41.794326, -87.703471)  \\\\\n\t 1.67419e+18 & Public Rack - Kedzie Ave \\& 54th St - SW       & 1 & 1 & In Service & 41.79522 & -87.70372 & (41.795222, -87.703719)  \\\\\n\t 1.67419e+18 & Public Rack - Kedzie Ave \\& 64th St - SE       & 1 & 1 & In Service & 41.77699 & -87.70292 & (41.776985, -87.702916)  \\\\\n\t 1.67419e+18 & Public Rack - Kedzie Ave \\& 64th St - SW       & 2 & 2 & In Service & 41.77703 & -87.70322 & (41.777031, -87.703223)  \\\\\n\t 1.67419e+18 & Public Rack - Mt Greenwood Library - South    & 2 & 2 & In Service & 41.69288 & -87.70105 & (41.692883, -87.701048)  \\\\\n\t 1.67419e+18 & Public Rack - South Shore High School         & 3 & 3 & In Service & 41.75644 & -87.57956 & (41.756444, -87.579556)  \\\\\n\t 1.67419e+18 & Public Rack - Western Ave \\& 111th St - SW     & 2 & 2 & In Service & 41.69161 & -87.68152 & (41.69161, -87.681523)   \\\\\n\t 1.67725e+18 & Public Rack - Sawyer Ave \\& Bryn Mawr Ave - SW & 1 & 1 & In Service & 41.98288 & -87.71053 & (41.982879, -87.710534)  \\\\\n\t 1.67725e+18 & Public Rack - Sawyer Ave \\& Bryn Mawr Ave - SE & 1 & 1 & In Service & 41.98302 & -87.70970 & (41.9830174, -87.7096999)\\\\\n\t 1.67725e+18 & Public Rack - Western Ave \\& 111th St - SE     & 1 & 1 & In Service & 41.69167 & -87.68102 & (41.691665, -87.681022)  \\\\\n\t 1.68353e+18 & Public Rack - South Shore Dr \\& 71st St        & 2 & 2 & In Service & 41.76621 & -87.56279 & (41.766206, -87.562789)  \\\\\n\\end{tabular}\n",
            "text/plain": [
              "   ID          Station.Name                                  Total.Docks\n",
              "1  1.67385e+18 Public Rack - California Ave & Touhy Ave - SW 1          \n",
              "2  1.67419e+18 Public Rack - Halsted St & 95th St - SW       1          \n",
              "3  1.67419e+18 Public Rack - Halsted St & 95th St - SE       3          \n",
              "4  1.67419e+18 Public Rack - Honore St & 87th St - SE        1          \n",
              "5  1.67419e+18 Public Rack - Kedzie Ave & 54th St - SE       1          \n",
              "6  1.67419e+18 Public Rack - Kedzie Ave & 54th St - SW       1          \n",
              "7  1.67419e+18 Public Rack - Kedzie Ave & 64th St - SE       1          \n",
              "8  1.67419e+18 Public Rack - Kedzie Ave & 64th St - SW       2          \n",
              "9  1.67419e+18 Public Rack - Mt Greenwood Library - South    2          \n",
              "10 1.67419e+18 Public Rack - South Shore High School         3          \n",
              "11 1.67419e+18 Public Rack - Western Ave & 111th St - SW     2          \n",
              "12 1.67725e+18 Public Rack - Sawyer Ave & Bryn Mawr Ave - SW 1          \n",
              "13 1.67725e+18 Public Rack - Sawyer Ave & Bryn Mawr Ave - SE 1          \n",
              "14 1.67725e+18 Public Rack - Western Ave & 111th St - SE     1          \n",
              "15 1.68353e+18 Public Rack - South Shore Dr & 71st St        2          \n",
              "   Docks.in.Service Status     Latitude Longitude Location                 \n",
              "1  1                In Service 42.01187 -87.70041 (42.011867, -87.700407)  \n",
              "2  1                In Service 41.72096 -87.64345 (41.720964, -87.643447)  \n",
              "3  3                In Service 41.72100 -87.64303 (41.721004, -87.643031)  \n",
              "4  1                In Service 41.73548 -87.66889 (41.735485, -87.668889)  \n",
              "5  1                In Service 41.79433 -87.70347 (41.794326, -87.703471)  \n",
              "6  1                In Service 41.79522 -87.70372 (41.795222, -87.703719)  \n",
              "7  1                In Service 41.77699 -87.70292 (41.776985, -87.702916)  \n",
              "8  2                In Service 41.77703 -87.70322 (41.777031, -87.703223)  \n",
              "9  2                In Service 41.69288 -87.70105 (41.692883, -87.701048)  \n",
              "10 3                In Service 41.75644 -87.57956 (41.756444, -87.579556)  \n",
              "11 2                In Service 41.69161 -87.68152 (41.69161, -87.681523)   \n",
              "12 1                In Service 41.98288 -87.71053 (41.982879, -87.710534)  \n",
              "13 1                In Service 41.98302 -87.70970 (41.9830174, -87.7096999)\n",
              "14 1                In Service 41.69167 -87.68102 (41.691665, -87.681022)  \n",
              "15 2                In Service 41.76621 -87.56279 (41.766206, -87.562789)  "
            ]
          },
          "metadata": {}
        }
      ]
    },
    {
      "cell_type": "code",
      "source": [
        "divvy_stations$Station.Name <- str_replace(divvy_stations$Station.Name, \"Public Rack - \",\"\")\n",
        "divvy_stations$Station.Name <- str_replace(divvy_stations$Station.Name, \"Pubic Rack - \",\"\")\n",
        "\n",
        "divvy_stations<-divvy_stations[!duplicated(divvy_stations$Station.Name),]\n",
        "\n",
        "divvy_stations$Station.Name <- str_replace(divvy_stations$Station.Name, \" - SE| - SW| - South\",\"\")\n",
        "divvy_stations$Station.Name <- str_replace(divvy_stations$Station.Name, \" - NE| - NW| - North\",\"\")\n",
        "divvy_stations$Station.Name <- str_replace(divvy_stations$Station.Name, \" - midblock\",\"\")\n",
        "divvy_stations$Station.Name <- str_replace(divvy_stations$Station.Name, \" - E$| - W$| - East| - West\",\"\")\n",
        "divvy_stations$Station.Name <- str_replace(divvy_stations$Station.Name, \" - E$| - W$| - S$| - N$| E$| W$| S$| N$\",\"\")\n",
        "\n",
        "### Removing rows with coordinates that are too close\n",
        "\n",
        "divvy_stations <- divvy_stations[!(divvy_stations$Station.Name == \"Pullman - Ross Dress for Less\" | divvy_stations$Station.Name == \"Pullman - Walmart\"),]\n",
        "divvy_stations <- divvy_stations[!(divvy_stations$Station.Name == \"Tuley (Murray) Park\"),]\n",
        "divvy_stations <- divvy_stations[!(divvy_stations$Station.Name == \"83rd St (Avalon Park) Metra\"),]\n",
        "divvy_stations <- divvy_stations[!(divvy_stations$Station.Name == \"N Clark St & W Elm St\"|divvy_stations$Station.Name == \"N Sheffield Ave & W Wellington Ave\"|divvy_stations$Station.Name == \"N Damen Ave & W Chicago Ave\"),]\n",
        "\n",
        "divvy_stations<-divvy_stations[!duplicated(divvy_stations$Station.Name),]\n",
        "\n",
        "### Adapting some names to match our main datata set\n",
        "\n",
        "divvy_stations$Station.Name <- str_replace(divvy_stations$Station.Name, \"Elizabeth \\\\(May\\\\) St & Fulton St\",\"Elizabeth St & Fulton St\")\n",
        "divvy_stations$Station.Name <- str_replace(divvy_stations$Station.Name, \"Western & 28th - Velasquez Institute Vaccination Site\",\"Western Ave & 28th St\")\n",
        "divvy_stations$Station.Name <- str_replace(divvy_stations$Station.Name, \"Eastlake Ter & Rogers Ave\",\"Eastlake Ter & Howard St\")\n"
      ],
      "metadata": {
        "id": "K_t8FnZ13FYc"
      },
      "execution_count": null,
      "outputs": []
    },
    {
      "cell_type": "code",
      "source": [
        "#In order to maintain consistency between both data sets I'll do the same cleaning techniques on the main data set.\n",
        "#This time I'll have to do it for both start and end station columns.\n",
        "\n",
        "all_trips_v2$start_station_name <- str_replace(all_trips_v2$start_station_name, \"\\\\*$\", \"\")\n",
        "all_trips_v2$end_station_name <- str_replace(all_trips_v2$end_station_name, \"\\\\*$\", \"\")\n",
        "\n",
        "\n",
        "all_trips_v2$start_station_name <- str_replace(all_trips_v2$start_station_name, \"Public Rack - \",\"\")\n",
        "all_trips_v2$end_station_name <- str_replace(all_trips_v2$end_station_name, \"Public Rack - \",\"\")\n",
        "all_trips_v2$start_station_name <- str_replace(all_trips_v2$start_station_name, \"Pubic Rack - \",\"\")\n",
        "all_trips_v2$end_station_name <- str_replace(all_trips_v2$end_station_name, \"Pubic Rack - \",\"\")\n",
        "all_trips_v2$start_station_name <- str_replace(all_trips_v2$start_station_name, \"Public  Rack - \",\"\")\n",
        "all_trips_v2$end_station_name <- str_replace(all_trips_v2$end_station_name, \"Public  Rack - \",\"\")\n",
        "\n",
        "#Removing direction from end of station names\n",
        "all_trips_v2$start_station_name <- str_replace(all_trips_v2$start_station_name, \" - SE$| - SW$| - NE$| - NW$| - N$| - S$| - E$| - W$\", \"\")\n",
        "all_trips_v2$end_station_name <- str_replace(all_trips_v2$end_station_name, \" - SE$| - SW$| - NE$| - NW$| - N$| - S$| - E$| - W$\", \"\")\n",
        "\n",
        "all_trips_v2$start_station_name <- str_replace(all_trips_v2$start_station_name, \" E$| W$| N$| S$\", \"\")\n",
        "all_trips_v2$end_station_name <- str_replace(all_trips_v2$end_station_name, \" E$| W$| N$| S$\", \"\")\n",
        "\n",
        "all_trips_v2$start_station_name <- str_replace(all_trips_v2$start_station_name, \" - South| - North| - midblock| - East| - West\", \"\")\n",
        "all_trips_v2$end_station_name <- str_replace(all_trips_v2$end_station_name, \" - South| - North| - midblock| - East| - West\", \"\")\n",
        "\n",
        "#Since I removed station that were too close in the auxiliary data set\n",
        "#Now I'll have to replace them for the station that I kept on the aux. data set.\n",
        "\n",
        "all_trips_v2$start_station_name <- str_replace(all_trips_v2$start_station_name, \"Pullman - Walmart|Pullman - Ross Dress for Less\", \"Pullman - Planet Fitness\")\n",
        "all_trips_v2$end_station_name <- str_replace(all_trips_v2$end_station_name, \"Pullman - Walmart|Pullman - Ross Dress for Less\", \"Pullman - Planet Fitness\")\n",
        "\n",
        "all_trips_v2$start_station_name <- str_replace(all_trips_v2$start_station_name, \"Tuley \\\\(Murray\\\\) Park\", \"Eberhart Ave & 91st St\")\n",
        "all_trips_v2$end_station_name <- str_replace(all_trips_v2$end_station_name, \"Tuley \\\\(Murray\\\\) Park\", \"Eberhart Ave & 91st St\")\n",
        "\n",
        "all_trips_v2$start_station_name <- str_replace(all_trips_v2$start_station_name, \"83rd St \\\\(Avalon Park\\\\) Metra\", \"Ellis Ave & 83rd St\")\n",
        "all_trips_v2$end_station_name <- str_replace(all_trips_v2$end_station_name, \"83rd St \\\\(Avalon Park\\\\) Metra\", \"Ellis Ave & 83rd StClark St & Elm St\")\n",
        "\n",
        "all_trips_v2$start_station_name <- str_replace(all_trips_v2$start_station_name, \"N Clark St & W Elm St\", \"Clark St & Elm St\")\n",
        "all_trips_v2$end_station_name <- str_replace(all_trips_v2$end_station_name, \"N Clark St & W Elm St\", \"Clark St & Elm St\")\n",
        "\n",
        "all_trips_v2$start_station_name <- str_replace(all_trips_v2$start_station_name, \"N Sheffield Ave & W Wellington Ave\", \"Sheffield Ave & Wellington Ave\")\n",
        "all_trips_v2$end_station_name <- str_replace(all_trips_v2$end_station_name, \"N Sheffield Ave & W Wellington Ave\", \"Sheffield Ave & Wellington Ave\")\n",
        "\n",
        "all_trips_v2$start_station_name <- str_replace(all_trips_v2$start_station_name, \"N Damen Ave & W Chicago Ave\", \"Damen Ave & Chicago Ave\")\n",
        "all_trips_v2$end_station_name <- str_replace(all_trips_v2$end_station_name, \"N Damen Ave & W Chicago Ave\", \"Damen Ave & Chicago Ave\")\n"
      ],
      "metadata": {
        "id": "dWs3kFIy36hG"
      },
      "execution_count": null,
      "outputs": []
    },
    {
      "cell_type": "markdown",
      "source": [
        "Is good to note that to get all this mistakes and mismatches I used both Excel and R. I exported a file with the distinct stations from the main data set (\"all_trips_v2\") and combined it with the divvy stations file.\n",
        "I used tools such as conditional formatting and filter to find stations that were duplicated or had some errors. Then I used te script bellow to change those station names in both datasets."
      ],
      "metadata": {
        "id": "EfQPRAG0Hb-y"
      }
    },
    {
      "cell_type": "code",
      "source": [
        "# After one round of cleaning I still have about 300 mismatches between data sets. So I'll do another round of cleaning.\n",
        "#These was done along with Excel and some auxiliary data frames in R, to found the mismatches and fix them.\n",
        "\n",
        "all_trips_v2$start_station_name <- str_replace(all_trips_v2$start_station_name, \"\\\\(Temp\\\\)\", \"\")\n",
        "all_trips_v2$end_station_name <- str_replace(all_trips_v2$end_station_name, \"\\\\(Temp\\\\)\", \"\")\n",
        "\n",
        "divvy_stations$Station.Name <- str_replace(divvy_stations$Station.Name, \"\\\\(Temp\\\\)\", \"\")\n",
        "\n",
        "divvy_stations$Station.Name <- str_replace(divvy_stations$Station.Name, \"Broadway & Wilson - Truman College Vaccination Site\", \"Broadway & Wilson Ave\")\n",
        "divvy_stations$Station.Name <- str_replace(divvy_stations$Station.Name, \"Woodlawn & 103rd - Olive Harvey Vaccination Site\", \"Woodlawn & 103rd\")\n",
        "divvy_stations$Station.Name <- str_replace(divvy_stations$Station.Name, \"Halsted & 63rd - Kennedy-King Vaccination Site\", \"Halsted St & 63rd St\")\n",
        "all_trips_v2$start_station_name <- str_replace(all_trips_v2$start_station_name, \"Halsted & 63rd - Kennedy-King Vaccination Site\", \"Halsted St & 63rd St\")\n",
        "all_trips_v2$end_station_name <- str_replace(all_trips_v2$end_station_name, \"Halsted & 63rd - Kennedy-King Vaccination Site\", \"Halsted St & 63rd St\")\n",
        "all_trips_v2$start_station_name <- str_replace(all_trips_v2$start_station_name, \"Broadway & Wilson - Truman College Vaccination Site\", \"Broadway & Wilson Ave\")\n",
        "all_trips_v2$end_station_name <- str_replace(all_trips_v2$end_station_name, \"Broadway & Wilson - Truman College Vaccination Site\", \"Broadway & Wilson Ave\")\n",
        "\n",
        "divvy_stations$Station.Name <- str_replace(divvy_stations$Station.Name, \"Kenosha & Wellington\", \"Kenosha Ave & Wellington Ave\")\n",
        "\n",
        "divvy_stations$Station.Name <- str_replace(divvy_stations$Station.Name, \"Jeffrey Blvd & 71st St\", \"Jeffery Blvd & 71st St\")\n",
        "all_trips_v2$start_station_name <- str_replace(all_trips_v2$start_station_name, \"Jeffrey Blvd & 71st St\", \"Jeffery Blvd & 71st St\")\n",
        "all_trips_v2$end_station_name <- str_replace(all_trips_v2$end_station_name, \"Jeffrey Blvd & 71st St\", \"Jeffery Blvd & 71st St\")\n",
        "\n",
        "divvy_stations$Station.Name <- str_replace(divvy_stations$Station.Name, \"Baker Ave & 863rd Pl\", \"Baker Ave & 83rd Pl\")\n",
        "all_trips_v2$start_station_name <- str_replace(all_trips_v2$start_station_name, \"Baker Ave & 863rd Pl\", \"Baker Ave & 83rd Pl\")\n",
        "all_trips_v2$end_station_name <- str_replace(all_trips_v2$end_station_name, \"Baker Ave & 863rd Pl\", \"Baker Ave & 83rd Pl\")\n",
        "\n",
        "divvy_stations$Station.Name <- str_replace(divvy_stations$Station.Name, \"Warren Park East|Warren Park West\", \"Warren Park\")\n",
        "all_trips_v2$start_station_name <- str_replace(all_trips_v2$start_station_name, \"Warren Park East|Warren Park West\", \"Warren Park\")\n",
        "all_trips_v2$end_station_name <- str_replace(all_trips_v2$end_station_name, \"Warren Park East|Warren Park West\", \"Warren Park\")\n",
        "\n",
        "all_trips_v2$start_station_name <- str_replace(all_trips_v2$start_station_name, \"Fullerton Ave & Narragansett Ave\", \"Narragansett Ave & Fullerton Ave\")\n",
        "all_trips_v2$end_station_name <- str_replace(all_trips_v2$end_station_name, \"Fullerton Ave & Narragansett Ave\", \"Narragansett Ave & Fullerton Ave\")\n",
        "\n",
        "all_trips_v2$start_station_name <- str_replace(all_trips_v2$start_station_name, \"Pulaski Rd & 51st Rd\", \"Pulaski Rd & 51st St\")\n",
        "all_trips_v2$end_station_name <- str_replace(all_trips_v2$end_station_name, \"Pulaski Rd & 51st Rd\", \"Pulaski Rd & 51st St\")\n",
        "\n",
        "all_trips_v2$start_station_name <- str_replace(all_trips_v2$start_station_name, \"Western Ave & 107th Pl\", \"Western Ave & 107th St\")\n",
        "all_trips_v2$end_station_name <- str_replace(all_trips_v2$end_station_name, \"Western Ave & 107th Pl\", \"Western Ave & 107th St\")\n",
        "\n",
        "all_trips_v2$start_station_name <- str_replace(all_trips_v2$start_station_name, \"Kedzie Ave & 54th St\", \"Kedzie Ave & 54th Pl\")\n",
        "all_trips_v2$end_station_name <- str_replace(all_trips_v2$end_station_name, \"Kedzie Ave & 54th St\", \"Kedzie Ave & 54th Pl\")\n",
        "\n",
        "all_trips_v2$start_station_name <- str_replace(all_trips_v2$start_station_name, \"Buckingham Fountain \\\\(Columbus/Balbo\\\\)|Buckingham Fountain \\\\(Temp\\\\)|Buckingham - Fountain\", \"Buckingham Fountain\")\n",
        "all_trips_v2$end_station_name <- str_replace(all_trips_v2$end_station_name, \"Buckingham Fountain \\\\(Columbus/Balbo\\\\)|Buckingham Fountain \\\\(Temp\\\\)|Buckingham - Fountain\", \"Buckingham Fountain\")\n",
        "\n",
        "all_trips_v2$start_station_name <- str_replace(all_trips_v2$start_station_name, \"Wilbur Wright College .*\", \"Wilbur Wright College\")\n",
        "all_trips_v2$end_station_name <- str_replace(all_trips_v2$end_station_name, \"Wilbur Wright College .*\", \"Wilbur Wright College\")\n",
        "\n",
        "all_trips_v2$start_station_name <- str_replace(all_trips_v2$start_station_name, \"63rd St and \", \"63rd St & \")\n",
        "all_trips_v2$end_station_name <- str_replace(all_trips_v2$end_station_name, \"63rd St and \", \"63rd St & \")\n",
        "\n",
        "all_trips_v2$start_station_name <- str_replace(all_trips_v2$start_station_name, \" and W. \", \" & \")\n",
        "all_trips_v2$end_station_name <- str_replace(all_trips_v2$end_station_name, \" and W. \", \" & \")\n",
        "\n",
        "all_trips_v2$start_station_name <- str_replace(all_trips_v2$start_station_name, \"S[:punct:] |N[:punct:] |W[:punct:] \", \"\")\n",
        "all_trips_v2$end_station_name <- str_replace(all_trips_v2$end_station_name, \"S[:punct:] |N[:punct:] |W[:punct:] \",'' )\n",
        "\n",
        "all_trips_v2$start_station_name <- str_replace(all_trips_v2$start_station_name, \"New England/ W. 65th\", \"New England Ave & 65th St\")\n",
        "all_trips_v2$end_station_name <- str_replace(all_trips_v2$end_station_name, \"New England/ W. 65th\",'New England Ave & 65th St' )\n",
        "\n",
        "all_trips_v2$start_station_name <- str_replace(all_trips_v2$start_station_name, \"Talcott & N. Oriole\", \"Talcott & Oriole\")\n",
        "all_trips_v2$end_station_name <- str_replace(all_trips_v2$end_station_name, \"Talcott & N. Oriole\",'Talcott & Oriole' )\n",
        "\n",
        "all_trips_v2$start_station_name <- str_replace(all_trips_v2$start_station_name, \"Ashland Ave & 45th St[:space:]\", \"Ashland Ave & 45th St\")\n",
        "all_trips_v2$end_station_name <- str_replace(all_trips_v2$end_station_name, \"Ashland Ave & 45th St[:space:]\",'Ashland Ave & 45th St' )\n",
        "\n",
        "all_trips_v2$start_station_name <- str_replace(all_trips_v2$start_station_name, \"Malcolm X College\", \"Malcolm X College Vaccination Site\")\n",
        "all_trips_v2$end_station_name <- str_replace(all_trips_v2$end_station_name, \"Malcolm X College\",'Malcolm X College Vaccination Site' )\n",
        "\n",
        "all_trips_v2$start_station_name <- str_replace(all_trips_v2$start_station_name, \"Green St & Madison Ave\", \"Green St & Madison St\")\n",
        "all_trips_v2$end_station_name <- str_replace(all_trips_v2$end_station_name, \"Green St & Madison Ave\", \"Green St & Madison St\" )\n",
        "\n",
        "all_trips_v2$start_station_name <- str_replace(all_trips_v2$start_station_name, \"Laflin St &51st ST\", \"Laflin St & 51st St\")\n",
        "all_trips_v2$end_station_name <- str_replace(all_trips_v2$end_station_name, \"Laflin St &51st ST\", \"Laflin St & 51st St\" )\n",
        "\n",
        "all_trips_v2$start_station_name <- str_replace(all_trips_v2$start_station_name, \"410\", \"Campbell Ave & Augusta Blvd\")\n",
        "all_trips_v2$end_station_name <- str_replace(all_trips_v2$end_station_name, \"410\", \"Campbell Ave & Augusta Blvd\" )\n",
        "\n",
        "all_trips_v2$start_station_name <- str_replace(all_trips_v2$start_station_name, \"56th St & Mulligan Ave\", \"Mulligan Ave & 56th St\")\n",
        "all_trips_v2$end_station_name <- str_replace(all_trips_v2$end_station_name, \"56th St & Mulligan Ave\", \"Mulligan Ave & 56th St\" )\n",
        "\n",
        "all_trips_v2$start_station_name <- str_replace(all_trips_v2$start_station_name, \"82nd st & Kedzie Ave\", \"82nd St & Kedzie Ave\")\n",
        "all_trips_v2$end_station_name <- str_replace(all_trips_v2$end_station_name, \"82nd st & Kedzie Ave\", \"82nd St & Kedzie Ave\" )\n",
        "\n",
        "all_trips_v2$start_station_name <- str_replace(all_trips_v2$start_station_name, \"Sayer\", \"Sayre\")\n",
        "all_trips_v2$end_station_name <- str_replace(all_trips_v2$end_station_name, \"Sayer\", \"Sayre\" )\n",
        "\n",
        "all_trips_v2$start_station_name <- str_replace(all_trips_v2$start_station_name, \"Western & 79th\", \"Western Ave & 79th St\")\n",
        "all_trips_v2$end_station_name <- str_replace(all_trips_v2$end_station_name, \"Western & 79th\", \"Western Ave & 79th St\" )\n",
        "\n",
        "all_trips_v2$start_station_name <- str_replace(all_trips_v2$start_station_name, \"Devon Ave & Minnehaha Ave \\\\(east\\\\)\", \"Minnehaha Ave & Devon Ave\")\n",
        "all_trips_v2$end_station_name <- str_replace(all_trips_v2$end_station_name, \"Devon Ave & Minnehaha Ave \\\\(east\\\\)\", \"Minnehaha Ave & Devon Ave\" )\n",
        "\n",
        "all_trips_v2$start_station_name <- str_replace(all_trips_v2$start_station_name, \"California & 71st\", \"California Ave & 71st St\")\n",
        "all_trips_v2$end_station_name <- str_replace(all_trips_v2$end_station_name, \"California & 71st\", \"California Ave & 71st St\")\n",
        "\n",
        "all_trips_v2$start_station_name <- str_replace(all_trips_v2$start_station_name, \"Ottowa Ave & Touhy Ave\", \"Overhill Ave & Touhy Ave\")\n",
        "all_trips_v2$end_station_name <- str_replace(all_trips_v2$end_station_name, \"Ottowa Ave & Touhy Ave\", \"Overhill Ave & Touhy Ave\")\n",
        "\n",
        "all_trips_v2$start_station_name <- str_replace(all_trips_v2$start_station_name, \"Monticello & Lawrence\", \"Monticello Ave & Lawrence Ave\")\n",
        "all_trips_v2$end_station_name <- str_replace(all_trips_v2$end_station_name, \"Monticello & Lawrence\", \"Monticello Ave & Lawrence Ave\")\n",
        "\n",
        "all_trips_v2$start_station_name <- str_replace(all_trips_v2$start_station_name, \"Bryn Mawr Ave & Spaulding Ave\", \"Spaulding Ave & Bryn Mawr Ave\")\n",
        "all_trips_v2$end_station_name <- str_replace(all_trips_v2$end_station_name, \"Bryn Mawr Ave & Spaulding Ave\", \"Spaulding Ave & Bryn Mawr Ave\")\n",
        "\n",
        "all_trips_v2$start_station_name <- str_replace(all_trips_v2$start_station_name, \"Mason & Archer\", \"Mason Ave & Archer Ave\")\n",
        "all_trips_v2$end_station_name <- str_replace(all_trips_v2$end_station_name, \"Mason & Archer\", \"Mason Ave & Archer Ave\")\n",
        "\n",
        "all_trips_v2$start_station_name <- str_replace(all_trips_v2$start_station_name, \"Richard Daley College\", \"Pulaski & 74th\")\n",
        "all_trips_v2$end_station_name <- str_replace(all_trips_v2$end_station_name, \"Richard Daley College\", \"Pulaski & 74th\")\n",
        "\n",
        "all_trips_v2$start_station_name <- str_replace(all_trips_v2$start_station_name, \"Norwood Park Station\", \"Norwood Park\")\n",
        "all_trips_v2$end_station_name <- str_replace(all_trips_v2$end_station_name, \"Norwood Park Station\", \"Norwood Park\")\n",
        "\n",
        "all_trips_v2$start_station_name <- str_replace(all_trips_v2$start_station_name, \"83rd Pl & Kedzie Ave\", \"Kedzie Ave & 83rd St\")\n",
        "all_trips_v2$end_station_name <- str_replace(all_trips_v2$end_station_name, \"83rd Pl & Kedzie Ave\", \"Kedzie Ave & 83rd St\")\n",
        "\n",
        "all_trips_v2$start_station_name <- str_replace(all_trips_v2$start_station_name, \"Kinzua Ave & Devon Ave\", \"Devon Ave & Kinzua Ave\")\n",
        "all_trips_v2$end_station_name <- str_replace(all_trips_v2$end_station_name, \"Kinzua Ave & Devon Ave\", \"Devon Ave & Kinzua Ave\")\n",
        "\n",
        "all_trips_v2$start_station_name <- str_replace(all_trips_v2$start_station_name, \"Laramine Ave & Winnemac Ave\", \"Laramie Ave & Winnemac Ave\")\n",
        "all_trips_v2$end_station_name <- str_replace(all_trips_v2$end_station_name, \"Laramine Ave & Winnemac Ave\", \"Laramie Ave & Winnemac Ave\")\n",
        "\n",
        "all_trips_v2$start_station_name <- str_replace(all_trips_v2$start_station_name, \"Lafayette Ave & 87th St SW\", \"Lafayette Ave & 87th St\")\n",
        "all_trips_v2$end_station_name <- str_replace(all_trips_v2$end_station_name, \"Lafayette Ave & 87th St SW\", \"Lafayette Ave & 87th St\")\n",
        "\n",
        "all_trips_v2$start_station_name <- str_replace(all_trips_v2$start_station_name, \"Woodlawn & 103rd - Olive Harvey Vaccination Site\", \"Woodlawn & 103rd\")\n",
        "all_trips_v2$end_station_name <- str_replace(all_trips_v2$end_station_name, \"Woodlawn & 103rd - Olive Harvey Vaccination Site\", \"Woodlawn & 103rd\")\n",
        "\n",
        "all_trips_v2$start_station_name <- str_replace(all_trips_v2$start_station_name, \"Malcolm X College Vaccination Site Vaccination Site\", \"Malcolm X College Vaccination Site\")\n",
        "all_trips_v2$end_station_name <- str_replace(all_trips_v2$end_station_name, \"Malcolm X College Vaccination Site Vaccination Site\", \"Malcolm X College Vaccination Site\")\n",
        "\n",
        "all_trips_v2$start_station_name <- str_replace(all_trips_v2$start_station_name, \"Kenosha & Wellington\", \"Kenosha Ave & Wellington Ave\")\n",
        "all_trips_v2$end_station_name <- str_replace(all_trips_v2$end_station_name, \"Kenosha & Wellington\", \"Kenosha Ave & Wellington Ave\")\n",
        "\n",
        "all_trips_v2$start_station_name <- str_replace(all_trips_v2$start_station_name, \"85th Pl & Pulaski Rd\", \"Pulaski Rd & 85th St\")\n",
        "all_trips_v2$end_station_name <- str_replace(all_trips_v2$end_station_name, \"85th Pl & Pulaski Rd\", \"Pulaski Rd & 85th St\")\n",
        "\n",
        "all_trips_v2$start_station_name <- str_replace(all_trips_v2$start_station_name, \"Haft Ave\", \"Haft St\")\n",
        "all_trips_v2$end_station_name <- str_replace(all_trips_v2$end_station_name, \"Haft Ave\", \"Haft St\")\n",
        "\n",
        "all_trips_v2$start_station_name <- str_replace(all_trips_v2$start_station_name, \"Olmstead\", \"Olmsted\")\n",
        "all_trips_v2$end_station_name <- str_replace(all_trips_v2$end_station_name, \"Olmstead\", \"Olmsted\")\n",
        "\n",
        "divvy_stations$Station.Name <- str_replace(divvy_stations$Station.Name, \"\\\\[\\\\:space\\\\:\\\\]\",\" \")\n",
        "\n",
        "divvy_stations$Station.Name <- str_replace(divvy_stations$Station.Name, \"Haft Ave\",\"Haft St\")\n",
        "divvy_stations$Station.Name <- str_replace(divvy_stations$Station.Name, \"Olmstead\",\"Olmsted\")\n",
        "\n"
      ],
      "metadata": {
        "id": "h1hHP5ls4ScX"
      },
      "execution_count": null,
      "outputs": []
    },
    {
      "cell_type": "markdown",
      "source": [
        "There were stations assigned to fix bike problems, these stations will affect the result of our analysis so I'll drop the records with the following station names:\n",
        "\n",
        "| Station Names|\n",
        "|-------------|\n",
        "|Base - 2132 W Hubbard|\n",
        "|NewHastings|\n",
        "|Hastings LWS|\n",
        "|OH - BONFIRE - TESTING|\n",
        "|OH Charging Stx - Test|\n",
        "|Old Hastings Monolith|\n"
      ],
      "metadata": {
        "id": "cjj5haRm4YbR"
      }
    },
    {
      "cell_type": "code",
      "source": [
        "#### These stations were used to fix bike problems, so I'll delete them from the data set.\n",
        "all_trips_v2 %>%\n",
        "  filter(str_detect(start_station_name, \"Base - |.*Hastings|OH.*\"))\n",
        "all_trips_v2<- all_trips_v2[!(all_trips_v2$start_station_name == 'Base - 2132 W Hubbard'|all_trips_v2$start_station_name == 'NewHastings'|all_trips_v2$start_station_name == 'Hastings LWS'|all_trips_v2$start_station_name== \"OH - BONFIRE - TESTING\"|all_trips_v2$start_station_name== \"OH Charging Stx - Test\"|all_trips_v2$start_station_name== 'Old Hastings Monolith'),]\n",
        "all_trips_v2<- all_trips_v2[!(all_trips_v2$end_station_name == 'Base - 2132 W Hubbard'|all_trips_v2$end_station_name == 'NewHastings'|all_trips_v2$end_station_name == 'Hastings LWS'|all_trips_v2$end_station_name== \"OH - BONFIRE - TESTING\"|all_trips_v2$end_station_name== \"OH Charging Stx - Test\"|all_trips_v2$end_station_name== 'Old Hastings Monolith'),]\n"
      ],
      "metadata": {
        "colab": {
          "base_uri": "https://localhost:8080/",
          "height": 1000
        },
        "id": "_sj41ZrG5FOw",
        "outputId": "4e50fb14-5974-4867-bd3e-a3cd85caa366"
      },
      "execution_count": null,
      "outputs": [
        {
          "output_type": "display_data",
          "data": {
            "text/html": [
              "<table class=\"dataframe\">\n",
              "<caption>A data.frame: 125 × 19</caption>\n",
              "<thead>\n",
              "\t<tr><th scope=col>ride_id</th><th scope=col>rideable_type</th><th scope=col>started_at</th><th scope=col>ended_at</th><th scope=col>ride_length</th><th scope=col>day_of_week</th><th scope=col>start_station_name</th><th scope=col>start_station_id</th><th scope=col>end_station_name</th><th scope=col>end_station_id</th><th scope=col>start_lat</th><th scope=col>start_lng</th><th scope=col>end_lat</th><th scope=col>end_lng</th><th scope=col>member_casual</th><th scope=col>date</th><th scope=col>day</th><th scope=col>month</th><th scope=col>year</th></tr>\n",
              "\t<tr><th scope=col>&lt;chr&gt;</th><th scope=col>&lt;chr&gt;</th><th scope=col>&lt;dttm&gt;</th><th scope=col>&lt;dttm&gt;</th><th scope=col>&lt;dbl&gt;</th><th scope=col>&lt;chr&gt;</th><th scope=col>&lt;chr&gt;</th><th scope=col>&lt;chr&gt;</th><th scope=col>&lt;chr&gt;</th><th scope=col>&lt;chr&gt;</th><th scope=col>&lt;dbl&gt;</th><th scope=col>&lt;dbl&gt;</th><th scope=col>&lt;dbl&gt;</th><th scope=col>&lt;dbl&gt;</th><th scope=col>&lt;chr&gt;</th><th scope=col>&lt;date&gt;</th><th scope=col>&lt;chr&gt;</th><th scope=col>&lt;chr&gt;</th><th scope=col>&lt;chr&gt;</th></tr>\n",
              "</thead>\n",
              "<tbody>\n",
              "\t<tr><td>577398C1BE22EDA4</td><td>electric_bike</td><td>2022-10-24 22:54:03</td><td>2022-10-24 22:54:19</td><td>  16</td><td>Monday   </td><td>Base - 2132 W Hubbard</td><td>Hubbard Bike-checking (LBS-WH-TEST)</td><td>Base - 2132 W Hubbard       </td><td>Hubbard Bike-checking (LBS-WH-TEST)</td><td>41.88992</td><td>-87.68026</td><td>41.88997</td><td>-87.68016</td><td>member</td><td>2022-10-24</td><td>24</td><td>10</td><td>2022</td></tr>\n",
              "\t<tr><td>4354E87D174CE327</td><td>electric_bike</td><td>2022-10-26 22:53:24</td><td>2022-10-26 22:53:28</td><td>   4</td><td>Wednesday</td><td>Base - 2132 W Hubbard</td><td>Hubbard Bike-checking (LBS-WH-TEST)</td><td>Base - 2132 W Hubbard       </td><td>Hubbard Bike-checking (LBS-WH-TEST)</td><td>41.88993</td><td>-87.68019</td><td>41.88997</td><td>-87.68016</td><td>member</td><td>2022-10-26</td><td>26</td><td>10</td><td>2022</td></tr>\n",
              "\t<tr><td>ABF86D62CA10DC35</td><td>electric_bike</td><td>2022-10-26 22:52:56</td><td>2022-10-26 22:53:00</td><td>   4</td><td>Wednesday</td><td>Base - 2132 W Hubbard</td><td>Hubbard Bike-checking (LBS-WH-TEST)</td><td>Base - 2132 W Hubbard       </td><td>Hubbard Bike-checking (LBS-WH-TEST)</td><td>41.88993</td><td>-87.68019</td><td>41.88997</td><td>-87.68016</td><td>member</td><td>2022-10-26</td><td>26</td><td>10</td><td>2022</td></tr>\n",
              "\t<tr><td>57F586A2A9504FEF</td><td>electric_bike</td><td>2022-10-24 22:52:09</td><td>2022-10-24 22:52:34</td><td>  25</td><td>Monday   </td><td>Base - 2132 W Hubbard</td><td>Hubbard Bike-checking (LBS-WH-TEST)</td><td>Base - 2132 W Hubbard       </td><td>Hubbard Bike-checking (LBS-WH-TEST)</td><td>41.88993</td><td>-87.68023</td><td>41.88997</td><td>-87.68016</td><td>member</td><td>2022-10-24</td><td>24</td><td>10</td><td>2022</td></tr>\n",
              "\t<tr><td>CDBD5F04619AC7EB</td><td>electric_bike</td><td>2022-10-12 22:53:51</td><td>2022-10-12 23:06:03</td><td> 732</td><td>Wednesday</td><td>Base - 2132 W Hubbard</td><td>Hubbard Bike-checking (LBS-WH-TEST)</td><td><span style=white-space:pre-wrap>Troy St &amp; North Ave         </span></td><td><span style=white-space:pre-wrap>15653                              </span></td><td>41.88992</td><td>-87.68026</td><td>41.90977</td><td>-87.70528</td><td>member</td><td>2022-10-12</td><td>12</td><td>10</td><td>2022</td></tr>\n",
              "\t<tr><td>450783BDF55D14B0</td><td>electric_bike</td><td>2022-10-25 22:54:04</td><td>2022-10-25 23:05:26</td><td> 682</td><td><span style=white-space:pre-wrap>Tuesday  </span></td><td>Base - 2132 W Hubbard</td><td>Hubbard Bike-checking (LBS-WH-TEST)</td><td><span style=white-space:pre-wrap>Troy St &amp; North Ave         </span></td><td><span style=white-space:pre-wrap>15653                              </span></td><td>41.88997</td><td>-87.68016</td><td>41.90977</td><td>-87.70528</td><td>member</td><td>2022-10-25</td><td>25</td><td>10</td><td>2022</td></tr>\n",
              "\t<tr><td>26E688D79E20B5DD</td><td>electric_bike</td><td>2022-10-02 23:04:07</td><td>2022-10-02 23:14:02</td><td> 595</td><td><span style=white-space:pre-wrap>Sunday   </span></td><td>Base - 2132 W Hubbard</td><td>Hubbard Bike-checking (LBS-WH-TEST)</td><td><span style=white-space:pre-wrap>Troy St &amp; North Ave         </span></td><td><span style=white-space:pre-wrap>15653                              </span></td><td>41.89001</td><td>-87.68012</td><td>41.90977</td><td>-87.70528</td><td>member</td><td>2022-10-02</td><td>02</td><td>10</td><td>2022</td></tr>\n",
              "\t<tr><td>9C6875E7918BECC1</td><td>electric_bike</td><td>2022-10-08 23:00:46</td><td>2022-10-08 23:13:24</td><td> 758</td><td>Saturday </td><td>Base - 2132 W Hubbard</td><td>Hubbard Bike-checking (LBS-WH-TEST)</td><td><span style=white-space:pre-wrap>Troy St &amp; North Ave         </span></td><td><span style=white-space:pre-wrap>15653                              </span></td><td>41.88996</td><td>-87.68035</td><td>41.90977</td><td>-87.70528</td><td>member</td><td>2022-10-08</td><td>08</td><td>10</td><td>2022</td></tr>\n",
              "\t<tr><td>5B4F9BE15B6BC756</td><td>electric_bike</td><td>2022-10-17 22:58:25</td><td>2022-10-17 23:09:59</td><td> 694</td><td><span style=white-space:pre-wrap>Monday   </span></td><td>Base - 2132 W Hubbard</td><td>Hubbard Bike-checking (LBS-WH-TEST)</td><td><span style=white-space:pre-wrap>Troy St &amp; North Ave         </span></td><td><span style=white-space:pre-wrap>15653                              </span></td><td>41.88993</td><td>-87.68027</td><td>41.90977</td><td>-87.70528</td><td>member</td><td>2022-10-17</td><td>17</td><td>10</td><td>2022</td></tr>\n",
              "\t<tr><td>0920017024528BDD</td><td>electric_bike</td><td>2022-10-15 22:53:58</td><td>2022-10-15 23:05:19</td><td> 681</td><td>Saturday </td><td>Base - 2132 W Hubbard</td><td>Hubbard Bike-checking (LBS-WH-TEST)</td><td><span style=white-space:pre-wrap>Troy St &amp; North Ave         </span></td><td><span style=white-space:pre-wrap>15653                              </span></td><td>41.88995</td><td>-87.68024</td><td>41.90977</td><td>-87.70528</td><td>member</td><td>2022-10-15</td><td>15</td><td>10</td><td>2022</td></tr>\n",
              "\t<tr><td>A775BE08001A7618</td><td>electric_bike</td><td>2022-10-24 22:53:15</td><td>2022-10-24 23:03:38</td><td> 623</td><td><span style=white-space:pre-wrap>Monday   </span></td><td>Base - 2132 W Hubbard</td><td>Hubbard Bike-checking (LBS-WH-TEST)</td><td><span style=white-space:pre-wrap>Troy St &amp; North Ave         </span></td><td><span style=white-space:pre-wrap>15653                              </span></td><td>41.88997</td><td>-87.68022</td><td>41.90977</td><td>-87.70528</td><td>member</td><td>2022-10-24</td><td>24</td><td>10</td><td>2022</td></tr>\n",
              "\t<tr><td>258A10EEA645733E</td><td>electric_bike</td><td>2022-10-19 22:57:22</td><td>2022-10-19 23:07:31</td><td> 609</td><td>Wednesday</td><td>Base - 2132 W Hubbard</td><td>Hubbard Bike-checking (LBS-WH-TEST)</td><td><span style=white-space:pre-wrap>Troy St &amp; North Ave         </span></td><td><span style=white-space:pre-wrap>15653                              </span></td><td>41.88995</td><td>-87.68030</td><td>41.90977</td><td>-87.70528</td><td>member</td><td>2022-10-19</td><td>19</td><td>10</td><td>2022</td></tr>\n",
              "\t<tr><td>8F7A8F0952CD8D3A</td><td>electric_bike</td><td>2022-10-05 22:51:36</td><td>2022-10-05 23:04:31</td><td> 775</td><td>Wednesday</td><td>Base - 2132 W Hubbard</td><td>Hubbard Bike-checking (LBS-WH-TEST)</td><td><span style=white-space:pre-wrap>Troy St &amp; North Ave         </span></td><td><span style=white-space:pre-wrap>15653                              </span></td><td>41.88998</td><td>-87.68029</td><td>41.90977</td><td>-87.70528</td><td>member</td><td>2022-10-05</td><td>05</td><td>10</td><td>2022</td></tr>\n",
              "\t<tr><td>514776EAE5B96470</td><td>electric_bike</td><td>2022-10-18 22:56:02</td><td>2022-10-18 23:07:19</td><td> 677</td><td><span style=white-space:pre-wrap>Tuesday  </span></td><td>Base - 2132 W Hubbard</td><td>Hubbard Bike-checking (LBS-WH-TEST)</td><td><span style=white-space:pre-wrap>Troy St &amp; North Ave         </span></td><td><span style=white-space:pre-wrap>15653                              </span></td><td>41.88994</td><td>-87.68023</td><td>41.90977</td><td>-87.70528</td><td>member</td><td>2022-10-18</td><td>18</td><td>10</td><td>2022</td></tr>\n",
              "\t<tr><td>25E57ABA58ADED7F</td><td>electric_bike</td><td>2022-10-16 22:57:46</td><td>2022-10-16 23:10:12</td><td> 746</td><td><span style=white-space:pre-wrap>Sunday   </span></td><td>Base - 2132 W Hubbard</td><td>Hubbard Bike-checking (LBS-WH-TEST)</td><td><span style=white-space:pre-wrap>Troy St &amp; North Ave         </span></td><td><span style=white-space:pre-wrap>15653                              </span></td><td>41.88994</td><td>-87.68026</td><td>41.90977</td><td>-87.70528</td><td>member</td><td>2022-10-16</td><td>16</td><td>10</td><td>2022</td></tr>\n",
              "\t<tr><td>6A891707EBCB7930</td><td>electric_bike</td><td>2022-10-01 22:55:16</td><td>2022-10-01 23:05:41</td><td> 625</td><td>Saturday </td><td>Base - 2132 W Hubbard</td><td>Hubbard Bike-checking (LBS-WH-TEST)</td><td><span style=white-space:pre-wrap>Troy St &amp; North Ave         </span></td><td><span style=white-space:pre-wrap>15653                              </span></td><td>41.88995</td><td>-87.68011</td><td>41.90977</td><td>-87.70528</td><td>member</td><td>2022-10-01</td><td>01</td><td>10</td><td>2022</td></tr>\n",
              "\t<tr><td>00C4FC02F6CD73F0</td><td>electric_bike</td><td>2022-10-29 22:56:16</td><td>2022-10-29 23:08:10</td><td> 714</td><td>Saturday </td><td>Base - 2132 W Hubbard</td><td>Hubbard Bike-checking (LBS-WH-TEST)</td><td><span style=white-space:pre-wrap>Troy St &amp; North Ave         </span></td><td><span style=white-space:pre-wrap>15653                              </span></td><td>41.88997</td><td>-87.68032</td><td>41.90977</td><td>-87.70528</td><td>member</td><td>2022-10-29</td><td>29</td><td>10</td><td>2022</td></tr>\n",
              "\t<tr><td>595E4E84153CC366</td><td>electric_bike</td><td>2022-10-24 22:54:33</td><td>2022-10-24 23:08:01</td><td> 808</td><td><span style=white-space:pre-wrap>Monday   </span></td><td>Base - 2132 W Hubbard</td><td>Hubbard Bike-checking (LBS-WH-TEST)</td><td><span style=white-space:pre-wrap>Kedzie Ave &amp; 21st St        </span></td><td><span style=white-space:pre-wrap>15686                              </span></td><td>41.88992</td><td>-87.68026</td><td>41.85353</td><td>-87.70507</td><td>member</td><td>2022-10-24</td><td>24</td><td>10</td><td>2022</td></tr>\n",
              "\t<tr><td>1B2E3055D73FE592</td><td>electric_bike</td><td>2022-10-21 22:55:20</td><td>2022-10-21 23:11:37</td><td> 977</td><td><span style=white-space:pre-wrap>Friday   </span></td><td>Base - 2132 W Hubbard</td><td>Hubbard Bike-checking (LBS-WH-TEST)</td><td><span style=white-space:pre-wrap>Kedzie Ave &amp; 21st St        </span></td><td><span style=white-space:pre-wrap>15686                              </span></td><td>41.88998</td><td>-87.68024</td><td>41.85353</td><td>-87.70507</td><td>member</td><td>2022-10-21</td><td>21</td><td>10</td><td>2022</td></tr>\n",
              "\t<tr><td>BA54A2F1932C9D17</td><td>electric_bike</td><td>2022-10-02 15:04:27</td><td>2022-10-02 15:18:00</td><td> 813</td><td><span style=white-space:pre-wrap>Sunday   </span></td><td>Base - 2132 W Hubbard</td><td>Hubbard Bike-checking (LBS-WH-TEST)</td><td>Clinton St &amp; Washington Blvd</td><td><span style=white-space:pre-wrap>WL-012                             </span></td><td>41.88996</td><td>-87.68028</td><td>41.88338</td><td>-87.64117</td><td>member</td><td>2022-10-02</td><td>02</td><td>10</td><td>2022</td></tr>\n",
              "\t<tr><td>72D6D3FD3CA33222</td><td>electric_bike</td><td>2022-10-09 15:05:16</td><td>2022-10-09 15:20:20</td><td> 904</td><td><span style=white-space:pre-wrap>Sunday   </span></td><td>Base - 2132 W Hubbard</td><td>Hubbard Bike-checking (LBS-WH-TEST)</td><td>Clinton St &amp; Washington Blvd</td><td><span style=white-space:pre-wrap>WL-012                             </span></td><td>41.88996</td><td>-87.68031</td><td>41.88338</td><td>-87.64117</td><td>member</td><td>2022-10-09</td><td>09</td><td>10</td><td>2022</td></tr>\n",
              "\t<tr><td>905EE71AA5E5B694</td><td>electric_bike</td><td>2022-10-22 14:56:44</td><td>2022-10-22 15:13:14</td><td> 990</td><td>Saturday </td><td>Base - 2132 W Hubbard</td><td>Hubbard Bike-checking (LBS-WH-TEST)</td><td>Clinton St &amp; Washington Blvd</td><td><span style=white-space:pre-wrap>WL-012                             </span></td><td>41.88995</td><td>-87.68023</td><td>41.88338</td><td>-87.64117</td><td>member</td><td>2022-10-22</td><td>22</td><td>10</td><td>2022</td></tr>\n",
              "\t<tr><td>DC6E1F145DC5D552</td><td>electric_bike</td><td>2022-11-05 22:52:17</td><td>2022-11-05 22:52:20</td><td>   3</td><td>Saturday </td><td>Base - 2132 W Hubbard</td><td>Hubbard Bike-checking (LBS-WH-TEST)</td><td>Base - 2132 W Hubbard       </td><td>Hubbard Bike-checking (LBS-WH-TEST)</td><td>41.88993</td><td>-87.68027</td><td>41.88997</td><td>-87.68016</td><td>member</td><td>2022-11-05</td><td>05</td><td>11</td><td>2022</td></tr>\n",
              "\t<tr><td>EC7D2D99019CD0DC</td><td>electric_bike</td><td>2022-11-13 22:59:23</td><td>2022-11-13 22:59:27</td><td>   4</td><td>Sunday   </td><td>Base - 2132 W Hubbard</td><td>Hubbard Bike-checking (LBS-WH-TEST)</td><td>Base - 2132 W Hubbard       </td><td>Hubbard Bike-checking (LBS-WH-TEST)</td><td>41.88997</td><td>-87.68027</td><td>41.88997</td><td>-87.68016</td><td>member</td><td>2022-11-13</td><td>13</td><td>11</td><td>2022</td></tr>\n",
              "\t<tr><td>AB0F7D5F5D4F3EAB</td><td>electric_bike</td><td>2022-11-08 16:41:43</td><td>2022-11-08 16:59:09</td><td>1046</td><td><span style=white-space:pre-wrap>Tuesday  </span></td><td>Base - 2132 W Hubbard</td><td>Hubbard Bike-checking (LBS-WH-TEST)</td><td><span style=white-space:pre-wrap>Clinton St &amp; Madison St     </span></td><td><span style=white-space:pre-wrap>TA1305000032                       </span></td><td>41.88996</td><td>-87.68031</td><td>41.88275</td><td>-87.64119</td><td>member</td><td>2022-11-08</td><td>08</td><td>11</td><td>2022</td></tr>\n",
              "\t<tr><td>B45B729300EA9220</td><td>electric_bike</td><td>2022-11-06 15:00:33</td><td>2022-11-06 15:14:02</td><td> 809</td><td><span style=white-space:pre-wrap>Sunday   </span></td><td>Base - 2132 W Hubbard</td><td>Hubbard Bike-checking (LBS-WH-TEST)</td><td><span style=white-space:pre-wrap>Clinton St &amp; Madison St     </span></td><td><span style=white-space:pre-wrap>TA1305000032                       </span></td><td>41.88995</td><td>-87.68029</td><td>41.88275</td><td>-87.64119</td><td>member</td><td>2022-11-06</td><td>06</td><td>11</td><td>2022</td></tr>\n",
              "\t<tr><td>784DDC37F80D74F0</td><td>electric_bike</td><td>2022-11-06 22:53:12</td><td>2022-11-06 23:02:13</td><td> 541</td><td><span style=white-space:pre-wrap>Sunday   </span></td><td>Base - 2132 W Hubbard</td><td>Hubbard Bike-checking (LBS-WH-TEST)</td><td><span style=white-space:pre-wrap>Troy St &amp; North Ave         </span></td><td><span style=white-space:pre-wrap>15653                              </span></td><td>41.88995</td><td>-87.68023</td><td>41.90977</td><td>-87.70528</td><td>member</td><td>2022-11-06</td><td>06</td><td>11</td><td>2022</td></tr>\n",
              "\t<tr><td>BB11ECE8446D00C3</td><td>electric_bike</td><td>2022-11-01 22:55:06</td><td>2022-11-01 23:08:45</td><td> 819</td><td><span style=white-space:pre-wrap>Tuesday  </span></td><td>Base - 2132 W Hubbard</td><td>Hubbard Bike-checking (LBS-WH-TEST)</td><td><span style=white-space:pre-wrap>Troy St &amp; North Ave         </span></td><td><span style=white-space:pre-wrap>15653                              </span></td><td>41.88994</td><td>-87.68025</td><td>41.90977</td><td>-87.70528</td><td>member</td><td>2022-11-01</td><td>01</td><td>11</td><td>2022</td></tr>\n",
              "\t<tr><td>FE61560CC4579EBF</td><td>electric_bike</td><td>2022-11-13 23:01:42</td><td>2022-11-13 23:11:59</td><td> 617</td><td><span style=white-space:pre-wrap>Sunday   </span></td><td>Base - 2132 W Hubbard</td><td>Hubbard Bike-checking (LBS-WH-TEST)</td><td><span style=white-space:pre-wrap>Troy St &amp; North Ave         </span></td><td><span style=white-space:pre-wrap>15653                              </span></td><td>41.88995</td><td>-87.68027</td><td>41.90977</td><td>-87.70528</td><td>member</td><td>2022-11-13</td><td>13</td><td>11</td><td>2022</td></tr>\n",
              "\t<tr><td>5C0FCB8E5CCB05F4</td><td>electric_bike</td><td>2022-11-02 22:55:20</td><td>2022-11-02 23:05:33</td><td> 613</td><td>Wednesday</td><td>Base - 2132 W Hubbard</td><td>Hubbard Bike-checking (LBS-WH-TEST)</td><td><span style=white-space:pre-wrap>Troy St &amp; North Ave         </span></td><td><span style=white-space:pre-wrap>15653                              </span></td><td>41.88992</td><td>-87.68025</td><td>41.90977</td><td>-87.70528</td><td>member</td><td>2022-11-02</td><td>02</td><td>11</td><td>2022</td></tr>\n",
              "\t<tr><td>⋮</td><td>⋮</td><td>⋮</td><td>⋮</td><td>⋮</td><td>⋮</td><td>⋮</td><td>⋮</td><td>⋮</td><td>⋮</td><td>⋮</td><td>⋮</td><td>⋮</td><td>⋮</td><td>⋮</td><td>⋮</td><td>⋮</td><td>⋮</td><td>⋮</td></tr>\n",
              "\t<tr><td>2F161152F3FF2A76</td><td>electric_bike</td><td>2023-04-04 16:56:41</td><td>2023-04-04 17:01:24</td><td> 283</td><td><span style=white-space:pre-wrap>Tuesday  </span></td><td><span style=white-space:pre-wrap>Hastings LWS          </span></td><td><span style=white-space:pre-wrap>2059                               </span></td><td><span style=white-space:pre-wrap>Damen Ave &amp; Cullerton St   </span></td><td><span style=white-space:pre-wrap>13089                 </span></td><td>41.86000</td><td>-87.68000</td><td>41.85497</td><td>-87.67570</td><td>member</td><td>2023-04-04</td><td>04</td><td>04</td><td>2023</td></tr>\n",
              "\t<tr><td>F75716F6D9414F9D</td><td>electric_bike</td><td>2023-04-06 14:06:31</td><td>2023-04-06 14:25:36</td><td>1145</td><td>Thursday </td><td><span style=white-space:pre-wrap>Hastings LWS          </span></td><td><span style=white-space:pre-wrap>2059                               </span></td><td><span style=white-space:pre-wrap>State St &amp; Chicago Ave     </span></td><td><span style=white-space:pre-wrap>21544                 </span></td><td>41.86000</td><td>-87.68000</td><td>41.89662</td><td>-87.62858</td><td>member</td><td>2023-04-06</td><td>06</td><td>04</td><td>2023</td></tr>\n",
              "\t<tr><td>2AF23CC7D2C4F6A7</td><td>electric_bike</td><td>2023-04-03 09:36:46</td><td>2023-04-03 09:51:18</td><td> 872</td><td><span style=white-space:pre-wrap>Monday   </span></td><td><span style=white-space:pre-wrap>Hastings LWS          </span></td><td><span style=white-space:pre-wrap>2059                               </span></td><td><span style=white-space:pre-wrap>Canal St &amp; Jackson Blvd    </span></td><td><span style=white-space:pre-wrap>13138                 </span></td><td>41.86000</td><td>-87.68000</td><td>41.87725</td><td>-87.63937</td><td>casual</td><td>2023-04-03</td><td>03</td><td>04</td><td>2023</td></tr>\n",
              "\t<tr><td>DE3232119B1A7FF8</td><td>electric_bike</td><td>2023-04-06 10:14:29</td><td>2023-04-06 10:26:41</td><td> 732</td><td>Thursday </td><td><span style=white-space:pre-wrap>Hastings LWS          </span></td><td><span style=white-space:pre-wrap>2059                               </span></td><td><span style=white-space:pre-wrap>Canal St &amp; Jackson Blvd    </span></td><td><span style=white-space:pre-wrap>13138                 </span></td><td>41.86000</td><td>-87.68000</td><td>41.87725</td><td>-87.63937</td><td>casual</td><td>2023-04-06</td><td>06</td><td>04</td><td>2023</td></tr>\n",
              "\t<tr><td>126EBE835111F7DF</td><td>electric_bike</td><td>2023-04-01 00:09:32</td><td>2023-04-01 00:20:43</td><td> 671</td><td>Saturday </td><td><span style=white-space:pre-wrap>Hastings LWS          </span></td><td><span style=white-space:pre-wrap>2059                               </span></td><td><span style=white-space:pre-wrap>Morgan St &amp; 31st St        </span></td><td><span style=white-space:pre-wrap>TA1308000046          </span></td><td>41.86000</td><td>-87.68000</td><td>41.83780</td><td>-87.65114</td><td>member</td><td>2023-04-01</td><td>01</td><td>04</td><td>2023</td></tr>\n",
              "\t<tr><td>1DD9CCCD6AAE7073</td><td>electric_bike</td><td>2023-04-07 16:02:02</td><td>2023-04-07 16:21:16</td><td>1154</td><td><span style=white-space:pre-wrap>Friday   </span></td><td><span style=white-space:pre-wrap>Hastings LWS          </span></td><td><span style=white-space:pre-wrap>2059                               </span></td><td><span style=white-space:pre-wrap>Dearborn St &amp; Erie St      </span></td><td><span style=white-space:pre-wrap>13045                 </span></td><td>41.86000</td><td>-87.68000</td><td>41.89399</td><td>-87.62932</td><td>member</td><td>2023-04-07</td><td>07</td><td>04</td><td>2023</td></tr>\n",
              "\t<tr><td>AE5C95B923B47790</td><td>electric_bike</td><td>2023-04-06 14:05:41</td><td>2023-04-06 14:05:54</td><td>  13</td><td>Thursday </td><td>Hastings LWS          </td><td>2059                               </td><td>Hastings LWS               </td><td>2059                  </td><td>41.86000</td><td>-87.68000</td><td>41.86000</td><td>-87.68000</td><td>member</td><td>2023-04-06</td><td>06</td><td>04</td><td>2023</td></tr>\n",
              "\t<tr><td>33154FF084B413E8</td><td>electric_bike</td><td>2023-05-13 13:44:50</td><td>2023-05-13 13:57:57</td><td> 787</td><td>Saturday </td><td>Base - 2132 W Hubbard </td><td>Hubbard Bike-checking (LBS-WH-TEST)</td><td>Western Ave &amp; Congress Pkwy</td><td><span style=white-space:pre-wrap>15668                 </span></td><td>41.89006</td><td>-87.68019</td><td>41.87475</td><td>-87.68645</td><td>member</td><td>2023-05-13</td><td>13</td><td>05</td><td>2023</td></tr>\n",
              "\t<tr><td>D75D70A91D3A54F9</td><td>electric_bike</td><td>2023-05-10 14:27:45</td><td>2023-05-10 14:41:29</td><td> 824</td><td>Wednesday</td><td>Base - 2132 W Hubbard </td><td>Hubbard Bike-checking (LBS-WH-TEST)</td><td>Western Ave &amp; Congress Pkwy</td><td><span style=white-space:pre-wrap>15668                 </span></td><td>41.88997</td><td>-87.68021</td><td>41.87475</td><td>-87.68645</td><td>member</td><td>2023-05-10</td><td>10</td><td>05</td><td>2023</td></tr>\n",
              "\t<tr><td>44E6D7D215405A6F</td><td>electric_bike</td><td>2023-05-11 04:34:45</td><td>2023-05-11 04:53:15</td><td>1110</td><td>Thursday </td><td>Base - 2132 W Hubbard </td><td>Hubbard Bike-checking (LBS-WH-TEST)</td><td><span style=white-space:pre-wrap>Morgan St &amp; 31st St        </span></td><td><span style=white-space:pre-wrap>TA1308000046          </span></td><td>41.89008</td><td>-87.68035</td><td>41.83780</td><td>-87.65114</td><td>member</td><td>2023-05-11</td><td>11</td><td>05</td><td>2023</td></tr>\n",
              "\t<tr><td>1EC494994DFD4553</td><td>electric_bike</td><td>2023-06-28 15:32:50</td><td>2023-06-28 15:33:07</td><td>  17</td><td>Wednesday</td><td>OH Charging Stx - Test</td><td>OH Charging Stx - Test             </td><td>OH - BONFIRE - TESTING     </td><td>6.21.23 OLD HASTINGS  </td><td>41.86362</td><td>-87.67967</td><td>41.86332</td><td>-87.67979</td><td>member</td><td>2023-06-28</td><td>28</td><td>06</td><td>2023</td></tr>\n",
              "\t<tr><td>F5A5C7E214A12551</td><td>electric_bike</td><td>2023-06-28 13:50:45</td><td>2023-06-28 13:50:58</td><td>  13</td><td>Wednesday</td><td>OH - BONFIRE - TESTING</td><td>6.21.23 OLD HASTINGS               </td><td>OH - BONFIRE - TESTING     </td><td>6.21.23 OLD HASTINGS  </td><td>41.86362</td><td>-87.67967</td><td>41.86332</td><td>-87.67979</td><td>member</td><td>2023-06-28</td><td>28</td><td>06</td><td>2023</td></tr>\n",
              "\t<tr><td>0A3577C4859EE985</td><td>electric_bike</td><td>2023-06-25 14:50:44</td><td>2023-06-25 14:56:41</td><td> 357</td><td><span style=white-space:pre-wrap>Sunday   </span></td><td>Base - 2132 W Hubbard </td><td>Hubbard Bike-checking (LBS-WH-TEST)</td><td><span style=white-space:pre-wrap>Ashland Ave &amp; Lake St      </span></td><td><span style=white-space:pre-wrap>13073                 </span></td><td>41.89003</td><td>-87.68018</td><td>41.88592</td><td>-87.66717</td><td>member</td><td>2023-06-25</td><td>25</td><td>06</td><td>2023</td></tr>\n",
              "\t<tr><td>A34B8C56E7692CB5</td><td>electric_bike</td><td>2023-06-29 14:29:06</td><td>2023-06-29 14:29:13</td><td>   7</td><td>Thursday </td><td>OH Charging Stx - Test</td><td>OH Charging Stx - Test             </td><td>OH Charging Stx - Test     </td><td>OH Charging Stx - Test</td><td>41.86362</td><td>-87.67972</td><td>41.86257</td><td>-87.67994</td><td>member</td><td>2023-06-29</td><td>29</td><td>06</td><td>2023</td></tr>\n",
              "\t<tr><td>465EA70E1D719562</td><td>electric_bike</td><td>2023-06-29 14:41:13</td><td>2023-06-29 14:41:19</td><td>   6</td><td>Thursday </td><td>OH Charging Stx - Test</td><td>OH Charging Stx - Test             </td><td>OH Charging Stx - Test     </td><td>OH Charging Stx - Test</td><td>41.86339</td><td>-87.67978</td><td>41.86257</td><td>-87.67994</td><td>member</td><td>2023-06-29</td><td>29</td><td>06</td><td>2023</td></tr>\n",
              "\t<tr><td>89D9BB1625C66CE3</td><td>classic_bike </td><td>2023-06-29 14:36:06</td><td>2023-06-29 14:36:13</td><td>   7</td><td>Thursday </td><td>OH Charging Stx - Test</td><td>OH Charging Stx - Test             </td><td>OH Charging Stx - Test     </td><td>OH Charging Stx - Test</td><td>41.86257</td><td>-87.67994</td><td>41.86257</td><td>-87.67994</td><td>member</td><td>2023-06-29</td><td>29</td><td>06</td><td>2023</td></tr>\n",
              "\t<tr><td>E3AC9546FB4F0BEB</td><td>classic_bike </td><td>2023-06-28 15:44:00</td><td>2023-06-28 15:44:06</td><td>   6</td><td>Wednesday</td><td>OH Charging Stx - Test</td><td>OH Charging Stx - Test             </td><td>OH Charging Stx - Test     </td><td>OH Charging Stx - Test</td><td>41.86257</td><td>-87.67994</td><td>41.86257</td><td>-87.67994</td><td>member</td><td>2023-06-28</td><td>28</td><td>06</td><td>2023</td></tr>\n",
              "\t<tr><td>3AA20CC3FE43F678</td><td>classic_bike </td><td>2023-06-28 10:56:35</td><td>2023-06-28 10:56:40</td><td>   5</td><td>Wednesday</td><td>OH Charging Stx - Test</td><td>OH Charging Stx - Test             </td><td>OH Charging Stx - Test     </td><td>OH Charging Stx - Test</td><td>41.86257</td><td>-87.67994</td><td>41.86257</td><td>-87.67994</td><td>member</td><td>2023-06-28</td><td>28</td><td>06</td><td>2023</td></tr>\n",
              "\t<tr><td>103567010777D572</td><td>classic_bike </td><td>2023-06-28 15:43:40</td><td>2023-06-28 15:43:44</td><td>   4</td><td>Wednesday</td><td>OH Charging Stx - Test</td><td>OH Charging Stx - Test             </td><td>OH Charging Stx - Test     </td><td>OH Charging Stx - Test</td><td>41.86257</td><td>-87.67994</td><td>41.86257</td><td>-87.67994</td><td>member</td><td>2023-06-28</td><td>28</td><td>06</td><td>2023</td></tr>\n",
              "\t<tr><td>12A36ED2AAE587FD</td><td>electric_bike</td><td>2023-06-28 15:32:11</td><td>2023-06-28 15:32:27</td><td>  16</td><td>Wednesday</td><td>OH Charging Stx - Test</td><td>OH Charging Stx - Test             </td><td>OH Charging Stx - Test     </td><td>OH Charging Stx - Test</td><td>41.86362</td><td>-87.67967</td><td>41.86257</td><td>-87.67994</td><td>member</td><td>2023-06-28</td><td>28</td><td>06</td><td>2023</td></tr>\n",
              "\t<tr><td>0D77713ADEE7A4ED</td><td>electric_bike</td><td>2023-06-28 15:34:27</td><td>2023-06-28 15:34:33</td><td>   6</td><td>Wednesday</td><td>OH Charging Stx - Test</td><td>OH Charging Stx - Test             </td><td>OH Charging Stx - Test     </td><td>OH Charging Stx - Test</td><td>41.86351</td><td>-87.67975</td><td>41.86257</td><td>-87.67994</td><td>member</td><td>2023-06-28</td><td>28</td><td>06</td><td>2023</td></tr>\n",
              "\t<tr><td>B6A90F07CCAEEB50</td><td>electric_bike</td><td>2023-06-28 15:38:05</td><td>2023-06-28 15:38:13</td><td>   8</td><td>Wednesday</td><td>OH Charging Stx - Test</td><td>OH Charging Stx - Test             </td><td>OH Charging Stx - Test     </td><td>OH Charging Stx - Test</td><td>41.86348</td><td>-87.67987</td><td>41.86257</td><td>-87.67994</td><td>member</td><td>2023-06-28</td><td>28</td><td>06</td><td>2023</td></tr>\n",
              "\t<tr><td>873D50153BBC0686</td><td>electric_bike</td><td>2023-06-15 12:38:05</td><td>2023-06-15 12:38:41</td><td>  36</td><td>Thursday </td><td>OH Charging Stx - Test</td><td>OH Charging Stx - Test             </td><td>OH Charging Stx - Test     </td><td>OH Charging Stx - Test</td><td>41.86317</td><td>-87.67981</td><td> 0.00000</td><td>  0.00000</td><td>member</td><td>2023-06-15</td><td>15</td><td>06</td><td>2023</td></tr>\n",
              "\t<tr><td>17E7201CD21C0085</td><td>classic_bike </td><td>2023-06-29 14:36:38</td><td>2023-06-29 14:36:51</td><td>  13</td><td>Thursday </td><td>OH Charging Stx - Test</td><td>OH Charging Stx - Test             </td><td>OH Charging Stx - Test     </td><td>OH Charging Stx - Test</td><td>41.86257</td><td>-87.67994</td><td>41.86257</td><td>-87.67994</td><td>member</td><td>2023-06-29</td><td>29</td><td>06</td><td>2023</td></tr>\n",
              "\t<tr><td>21F3D75A63DC5D8B</td><td>electric_bike</td><td>2023-06-29 14:41:41</td><td>2023-06-29 14:41:45</td><td>   4</td><td>Thursday </td><td>OH Charging Stx - Test</td><td>OH Charging Stx - Test             </td><td>OH Charging Stx - Test     </td><td>OH Charging Stx - Test</td><td>41.86339</td><td>-87.67978</td><td>41.86257</td><td>-87.67994</td><td>member</td><td>2023-06-29</td><td>29</td><td>06</td><td>2023</td></tr>\n",
              "\t<tr><td>A1991A2CD9556925</td><td>electric_bike</td><td>2023-06-28 10:59:19</td><td>2023-06-28 10:59:46</td><td>  27</td><td>Wednesday</td><td>OH Charging Stx - Test</td><td>OH Charging Stx - Test             </td><td>                           </td><td>                      </td><td>41.86351</td><td>-87.67973</td><td>41.86000</td><td>-87.68000</td><td>member</td><td>2023-06-28</td><td>28</td><td>06</td><td>2023</td></tr>\n",
              "\t<tr><td>49B15A5DEF0E132C</td><td>electric_bike</td><td>2023-06-28 11:00:52</td><td>2023-06-28 11:01:28</td><td>  36</td><td>Wednesday</td><td>OH Charging Stx - Test</td><td>OH Charging Stx - Test             </td><td>                           </td><td>                      </td><td>41.86343</td><td>-87.67971</td><td>41.86000</td><td>-87.68000</td><td>member</td><td>2023-06-28</td><td>28</td><td>06</td><td>2023</td></tr>\n",
              "\t<tr><td>E9CE084EF510E686</td><td>electric_bike</td><td>2023-06-29 14:30:36</td><td>2023-06-29 14:30:52</td><td>  16</td><td>Thursday </td><td>OH Charging Stx - Test</td><td>OH Charging Stx - Test             </td><td>                           </td><td>                      </td><td>41.86362</td><td>-87.67972</td><td>41.86000</td><td>-87.68000</td><td>member</td><td>2023-06-29</td><td>29</td><td>06</td><td>2023</td></tr>\n",
              "\t<tr><td>F85E8EC008A4E3AB</td><td>electric_bike</td><td>2023-06-21 14:17:57</td><td>2023-06-21 14:18:16</td><td>  19</td><td>Wednesday</td><td>OH Charging Stx - Test</td><td>OH Charging Stx - Test             </td><td>                           </td><td>                      </td><td>41.86349</td><td>-87.67974</td><td>41.86000</td><td>-87.68000</td><td>casual</td><td>2023-06-21</td><td>21</td><td>06</td><td>2023</td></tr>\n",
              "\t<tr><td>90117F884CB08650</td><td>electric_bike</td><td>2023-06-21 11:00:27</td><td>2023-06-21 11:00:56</td><td>  29</td><td>Wednesday</td><td>OH Charging Stx - Test</td><td>OH Charging Stx - Test             </td><td>                           </td><td>                      </td><td>41.86349</td><td>-87.67974</td><td>41.86000</td><td>-87.68000</td><td>casual</td><td>2023-06-21</td><td>21</td><td>06</td><td>2023</td></tr>\n",
              "</tbody>\n",
              "</table>\n"
            ],
            "text/markdown": "\nA data.frame: 125 × 19\n\n| ride_id &lt;chr&gt; | rideable_type &lt;chr&gt; | started_at &lt;dttm&gt; | ended_at &lt;dttm&gt; | ride_length &lt;dbl&gt; | day_of_week &lt;chr&gt; | start_station_name &lt;chr&gt; | start_station_id &lt;chr&gt; | end_station_name &lt;chr&gt; | end_station_id &lt;chr&gt; | start_lat &lt;dbl&gt; | start_lng &lt;dbl&gt; | end_lat &lt;dbl&gt; | end_lng &lt;dbl&gt; | member_casual &lt;chr&gt; | date &lt;date&gt; | day &lt;chr&gt; | month &lt;chr&gt; | year &lt;chr&gt; |\n|---|---|---|---|---|---|---|---|---|---|---|---|---|---|---|---|---|---|---|\n| 577398C1BE22EDA4 | electric_bike | 2022-10-24 22:54:03 | 2022-10-24 22:54:19 |   16 | Monday    | Base - 2132 W Hubbard | Hubbard Bike-checking (LBS-WH-TEST) | Base - 2132 W Hubbard        | Hubbard Bike-checking (LBS-WH-TEST) | 41.88992 | -87.68026 | 41.88997 | -87.68016 | member | 2022-10-24 | 24 | 10 | 2022 |\n| 4354E87D174CE327 | electric_bike | 2022-10-26 22:53:24 | 2022-10-26 22:53:28 |    4 | Wednesday | Base - 2132 W Hubbard | Hubbard Bike-checking (LBS-WH-TEST) | Base - 2132 W Hubbard        | Hubbard Bike-checking (LBS-WH-TEST) | 41.88993 | -87.68019 | 41.88997 | -87.68016 | member | 2022-10-26 | 26 | 10 | 2022 |\n| ABF86D62CA10DC35 | electric_bike | 2022-10-26 22:52:56 | 2022-10-26 22:53:00 |    4 | Wednesday | Base - 2132 W Hubbard | Hubbard Bike-checking (LBS-WH-TEST) | Base - 2132 W Hubbard        | Hubbard Bike-checking (LBS-WH-TEST) | 41.88993 | -87.68019 | 41.88997 | -87.68016 | member | 2022-10-26 | 26 | 10 | 2022 |\n| 57F586A2A9504FEF | electric_bike | 2022-10-24 22:52:09 | 2022-10-24 22:52:34 |   25 | Monday    | Base - 2132 W Hubbard | Hubbard Bike-checking (LBS-WH-TEST) | Base - 2132 W Hubbard        | Hubbard Bike-checking (LBS-WH-TEST) | 41.88993 | -87.68023 | 41.88997 | -87.68016 | member | 2022-10-24 | 24 | 10 | 2022 |\n| CDBD5F04619AC7EB | electric_bike | 2022-10-12 22:53:51 | 2022-10-12 23:06:03 |  732 | Wednesday | Base - 2132 W Hubbard | Hubbard Bike-checking (LBS-WH-TEST) | Troy St &amp; North Ave          | 15653                               | 41.88992 | -87.68026 | 41.90977 | -87.70528 | member | 2022-10-12 | 12 | 10 | 2022 |\n| 450783BDF55D14B0 | electric_bike | 2022-10-25 22:54:04 | 2022-10-25 23:05:26 |  682 | Tuesday   | Base - 2132 W Hubbard | Hubbard Bike-checking (LBS-WH-TEST) | Troy St &amp; North Ave          | 15653                               | 41.88997 | -87.68016 | 41.90977 | -87.70528 | member | 2022-10-25 | 25 | 10 | 2022 |\n| 26E688D79E20B5DD | electric_bike | 2022-10-02 23:04:07 | 2022-10-02 23:14:02 |  595 | Sunday    | Base - 2132 W Hubbard | Hubbard Bike-checking (LBS-WH-TEST) | Troy St &amp; North Ave          | 15653                               | 41.89001 | -87.68012 | 41.90977 | -87.70528 | member | 2022-10-02 | 02 | 10 | 2022 |\n| 9C6875E7918BECC1 | electric_bike | 2022-10-08 23:00:46 | 2022-10-08 23:13:24 |  758 | Saturday  | Base - 2132 W Hubbard | Hubbard Bike-checking (LBS-WH-TEST) | Troy St &amp; North Ave          | 15653                               | 41.88996 | -87.68035 | 41.90977 | -87.70528 | member | 2022-10-08 | 08 | 10 | 2022 |\n| 5B4F9BE15B6BC756 | electric_bike | 2022-10-17 22:58:25 | 2022-10-17 23:09:59 |  694 | Monday    | Base - 2132 W Hubbard | Hubbard Bike-checking (LBS-WH-TEST) | Troy St &amp; North Ave          | 15653                               | 41.88993 | -87.68027 | 41.90977 | -87.70528 | member | 2022-10-17 | 17 | 10 | 2022 |\n| 0920017024528BDD | electric_bike | 2022-10-15 22:53:58 | 2022-10-15 23:05:19 |  681 | Saturday  | Base - 2132 W Hubbard | Hubbard Bike-checking (LBS-WH-TEST) | Troy St &amp; North Ave          | 15653                               | 41.88995 | -87.68024 | 41.90977 | -87.70528 | member | 2022-10-15 | 15 | 10 | 2022 |\n| A775BE08001A7618 | electric_bike | 2022-10-24 22:53:15 | 2022-10-24 23:03:38 |  623 | Monday    | Base - 2132 W Hubbard | Hubbard Bike-checking (LBS-WH-TEST) | Troy St &amp; North Ave          | 15653                               | 41.88997 | -87.68022 | 41.90977 | -87.70528 | member | 2022-10-24 | 24 | 10 | 2022 |\n| 258A10EEA645733E | electric_bike | 2022-10-19 22:57:22 | 2022-10-19 23:07:31 |  609 | Wednesday | Base - 2132 W Hubbard | Hubbard Bike-checking (LBS-WH-TEST) | Troy St &amp; North Ave          | 15653                               | 41.88995 | -87.68030 | 41.90977 | -87.70528 | member | 2022-10-19 | 19 | 10 | 2022 |\n| 8F7A8F0952CD8D3A | electric_bike | 2022-10-05 22:51:36 | 2022-10-05 23:04:31 |  775 | Wednesday | Base - 2132 W Hubbard | Hubbard Bike-checking (LBS-WH-TEST) | Troy St &amp; North Ave          | 15653                               | 41.88998 | -87.68029 | 41.90977 | -87.70528 | member | 2022-10-05 | 05 | 10 | 2022 |\n| 514776EAE5B96470 | electric_bike | 2022-10-18 22:56:02 | 2022-10-18 23:07:19 |  677 | Tuesday   | Base - 2132 W Hubbard | Hubbard Bike-checking (LBS-WH-TEST) | Troy St &amp; North Ave          | 15653                               | 41.88994 | -87.68023 | 41.90977 | -87.70528 | member | 2022-10-18 | 18 | 10 | 2022 |\n| 25E57ABA58ADED7F | electric_bike | 2022-10-16 22:57:46 | 2022-10-16 23:10:12 |  746 | Sunday    | Base - 2132 W Hubbard | Hubbard Bike-checking (LBS-WH-TEST) | Troy St &amp; North Ave          | 15653                               | 41.88994 | -87.68026 | 41.90977 | -87.70528 | member | 2022-10-16 | 16 | 10 | 2022 |\n| 6A891707EBCB7930 | electric_bike | 2022-10-01 22:55:16 | 2022-10-01 23:05:41 |  625 | Saturday  | Base - 2132 W Hubbard | Hubbard Bike-checking (LBS-WH-TEST) | Troy St &amp; North Ave          | 15653                               | 41.88995 | -87.68011 | 41.90977 | -87.70528 | member | 2022-10-01 | 01 | 10 | 2022 |\n| 00C4FC02F6CD73F0 | electric_bike | 2022-10-29 22:56:16 | 2022-10-29 23:08:10 |  714 | Saturday  | Base - 2132 W Hubbard | Hubbard Bike-checking (LBS-WH-TEST) | Troy St &amp; North Ave          | 15653                               | 41.88997 | -87.68032 | 41.90977 | -87.70528 | member | 2022-10-29 | 29 | 10 | 2022 |\n| 595E4E84153CC366 | electric_bike | 2022-10-24 22:54:33 | 2022-10-24 23:08:01 |  808 | Monday    | Base - 2132 W Hubbard | Hubbard Bike-checking (LBS-WH-TEST) | Kedzie Ave &amp; 21st St         | 15686                               | 41.88992 | -87.68026 | 41.85353 | -87.70507 | member | 2022-10-24 | 24 | 10 | 2022 |\n| 1B2E3055D73FE592 | electric_bike | 2022-10-21 22:55:20 | 2022-10-21 23:11:37 |  977 | Friday    | Base - 2132 W Hubbard | Hubbard Bike-checking (LBS-WH-TEST) | Kedzie Ave &amp; 21st St         | 15686                               | 41.88998 | -87.68024 | 41.85353 | -87.70507 | member | 2022-10-21 | 21 | 10 | 2022 |\n| BA54A2F1932C9D17 | electric_bike | 2022-10-02 15:04:27 | 2022-10-02 15:18:00 |  813 | Sunday    | Base - 2132 W Hubbard | Hubbard Bike-checking (LBS-WH-TEST) | Clinton St &amp; Washington Blvd | WL-012                              | 41.88996 | -87.68028 | 41.88338 | -87.64117 | member | 2022-10-02 | 02 | 10 | 2022 |\n| 72D6D3FD3CA33222 | electric_bike | 2022-10-09 15:05:16 | 2022-10-09 15:20:20 |  904 | Sunday    | Base - 2132 W Hubbard | Hubbard Bike-checking (LBS-WH-TEST) | Clinton St &amp; Washington Blvd | WL-012                              | 41.88996 | -87.68031 | 41.88338 | -87.64117 | member | 2022-10-09 | 09 | 10 | 2022 |\n| 905EE71AA5E5B694 | electric_bike | 2022-10-22 14:56:44 | 2022-10-22 15:13:14 |  990 | Saturday  | Base - 2132 W Hubbard | Hubbard Bike-checking (LBS-WH-TEST) | Clinton St &amp; Washington Blvd | WL-012                              | 41.88995 | -87.68023 | 41.88338 | -87.64117 | member | 2022-10-22 | 22 | 10 | 2022 |\n| DC6E1F145DC5D552 | electric_bike | 2022-11-05 22:52:17 | 2022-11-05 22:52:20 |    3 | Saturday  | Base - 2132 W Hubbard | Hubbard Bike-checking (LBS-WH-TEST) | Base - 2132 W Hubbard        | Hubbard Bike-checking (LBS-WH-TEST) | 41.88993 | -87.68027 | 41.88997 | -87.68016 | member | 2022-11-05 | 05 | 11 | 2022 |\n| EC7D2D99019CD0DC | electric_bike | 2022-11-13 22:59:23 | 2022-11-13 22:59:27 |    4 | Sunday    | Base - 2132 W Hubbard | Hubbard Bike-checking (LBS-WH-TEST) | Base - 2132 W Hubbard        | Hubbard Bike-checking (LBS-WH-TEST) | 41.88997 | -87.68027 | 41.88997 | -87.68016 | member | 2022-11-13 | 13 | 11 | 2022 |\n| AB0F7D5F5D4F3EAB | electric_bike | 2022-11-08 16:41:43 | 2022-11-08 16:59:09 | 1046 | Tuesday   | Base - 2132 W Hubbard | Hubbard Bike-checking (LBS-WH-TEST) | Clinton St &amp; Madison St      | TA1305000032                        | 41.88996 | -87.68031 | 41.88275 | -87.64119 | member | 2022-11-08 | 08 | 11 | 2022 |\n| B45B729300EA9220 | electric_bike | 2022-11-06 15:00:33 | 2022-11-06 15:14:02 |  809 | Sunday    | Base - 2132 W Hubbard | Hubbard Bike-checking (LBS-WH-TEST) | Clinton St &amp; Madison St      | TA1305000032                        | 41.88995 | -87.68029 | 41.88275 | -87.64119 | member | 2022-11-06 | 06 | 11 | 2022 |\n| 784DDC37F80D74F0 | electric_bike | 2022-11-06 22:53:12 | 2022-11-06 23:02:13 |  541 | Sunday    | Base - 2132 W Hubbard | Hubbard Bike-checking (LBS-WH-TEST) | Troy St &amp; North Ave          | 15653                               | 41.88995 | -87.68023 | 41.90977 | -87.70528 | member | 2022-11-06 | 06 | 11 | 2022 |\n| BB11ECE8446D00C3 | electric_bike | 2022-11-01 22:55:06 | 2022-11-01 23:08:45 |  819 | Tuesday   | Base - 2132 W Hubbard | Hubbard Bike-checking (LBS-WH-TEST) | Troy St &amp; North Ave          | 15653                               | 41.88994 | -87.68025 | 41.90977 | -87.70528 | member | 2022-11-01 | 01 | 11 | 2022 |\n| FE61560CC4579EBF | electric_bike | 2022-11-13 23:01:42 | 2022-11-13 23:11:59 |  617 | Sunday    | Base - 2132 W Hubbard | Hubbard Bike-checking (LBS-WH-TEST) | Troy St &amp; North Ave          | 15653                               | 41.88995 | -87.68027 | 41.90977 | -87.70528 | member | 2022-11-13 | 13 | 11 | 2022 |\n| 5C0FCB8E5CCB05F4 | electric_bike | 2022-11-02 22:55:20 | 2022-11-02 23:05:33 |  613 | Wednesday | Base - 2132 W Hubbard | Hubbard Bike-checking (LBS-WH-TEST) | Troy St &amp; North Ave          | 15653                               | 41.88992 | -87.68025 | 41.90977 | -87.70528 | member | 2022-11-02 | 02 | 11 | 2022 |\n| ⋮ | ⋮ | ⋮ | ⋮ | ⋮ | ⋮ | ⋮ | ⋮ | ⋮ | ⋮ | ⋮ | ⋮ | ⋮ | ⋮ | ⋮ | ⋮ | ⋮ | ⋮ | ⋮ |\n| 2F161152F3FF2A76 | electric_bike | 2023-04-04 16:56:41 | 2023-04-04 17:01:24 |  283 | Tuesday   | Hastings LWS           | 2059                                | Damen Ave &amp; Cullerton St    | 13089                  | 41.86000 | -87.68000 | 41.85497 | -87.67570 | member | 2023-04-04 | 04 | 04 | 2023 |\n| F75716F6D9414F9D | electric_bike | 2023-04-06 14:06:31 | 2023-04-06 14:25:36 | 1145 | Thursday  | Hastings LWS           | 2059                                | State St &amp; Chicago Ave      | 21544                  | 41.86000 | -87.68000 | 41.89662 | -87.62858 | member | 2023-04-06 | 06 | 04 | 2023 |\n| 2AF23CC7D2C4F6A7 | electric_bike | 2023-04-03 09:36:46 | 2023-04-03 09:51:18 |  872 | Monday    | Hastings LWS           | 2059                                | Canal St &amp; Jackson Blvd     | 13138                  | 41.86000 | -87.68000 | 41.87725 | -87.63937 | casual | 2023-04-03 | 03 | 04 | 2023 |\n| DE3232119B1A7FF8 | electric_bike | 2023-04-06 10:14:29 | 2023-04-06 10:26:41 |  732 | Thursday  | Hastings LWS           | 2059                                | Canal St &amp; Jackson Blvd     | 13138                  | 41.86000 | -87.68000 | 41.87725 | -87.63937 | casual | 2023-04-06 | 06 | 04 | 2023 |\n| 126EBE835111F7DF | electric_bike | 2023-04-01 00:09:32 | 2023-04-01 00:20:43 |  671 | Saturday  | Hastings LWS           | 2059                                | Morgan St &amp; 31st St         | TA1308000046           | 41.86000 | -87.68000 | 41.83780 | -87.65114 | member | 2023-04-01 | 01 | 04 | 2023 |\n| 1DD9CCCD6AAE7073 | electric_bike | 2023-04-07 16:02:02 | 2023-04-07 16:21:16 | 1154 | Friday    | Hastings LWS           | 2059                                | Dearborn St &amp; Erie St       | 13045                  | 41.86000 | -87.68000 | 41.89399 | -87.62932 | member | 2023-04-07 | 07 | 04 | 2023 |\n| AE5C95B923B47790 | electric_bike | 2023-04-06 14:05:41 | 2023-04-06 14:05:54 |   13 | Thursday  | Hastings LWS           | 2059                                | Hastings LWS                | 2059                   | 41.86000 | -87.68000 | 41.86000 | -87.68000 | member | 2023-04-06 | 06 | 04 | 2023 |\n| 33154FF084B413E8 | electric_bike | 2023-05-13 13:44:50 | 2023-05-13 13:57:57 |  787 | Saturday  | Base - 2132 W Hubbard  | Hubbard Bike-checking (LBS-WH-TEST) | Western Ave &amp; Congress Pkwy | 15668                  | 41.89006 | -87.68019 | 41.87475 | -87.68645 | member | 2023-05-13 | 13 | 05 | 2023 |\n| D75D70A91D3A54F9 | electric_bike | 2023-05-10 14:27:45 | 2023-05-10 14:41:29 |  824 | Wednesday | Base - 2132 W Hubbard  | Hubbard Bike-checking (LBS-WH-TEST) | Western Ave &amp; Congress Pkwy | 15668                  | 41.88997 | -87.68021 | 41.87475 | -87.68645 | member | 2023-05-10 | 10 | 05 | 2023 |\n| 44E6D7D215405A6F | electric_bike | 2023-05-11 04:34:45 | 2023-05-11 04:53:15 | 1110 | Thursday  | Base - 2132 W Hubbard  | Hubbard Bike-checking (LBS-WH-TEST) | Morgan St &amp; 31st St         | TA1308000046           | 41.89008 | -87.68035 | 41.83780 | -87.65114 | member | 2023-05-11 | 11 | 05 | 2023 |\n| 1EC494994DFD4553 | electric_bike | 2023-06-28 15:32:50 | 2023-06-28 15:33:07 |   17 | Wednesday | OH Charging Stx - Test | OH Charging Stx - Test              | OH - BONFIRE - TESTING      | 6.21.23 OLD HASTINGS   | 41.86362 | -87.67967 | 41.86332 | -87.67979 | member | 2023-06-28 | 28 | 06 | 2023 |\n| F5A5C7E214A12551 | electric_bike | 2023-06-28 13:50:45 | 2023-06-28 13:50:58 |   13 | Wednesday | OH - BONFIRE - TESTING | 6.21.23 OLD HASTINGS                | OH - BONFIRE - TESTING      | 6.21.23 OLD HASTINGS   | 41.86362 | -87.67967 | 41.86332 | -87.67979 | member | 2023-06-28 | 28 | 06 | 2023 |\n| 0A3577C4859EE985 | electric_bike | 2023-06-25 14:50:44 | 2023-06-25 14:56:41 |  357 | Sunday    | Base - 2132 W Hubbard  | Hubbard Bike-checking (LBS-WH-TEST) | Ashland Ave &amp; Lake St       | 13073                  | 41.89003 | -87.68018 | 41.88592 | -87.66717 | member | 2023-06-25 | 25 | 06 | 2023 |\n| A34B8C56E7692CB5 | electric_bike | 2023-06-29 14:29:06 | 2023-06-29 14:29:13 |    7 | Thursday  | OH Charging Stx - Test | OH Charging Stx - Test              | OH Charging Stx - Test      | OH Charging Stx - Test | 41.86362 | -87.67972 | 41.86257 | -87.67994 | member | 2023-06-29 | 29 | 06 | 2023 |\n| 465EA70E1D719562 | electric_bike | 2023-06-29 14:41:13 | 2023-06-29 14:41:19 |    6 | Thursday  | OH Charging Stx - Test | OH Charging Stx - Test              | OH Charging Stx - Test      | OH Charging Stx - Test | 41.86339 | -87.67978 | 41.86257 | -87.67994 | member | 2023-06-29 | 29 | 06 | 2023 |\n| 89D9BB1625C66CE3 | classic_bike  | 2023-06-29 14:36:06 | 2023-06-29 14:36:13 |    7 | Thursday  | OH Charging Stx - Test | OH Charging Stx - Test              | OH Charging Stx - Test      | OH Charging Stx - Test | 41.86257 | -87.67994 | 41.86257 | -87.67994 | member | 2023-06-29 | 29 | 06 | 2023 |\n| E3AC9546FB4F0BEB | classic_bike  | 2023-06-28 15:44:00 | 2023-06-28 15:44:06 |    6 | Wednesday | OH Charging Stx - Test | OH Charging Stx - Test              | OH Charging Stx - Test      | OH Charging Stx - Test | 41.86257 | -87.67994 | 41.86257 | -87.67994 | member | 2023-06-28 | 28 | 06 | 2023 |\n| 3AA20CC3FE43F678 | classic_bike  | 2023-06-28 10:56:35 | 2023-06-28 10:56:40 |    5 | Wednesday | OH Charging Stx - Test | OH Charging Stx - Test              | OH Charging Stx - Test      | OH Charging Stx - Test | 41.86257 | -87.67994 | 41.86257 | -87.67994 | member | 2023-06-28 | 28 | 06 | 2023 |\n| 103567010777D572 | classic_bike  | 2023-06-28 15:43:40 | 2023-06-28 15:43:44 |    4 | Wednesday | OH Charging Stx - Test | OH Charging Stx - Test              | OH Charging Stx - Test      | OH Charging Stx - Test | 41.86257 | -87.67994 | 41.86257 | -87.67994 | member | 2023-06-28 | 28 | 06 | 2023 |\n| 12A36ED2AAE587FD | electric_bike | 2023-06-28 15:32:11 | 2023-06-28 15:32:27 |   16 | Wednesday | OH Charging Stx - Test | OH Charging Stx - Test              | OH Charging Stx - Test      | OH Charging Stx - Test | 41.86362 | -87.67967 | 41.86257 | -87.67994 | member | 2023-06-28 | 28 | 06 | 2023 |\n| 0D77713ADEE7A4ED | electric_bike | 2023-06-28 15:34:27 | 2023-06-28 15:34:33 |    6 | Wednesday | OH Charging Stx - Test | OH Charging Stx - Test              | OH Charging Stx - Test      | OH Charging Stx - Test | 41.86351 | -87.67975 | 41.86257 | -87.67994 | member | 2023-06-28 | 28 | 06 | 2023 |\n| B6A90F07CCAEEB50 | electric_bike | 2023-06-28 15:38:05 | 2023-06-28 15:38:13 |    8 | Wednesday | OH Charging Stx - Test | OH Charging Stx - Test              | OH Charging Stx - Test      | OH Charging Stx - Test | 41.86348 | -87.67987 | 41.86257 | -87.67994 | member | 2023-06-28 | 28 | 06 | 2023 |\n| 873D50153BBC0686 | electric_bike | 2023-06-15 12:38:05 | 2023-06-15 12:38:41 |   36 | Thursday  | OH Charging Stx - Test | OH Charging Stx - Test              | OH Charging Stx - Test      | OH Charging Stx - Test | 41.86317 | -87.67981 |  0.00000 |   0.00000 | member | 2023-06-15 | 15 | 06 | 2023 |\n| 17E7201CD21C0085 | classic_bike  | 2023-06-29 14:36:38 | 2023-06-29 14:36:51 |   13 | Thursday  | OH Charging Stx - Test | OH Charging Stx - Test              | OH Charging Stx - Test      | OH Charging Stx - Test | 41.86257 | -87.67994 | 41.86257 | -87.67994 | member | 2023-06-29 | 29 | 06 | 2023 |\n| 21F3D75A63DC5D8B | electric_bike | 2023-06-29 14:41:41 | 2023-06-29 14:41:45 |    4 | Thursday  | OH Charging Stx - Test | OH Charging Stx - Test              | OH Charging Stx - Test      | OH Charging Stx - Test | 41.86339 | -87.67978 | 41.86257 | -87.67994 | member | 2023-06-29 | 29 | 06 | 2023 |\n| A1991A2CD9556925 | electric_bike | 2023-06-28 10:59:19 | 2023-06-28 10:59:46 |   27 | Wednesday | OH Charging Stx - Test | OH Charging Stx - Test              | <!----> | <!----> | 41.86351 | -87.67973 | 41.86000 | -87.68000 | member | 2023-06-28 | 28 | 06 | 2023 |\n| 49B15A5DEF0E132C | electric_bike | 2023-06-28 11:00:52 | 2023-06-28 11:01:28 |   36 | Wednesday | OH Charging Stx - Test | OH Charging Stx - Test              | <!----> | <!----> | 41.86343 | -87.67971 | 41.86000 | -87.68000 | member | 2023-06-28 | 28 | 06 | 2023 |\n| E9CE084EF510E686 | electric_bike | 2023-06-29 14:30:36 | 2023-06-29 14:30:52 |   16 | Thursday  | OH Charging Stx - Test | OH Charging Stx - Test              | <!----> | <!----> | 41.86362 | -87.67972 | 41.86000 | -87.68000 | member | 2023-06-29 | 29 | 06 | 2023 |\n| F85E8EC008A4E3AB | electric_bike | 2023-06-21 14:17:57 | 2023-06-21 14:18:16 |   19 | Wednesday | OH Charging Stx - Test | OH Charging Stx - Test              | <!----> | <!----> | 41.86349 | -87.67974 | 41.86000 | -87.68000 | casual | 2023-06-21 | 21 | 06 | 2023 |\n| 90117F884CB08650 | electric_bike | 2023-06-21 11:00:27 | 2023-06-21 11:00:56 |   29 | Wednesday | OH Charging Stx - Test | OH Charging Stx - Test              | <!----> | <!----> | 41.86349 | -87.67974 | 41.86000 | -87.68000 | casual | 2023-06-21 | 21 | 06 | 2023 |\n\n",
            "text/latex": "A data.frame: 125 × 19\n\\begin{tabular}{lllllllllllllllllll}\n ride\\_id & rideable\\_type & started\\_at & ended\\_at & ride\\_length & day\\_of\\_week & start\\_station\\_name & start\\_station\\_id & end\\_station\\_name & end\\_station\\_id & start\\_lat & start\\_lng & end\\_lat & end\\_lng & member\\_casual & date & day & month & year\\\\\n <chr> & <chr> & <dttm> & <dttm> & <dbl> & <chr> & <chr> & <chr> & <chr> & <chr> & <dbl> & <dbl> & <dbl> & <dbl> & <chr> & <date> & <chr> & <chr> & <chr>\\\\\n\\hline\n\t 577398C1BE22EDA4 & electric\\_bike & 2022-10-24 22:54:03 & 2022-10-24 22:54:19 &   16 & Monday    & Base - 2132 W Hubbard & Hubbard Bike-checking (LBS-WH-TEST) & Base - 2132 W Hubbard        & Hubbard Bike-checking (LBS-WH-TEST) & 41.88992 & -87.68026 & 41.88997 & -87.68016 & member & 2022-10-24 & 24 & 10 & 2022\\\\\n\t 4354E87D174CE327 & electric\\_bike & 2022-10-26 22:53:24 & 2022-10-26 22:53:28 &    4 & Wednesday & Base - 2132 W Hubbard & Hubbard Bike-checking (LBS-WH-TEST) & Base - 2132 W Hubbard        & Hubbard Bike-checking (LBS-WH-TEST) & 41.88993 & -87.68019 & 41.88997 & -87.68016 & member & 2022-10-26 & 26 & 10 & 2022\\\\\n\t ABF86D62CA10DC35 & electric\\_bike & 2022-10-26 22:52:56 & 2022-10-26 22:53:00 &    4 & Wednesday & Base - 2132 W Hubbard & Hubbard Bike-checking (LBS-WH-TEST) & Base - 2132 W Hubbard        & Hubbard Bike-checking (LBS-WH-TEST) & 41.88993 & -87.68019 & 41.88997 & -87.68016 & member & 2022-10-26 & 26 & 10 & 2022\\\\\n\t 57F586A2A9504FEF & electric\\_bike & 2022-10-24 22:52:09 & 2022-10-24 22:52:34 &   25 & Monday    & Base - 2132 W Hubbard & Hubbard Bike-checking (LBS-WH-TEST) & Base - 2132 W Hubbard        & Hubbard Bike-checking (LBS-WH-TEST) & 41.88993 & -87.68023 & 41.88997 & -87.68016 & member & 2022-10-24 & 24 & 10 & 2022\\\\\n\t CDBD5F04619AC7EB & electric\\_bike & 2022-10-12 22:53:51 & 2022-10-12 23:06:03 &  732 & Wednesday & Base - 2132 W Hubbard & Hubbard Bike-checking (LBS-WH-TEST) & Troy St \\& North Ave          & 15653                               & 41.88992 & -87.68026 & 41.90977 & -87.70528 & member & 2022-10-12 & 12 & 10 & 2022\\\\\n\t 450783BDF55D14B0 & electric\\_bike & 2022-10-25 22:54:04 & 2022-10-25 23:05:26 &  682 & Tuesday   & Base - 2132 W Hubbard & Hubbard Bike-checking (LBS-WH-TEST) & Troy St \\& North Ave          & 15653                               & 41.88997 & -87.68016 & 41.90977 & -87.70528 & member & 2022-10-25 & 25 & 10 & 2022\\\\\n\t 26E688D79E20B5DD & electric\\_bike & 2022-10-02 23:04:07 & 2022-10-02 23:14:02 &  595 & Sunday    & Base - 2132 W Hubbard & Hubbard Bike-checking (LBS-WH-TEST) & Troy St \\& North Ave          & 15653                               & 41.89001 & -87.68012 & 41.90977 & -87.70528 & member & 2022-10-02 & 02 & 10 & 2022\\\\\n\t 9C6875E7918BECC1 & electric\\_bike & 2022-10-08 23:00:46 & 2022-10-08 23:13:24 &  758 & Saturday  & Base - 2132 W Hubbard & Hubbard Bike-checking (LBS-WH-TEST) & Troy St \\& North Ave          & 15653                               & 41.88996 & -87.68035 & 41.90977 & -87.70528 & member & 2022-10-08 & 08 & 10 & 2022\\\\\n\t 5B4F9BE15B6BC756 & electric\\_bike & 2022-10-17 22:58:25 & 2022-10-17 23:09:59 &  694 & Monday    & Base - 2132 W Hubbard & Hubbard Bike-checking (LBS-WH-TEST) & Troy St \\& North Ave          & 15653                               & 41.88993 & -87.68027 & 41.90977 & -87.70528 & member & 2022-10-17 & 17 & 10 & 2022\\\\\n\t 0920017024528BDD & electric\\_bike & 2022-10-15 22:53:58 & 2022-10-15 23:05:19 &  681 & Saturday  & Base - 2132 W Hubbard & Hubbard Bike-checking (LBS-WH-TEST) & Troy St \\& North Ave          & 15653                               & 41.88995 & -87.68024 & 41.90977 & -87.70528 & member & 2022-10-15 & 15 & 10 & 2022\\\\\n\t A775BE08001A7618 & electric\\_bike & 2022-10-24 22:53:15 & 2022-10-24 23:03:38 &  623 & Monday    & Base - 2132 W Hubbard & Hubbard Bike-checking (LBS-WH-TEST) & Troy St \\& North Ave          & 15653                               & 41.88997 & -87.68022 & 41.90977 & -87.70528 & member & 2022-10-24 & 24 & 10 & 2022\\\\\n\t 258A10EEA645733E & electric\\_bike & 2022-10-19 22:57:22 & 2022-10-19 23:07:31 &  609 & Wednesday & Base - 2132 W Hubbard & Hubbard Bike-checking (LBS-WH-TEST) & Troy St \\& North Ave          & 15653                               & 41.88995 & -87.68030 & 41.90977 & -87.70528 & member & 2022-10-19 & 19 & 10 & 2022\\\\\n\t 8F7A8F0952CD8D3A & electric\\_bike & 2022-10-05 22:51:36 & 2022-10-05 23:04:31 &  775 & Wednesday & Base - 2132 W Hubbard & Hubbard Bike-checking (LBS-WH-TEST) & Troy St \\& North Ave          & 15653                               & 41.88998 & -87.68029 & 41.90977 & -87.70528 & member & 2022-10-05 & 05 & 10 & 2022\\\\\n\t 514776EAE5B96470 & electric\\_bike & 2022-10-18 22:56:02 & 2022-10-18 23:07:19 &  677 & Tuesday   & Base - 2132 W Hubbard & Hubbard Bike-checking (LBS-WH-TEST) & Troy St \\& North Ave          & 15653                               & 41.88994 & -87.68023 & 41.90977 & -87.70528 & member & 2022-10-18 & 18 & 10 & 2022\\\\\n\t 25E57ABA58ADED7F & electric\\_bike & 2022-10-16 22:57:46 & 2022-10-16 23:10:12 &  746 & Sunday    & Base - 2132 W Hubbard & Hubbard Bike-checking (LBS-WH-TEST) & Troy St \\& North Ave          & 15653                               & 41.88994 & -87.68026 & 41.90977 & -87.70528 & member & 2022-10-16 & 16 & 10 & 2022\\\\\n\t 6A891707EBCB7930 & electric\\_bike & 2022-10-01 22:55:16 & 2022-10-01 23:05:41 &  625 & Saturday  & Base - 2132 W Hubbard & Hubbard Bike-checking (LBS-WH-TEST) & Troy St \\& North Ave          & 15653                               & 41.88995 & -87.68011 & 41.90977 & -87.70528 & member & 2022-10-01 & 01 & 10 & 2022\\\\\n\t 00C4FC02F6CD73F0 & electric\\_bike & 2022-10-29 22:56:16 & 2022-10-29 23:08:10 &  714 & Saturday  & Base - 2132 W Hubbard & Hubbard Bike-checking (LBS-WH-TEST) & Troy St \\& North Ave          & 15653                               & 41.88997 & -87.68032 & 41.90977 & -87.70528 & member & 2022-10-29 & 29 & 10 & 2022\\\\\n\t 595E4E84153CC366 & electric\\_bike & 2022-10-24 22:54:33 & 2022-10-24 23:08:01 &  808 & Monday    & Base - 2132 W Hubbard & Hubbard Bike-checking (LBS-WH-TEST) & Kedzie Ave \\& 21st St         & 15686                               & 41.88992 & -87.68026 & 41.85353 & -87.70507 & member & 2022-10-24 & 24 & 10 & 2022\\\\\n\t 1B2E3055D73FE592 & electric\\_bike & 2022-10-21 22:55:20 & 2022-10-21 23:11:37 &  977 & Friday    & Base - 2132 W Hubbard & Hubbard Bike-checking (LBS-WH-TEST) & Kedzie Ave \\& 21st St         & 15686                               & 41.88998 & -87.68024 & 41.85353 & -87.70507 & member & 2022-10-21 & 21 & 10 & 2022\\\\\n\t BA54A2F1932C9D17 & electric\\_bike & 2022-10-02 15:04:27 & 2022-10-02 15:18:00 &  813 & Sunday    & Base - 2132 W Hubbard & Hubbard Bike-checking (LBS-WH-TEST) & Clinton St \\& Washington Blvd & WL-012                              & 41.88996 & -87.68028 & 41.88338 & -87.64117 & member & 2022-10-02 & 02 & 10 & 2022\\\\\n\t 72D6D3FD3CA33222 & electric\\_bike & 2022-10-09 15:05:16 & 2022-10-09 15:20:20 &  904 & Sunday    & Base - 2132 W Hubbard & Hubbard Bike-checking (LBS-WH-TEST) & Clinton St \\& Washington Blvd & WL-012                              & 41.88996 & -87.68031 & 41.88338 & -87.64117 & member & 2022-10-09 & 09 & 10 & 2022\\\\\n\t 905EE71AA5E5B694 & electric\\_bike & 2022-10-22 14:56:44 & 2022-10-22 15:13:14 &  990 & Saturday  & Base - 2132 W Hubbard & Hubbard Bike-checking (LBS-WH-TEST) & Clinton St \\& Washington Blvd & WL-012                              & 41.88995 & -87.68023 & 41.88338 & -87.64117 & member & 2022-10-22 & 22 & 10 & 2022\\\\\n\t DC6E1F145DC5D552 & electric\\_bike & 2022-11-05 22:52:17 & 2022-11-05 22:52:20 &    3 & Saturday  & Base - 2132 W Hubbard & Hubbard Bike-checking (LBS-WH-TEST) & Base - 2132 W Hubbard        & Hubbard Bike-checking (LBS-WH-TEST) & 41.88993 & -87.68027 & 41.88997 & -87.68016 & member & 2022-11-05 & 05 & 11 & 2022\\\\\n\t EC7D2D99019CD0DC & electric\\_bike & 2022-11-13 22:59:23 & 2022-11-13 22:59:27 &    4 & Sunday    & Base - 2132 W Hubbard & Hubbard Bike-checking (LBS-WH-TEST) & Base - 2132 W Hubbard        & Hubbard Bike-checking (LBS-WH-TEST) & 41.88997 & -87.68027 & 41.88997 & -87.68016 & member & 2022-11-13 & 13 & 11 & 2022\\\\\n\t AB0F7D5F5D4F3EAB & electric\\_bike & 2022-11-08 16:41:43 & 2022-11-08 16:59:09 & 1046 & Tuesday   & Base - 2132 W Hubbard & Hubbard Bike-checking (LBS-WH-TEST) & Clinton St \\& Madison St      & TA1305000032                        & 41.88996 & -87.68031 & 41.88275 & -87.64119 & member & 2022-11-08 & 08 & 11 & 2022\\\\\n\t B45B729300EA9220 & electric\\_bike & 2022-11-06 15:00:33 & 2022-11-06 15:14:02 &  809 & Sunday    & Base - 2132 W Hubbard & Hubbard Bike-checking (LBS-WH-TEST) & Clinton St \\& Madison St      & TA1305000032                        & 41.88995 & -87.68029 & 41.88275 & -87.64119 & member & 2022-11-06 & 06 & 11 & 2022\\\\\n\t 784DDC37F80D74F0 & electric\\_bike & 2022-11-06 22:53:12 & 2022-11-06 23:02:13 &  541 & Sunday    & Base - 2132 W Hubbard & Hubbard Bike-checking (LBS-WH-TEST) & Troy St \\& North Ave          & 15653                               & 41.88995 & -87.68023 & 41.90977 & -87.70528 & member & 2022-11-06 & 06 & 11 & 2022\\\\\n\t BB11ECE8446D00C3 & electric\\_bike & 2022-11-01 22:55:06 & 2022-11-01 23:08:45 &  819 & Tuesday   & Base - 2132 W Hubbard & Hubbard Bike-checking (LBS-WH-TEST) & Troy St \\& North Ave          & 15653                               & 41.88994 & -87.68025 & 41.90977 & -87.70528 & member & 2022-11-01 & 01 & 11 & 2022\\\\\n\t FE61560CC4579EBF & electric\\_bike & 2022-11-13 23:01:42 & 2022-11-13 23:11:59 &  617 & Sunday    & Base - 2132 W Hubbard & Hubbard Bike-checking (LBS-WH-TEST) & Troy St \\& North Ave          & 15653                               & 41.88995 & -87.68027 & 41.90977 & -87.70528 & member & 2022-11-13 & 13 & 11 & 2022\\\\\n\t 5C0FCB8E5CCB05F4 & electric\\_bike & 2022-11-02 22:55:20 & 2022-11-02 23:05:33 &  613 & Wednesday & Base - 2132 W Hubbard & Hubbard Bike-checking (LBS-WH-TEST) & Troy St \\& North Ave          & 15653                               & 41.88992 & -87.68025 & 41.90977 & -87.70528 & member & 2022-11-02 & 02 & 11 & 2022\\\\\n\t ⋮ & ⋮ & ⋮ & ⋮ & ⋮ & ⋮ & ⋮ & ⋮ & ⋮ & ⋮ & ⋮ & ⋮ & ⋮ & ⋮ & ⋮ & ⋮ & ⋮ & ⋮ & ⋮\\\\\n\t 2F161152F3FF2A76 & electric\\_bike & 2023-04-04 16:56:41 & 2023-04-04 17:01:24 &  283 & Tuesday   & Hastings LWS           & 2059                                & Damen Ave \\& Cullerton St    & 13089                  & 41.86000 & -87.68000 & 41.85497 & -87.67570 & member & 2023-04-04 & 04 & 04 & 2023\\\\\n\t F75716F6D9414F9D & electric\\_bike & 2023-04-06 14:06:31 & 2023-04-06 14:25:36 & 1145 & Thursday  & Hastings LWS           & 2059                                & State St \\& Chicago Ave      & 21544                  & 41.86000 & -87.68000 & 41.89662 & -87.62858 & member & 2023-04-06 & 06 & 04 & 2023\\\\\n\t 2AF23CC7D2C4F6A7 & electric\\_bike & 2023-04-03 09:36:46 & 2023-04-03 09:51:18 &  872 & Monday    & Hastings LWS           & 2059                                & Canal St \\& Jackson Blvd     & 13138                  & 41.86000 & -87.68000 & 41.87725 & -87.63937 & casual & 2023-04-03 & 03 & 04 & 2023\\\\\n\t DE3232119B1A7FF8 & electric\\_bike & 2023-04-06 10:14:29 & 2023-04-06 10:26:41 &  732 & Thursday  & Hastings LWS           & 2059                                & Canal St \\& Jackson Blvd     & 13138                  & 41.86000 & -87.68000 & 41.87725 & -87.63937 & casual & 2023-04-06 & 06 & 04 & 2023\\\\\n\t 126EBE835111F7DF & electric\\_bike & 2023-04-01 00:09:32 & 2023-04-01 00:20:43 &  671 & Saturday  & Hastings LWS           & 2059                                & Morgan St \\& 31st St         & TA1308000046           & 41.86000 & -87.68000 & 41.83780 & -87.65114 & member & 2023-04-01 & 01 & 04 & 2023\\\\\n\t 1DD9CCCD6AAE7073 & electric\\_bike & 2023-04-07 16:02:02 & 2023-04-07 16:21:16 & 1154 & Friday    & Hastings LWS           & 2059                                & Dearborn St \\& Erie St       & 13045                  & 41.86000 & -87.68000 & 41.89399 & -87.62932 & member & 2023-04-07 & 07 & 04 & 2023\\\\\n\t AE5C95B923B47790 & electric\\_bike & 2023-04-06 14:05:41 & 2023-04-06 14:05:54 &   13 & Thursday  & Hastings LWS           & 2059                                & Hastings LWS                & 2059                   & 41.86000 & -87.68000 & 41.86000 & -87.68000 & member & 2023-04-06 & 06 & 04 & 2023\\\\\n\t 33154FF084B413E8 & electric\\_bike & 2023-05-13 13:44:50 & 2023-05-13 13:57:57 &  787 & Saturday  & Base - 2132 W Hubbard  & Hubbard Bike-checking (LBS-WH-TEST) & Western Ave \\& Congress Pkwy & 15668                  & 41.89006 & -87.68019 & 41.87475 & -87.68645 & member & 2023-05-13 & 13 & 05 & 2023\\\\\n\t D75D70A91D3A54F9 & electric\\_bike & 2023-05-10 14:27:45 & 2023-05-10 14:41:29 &  824 & Wednesday & Base - 2132 W Hubbard  & Hubbard Bike-checking (LBS-WH-TEST) & Western Ave \\& Congress Pkwy & 15668                  & 41.88997 & -87.68021 & 41.87475 & -87.68645 & member & 2023-05-10 & 10 & 05 & 2023\\\\\n\t 44E6D7D215405A6F & electric\\_bike & 2023-05-11 04:34:45 & 2023-05-11 04:53:15 & 1110 & Thursday  & Base - 2132 W Hubbard  & Hubbard Bike-checking (LBS-WH-TEST) & Morgan St \\& 31st St         & TA1308000046           & 41.89008 & -87.68035 & 41.83780 & -87.65114 & member & 2023-05-11 & 11 & 05 & 2023\\\\\n\t 1EC494994DFD4553 & electric\\_bike & 2023-06-28 15:32:50 & 2023-06-28 15:33:07 &   17 & Wednesday & OH Charging Stx - Test & OH Charging Stx - Test              & OH - BONFIRE - TESTING      & 6.21.23 OLD HASTINGS   & 41.86362 & -87.67967 & 41.86332 & -87.67979 & member & 2023-06-28 & 28 & 06 & 2023\\\\\n\t F5A5C7E214A12551 & electric\\_bike & 2023-06-28 13:50:45 & 2023-06-28 13:50:58 &   13 & Wednesday & OH - BONFIRE - TESTING & 6.21.23 OLD HASTINGS                & OH - BONFIRE - TESTING      & 6.21.23 OLD HASTINGS   & 41.86362 & -87.67967 & 41.86332 & -87.67979 & member & 2023-06-28 & 28 & 06 & 2023\\\\\n\t 0A3577C4859EE985 & electric\\_bike & 2023-06-25 14:50:44 & 2023-06-25 14:56:41 &  357 & Sunday    & Base - 2132 W Hubbard  & Hubbard Bike-checking (LBS-WH-TEST) & Ashland Ave \\& Lake St       & 13073                  & 41.89003 & -87.68018 & 41.88592 & -87.66717 & member & 2023-06-25 & 25 & 06 & 2023\\\\\n\t A34B8C56E7692CB5 & electric\\_bike & 2023-06-29 14:29:06 & 2023-06-29 14:29:13 &    7 & Thursday  & OH Charging Stx - Test & OH Charging Stx - Test              & OH Charging Stx - Test      & OH Charging Stx - Test & 41.86362 & -87.67972 & 41.86257 & -87.67994 & member & 2023-06-29 & 29 & 06 & 2023\\\\\n\t 465EA70E1D719562 & electric\\_bike & 2023-06-29 14:41:13 & 2023-06-29 14:41:19 &    6 & Thursday  & OH Charging Stx - Test & OH Charging Stx - Test              & OH Charging Stx - Test      & OH Charging Stx - Test & 41.86339 & -87.67978 & 41.86257 & -87.67994 & member & 2023-06-29 & 29 & 06 & 2023\\\\\n\t 89D9BB1625C66CE3 & classic\\_bike  & 2023-06-29 14:36:06 & 2023-06-29 14:36:13 &    7 & Thursday  & OH Charging Stx - Test & OH Charging Stx - Test              & OH Charging Stx - Test      & OH Charging Stx - Test & 41.86257 & -87.67994 & 41.86257 & -87.67994 & member & 2023-06-29 & 29 & 06 & 2023\\\\\n\t E3AC9546FB4F0BEB & classic\\_bike  & 2023-06-28 15:44:00 & 2023-06-28 15:44:06 &    6 & Wednesday & OH Charging Stx - Test & OH Charging Stx - Test              & OH Charging Stx - Test      & OH Charging Stx - Test & 41.86257 & -87.67994 & 41.86257 & -87.67994 & member & 2023-06-28 & 28 & 06 & 2023\\\\\n\t 3AA20CC3FE43F678 & classic\\_bike  & 2023-06-28 10:56:35 & 2023-06-28 10:56:40 &    5 & Wednesday & OH Charging Stx - Test & OH Charging Stx - Test              & OH Charging Stx - Test      & OH Charging Stx - Test & 41.86257 & -87.67994 & 41.86257 & -87.67994 & member & 2023-06-28 & 28 & 06 & 2023\\\\\n\t 103567010777D572 & classic\\_bike  & 2023-06-28 15:43:40 & 2023-06-28 15:43:44 &    4 & Wednesday & OH Charging Stx - Test & OH Charging Stx - Test              & OH Charging Stx - Test      & OH Charging Stx - Test & 41.86257 & -87.67994 & 41.86257 & -87.67994 & member & 2023-06-28 & 28 & 06 & 2023\\\\\n\t 12A36ED2AAE587FD & electric\\_bike & 2023-06-28 15:32:11 & 2023-06-28 15:32:27 &   16 & Wednesday & OH Charging Stx - Test & OH Charging Stx - Test              & OH Charging Stx - Test      & OH Charging Stx - Test & 41.86362 & -87.67967 & 41.86257 & -87.67994 & member & 2023-06-28 & 28 & 06 & 2023\\\\\n\t 0D77713ADEE7A4ED & electric\\_bike & 2023-06-28 15:34:27 & 2023-06-28 15:34:33 &    6 & Wednesday & OH Charging Stx - Test & OH Charging Stx - Test              & OH Charging Stx - Test      & OH Charging Stx - Test & 41.86351 & -87.67975 & 41.86257 & -87.67994 & member & 2023-06-28 & 28 & 06 & 2023\\\\\n\t B6A90F07CCAEEB50 & electric\\_bike & 2023-06-28 15:38:05 & 2023-06-28 15:38:13 &    8 & Wednesday & OH Charging Stx - Test & OH Charging Stx - Test              & OH Charging Stx - Test      & OH Charging Stx - Test & 41.86348 & -87.67987 & 41.86257 & -87.67994 & member & 2023-06-28 & 28 & 06 & 2023\\\\\n\t 873D50153BBC0686 & electric\\_bike & 2023-06-15 12:38:05 & 2023-06-15 12:38:41 &   36 & Thursday  & OH Charging Stx - Test & OH Charging Stx - Test              & OH Charging Stx - Test      & OH Charging Stx - Test & 41.86317 & -87.67981 &  0.00000 &   0.00000 & member & 2023-06-15 & 15 & 06 & 2023\\\\\n\t 17E7201CD21C0085 & classic\\_bike  & 2023-06-29 14:36:38 & 2023-06-29 14:36:51 &   13 & Thursday  & OH Charging Stx - Test & OH Charging Stx - Test              & OH Charging Stx - Test      & OH Charging Stx - Test & 41.86257 & -87.67994 & 41.86257 & -87.67994 & member & 2023-06-29 & 29 & 06 & 2023\\\\\n\t 21F3D75A63DC5D8B & electric\\_bike & 2023-06-29 14:41:41 & 2023-06-29 14:41:45 &    4 & Thursday  & OH Charging Stx - Test & OH Charging Stx - Test              & OH Charging Stx - Test      & OH Charging Stx - Test & 41.86339 & -87.67978 & 41.86257 & -87.67994 & member & 2023-06-29 & 29 & 06 & 2023\\\\\n\t A1991A2CD9556925 & electric\\_bike & 2023-06-28 10:59:19 & 2023-06-28 10:59:46 &   27 & Wednesday & OH Charging Stx - Test & OH Charging Stx - Test              &                             &                        & 41.86351 & -87.67973 & 41.86000 & -87.68000 & member & 2023-06-28 & 28 & 06 & 2023\\\\\n\t 49B15A5DEF0E132C & electric\\_bike & 2023-06-28 11:00:52 & 2023-06-28 11:01:28 &   36 & Wednesday & OH Charging Stx - Test & OH Charging Stx - Test              &                             &                        & 41.86343 & -87.67971 & 41.86000 & -87.68000 & member & 2023-06-28 & 28 & 06 & 2023\\\\\n\t E9CE084EF510E686 & electric\\_bike & 2023-06-29 14:30:36 & 2023-06-29 14:30:52 &   16 & Thursday  & OH Charging Stx - Test & OH Charging Stx - Test              &                             &                        & 41.86362 & -87.67972 & 41.86000 & -87.68000 & member & 2023-06-29 & 29 & 06 & 2023\\\\\n\t F85E8EC008A4E3AB & electric\\_bike & 2023-06-21 14:17:57 & 2023-06-21 14:18:16 &   19 & Wednesday & OH Charging Stx - Test & OH Charging Stx - Test              &                             &                        & 41.86349 & -87.67974 & 41.86000 & -87.68000 & casual & 2023-06-21 & 21 & 06 & 2023\\\\\n\t 90117F884CB08650 & electric\\_bike & 2023-06-21 11:00:27 & 2023-06-21 11:00:56 &   29 & Wednesday & OH Charging Stx - Test & OH Charging Stx - Test              &                             &                        & 41.86349 & -87.67974 & 41.86000 & -87.68000 & casual & 2023-06-21 & 21 & 06 & 2023\\\\\n\\end{tabular}\n",
            "text/plain": [
              "    ride_id          rideable_type started_at          ended_at           \n",
              "1   577398C1BE22EDA4 electric_bike 2022-10-24 22:54:03 2022-10-24 22:54:19\n",
              "2   4354E87D174CE327 electric_bike 2022-10-26 22:53:24 2022-10-26 22:53:28\n",
              "3   ABF86D62CA10DC35 electric_bike 2022-10-26 22:52:56 2022-10-26 22:53:00\n",
              "4   57F586A2A9504FEF electric_bike 2022-10-24 22:52:09 2022-10-24 22:52:34\n",
              "5   CDBD5F04619AC7EB electric_bike 2022-10-12 22:53:51 2022-10-12 23:06:03\n",
              "6   450783BDF55D14B0 electric_bike 2022-10-25 22:54:04 2022-10-25 23:05:26\n",
              "7   26E688D79E20B5DD electric_bike 2022-10-02 23:04:07 2022-10-02 23:14:02\n",
              "8   9C6875E7918BECC1 electric_bike 2022-10-08 23:00:46 2022-10-08 23:13:24\n",
              "9   5B4F9BE15B6BC756 electric_bike 2022-10-17 22:58:25 2022-10-17 23:09:59\n",
              "10  0920017024528BDD electric_bike 2022-10-15 22:53:58 2022-10-15 23:05:19\n",
              "11  A775BE08001A7618 electric_bike 2022-10-24 22:53:15 2022-10-24 23:03:38\n",
              "12  258A10EEA645733E electric_bike 2022-10-19 22:57:22 2022-10-19 23:07:31\n",
              "13  8F7A8F0952CD8D3A electric_bike 2022-10-05 22:51:36 2022-10-05 23:04:31\n",
              "14  514776EAE5B96470 electric_bike 2022-10-18 22:56:02 2022-10-18 23:07:19\n",
              "15  25E57ABA58ADED7F electric_bike 2022-10-16 22:57:46 2022-10-16 23:10:12\n",
              "16  6A891707EBCB7930 electric_bike 2022-10-01 22:55:16 2022-10-01 23:05:41\n",
              "17  00C4FC02F6CD73F0 electric_bike 2022-10-29 22:56:16 2022-10-29 23:08:10\n",
              "18  595E4E84153CC366 electric_bike 2022-10-24 22:54:33 2022-10-24 23:08:01\n",
              "19  1B2E3055D73FE592 electric_bike 2022-10-21 22:55:20 2022-10-21 23:11:37\n",
              "20  BA54A2F1932C9D17 electric_bike 2022-10-02 15:04:27 2022-10-02 15:18:00\n",
              "21  72D6D3FD3CA33222 electric_bike 2022-10-09 15:05:16 2022-10-09 15:20:20\n",
              "22  905EE71AA5E5B694 electric_bike 2022-10-22 14:56:44 2022-10-22 15:13:14\n",
              "23  DC6E1F145DC5D552 electric_bike 2022-11-05 22:52:17 2022-11-05 22:52:20\n",
              "24  EC7D2D99019CD0DC electric_bike 2022-11-13 22:59:23 2022-11-13 22:59:27\n",
              "25  AB0F7D5F5D4F3EAB electric_bike 2022-11-08 16:41:43 2022-11-08 16:59:09\n",
              "26  B45B729300EA9220 electric_bike 2022-11-06 15:00:33 2022-11-06 15:14:02\n",
              "27  784DDC37F80D74F0 electric_bike 2022-11-06 22:53:12 2022-11-06 23:02:13\n",
              "28  BB11ECE8446D00C3 electric_bike 2022-11-01 22:55:06 2022-11-01 23:08:45\n",
              "29  FE61560CC4579EBF electric_bike 2022-11-13 23:01:42 2022-11-13 23:11:59\n",
              "30  5C0FCB8E5CCB05F4 electric_bike 2022-11-02 22:55:20 2022-11-02 23:05:33\n",
              "⋮   ⋮                ⋮             ⋮                   ⋮                  \n",
              "96  2F161152F3FF2A76 electric_bike 2023-04-04 16:56:41 2023-04-04 17:01:24\n",
              "97  F75716F6D9414F9D electric_bike 2023-04-06 14:06:31 2023-04-06 14:25:36\n",
              "98  2AF23CC7D2C4F6A7 electric_bike 2023-04-03 09:36:46 2023-04-03 09:51:18\n",
              "99  DE3232119B1A7FF8 electric_bike 2023-04-06 10:14:29 2023-04-06 10:26:41\n",
              "100 126EBE835111F7DF electric_bike 2023-04-01 00:09:32 2023-04-01 00:20:43\n",
              "101 1DD9CCCD6AAE7073 electric_bike 2023-04-07 16:02:02 2023-04-07 16:21:16\n",
              "102 AE5C95B923B47790 electric_bike 2023-04-06 14:05:41 2023-04-06 14:05:54\n",
              "103 33154FF084B413E8 electric_bike 2023-05-13 13:44:50 2023-05-13 13:57:57\n",
              "104 D75D70A91D3A54F9 electric_bike 2023-05-10 14:27:45 2023-05-10 14:41:29\n",
              "105 44E6D7D215405A6F electric_bike 2023-05-11 04:34:45 2023-05-11 04:53:15\n",
              "106 1EC494994DFD4553 electric_bike 2023-06-28 15:32:50 2023-06-28 15:33:07\n",
              "107 F5A5C7E214A12551 electric_bike 2023-06-28 13:50:45 2023-06-28 13:50:58\n",
              "108 0A3577C4859EE985 electric_bike 2023-06-25 14:50:44 2023-06-25 14:56:41\n",
              "109 A34B8C56E7692CB5 electric_bike 2023-06-29 14:29:06 2023-06-29 14:29:13\n",
              "110 465EA70E1D719562 electric_bike 2023-06-29 14:41:13 2023-06-29 14:41:19\n",
              "111 89D9BB1625C66CE3 classic_bike  2023-06-29 14:36:06 2023-06-29 14:36:13\n",
              "112 E3AC9546FB4F0BEB classic_bike  2023-06-28 15:44:00 2023-06-28 15:44:06\n",
              "113 3AA20CC3FE43F678 classic_bike  2023-06-28 10:56:35 2023-06-28 10:56:40\n",
              "114 103567010777D572 classic_bike  2023-06-28 15:43:40 2023-06-28 15:43:44\n",
              "115 12A36ED2AAE587FD electric_bike 2023-06-28 15:32:11 2023-06-28 15:32:27\n",
              "116 0D77713ADEE7A4ED electric_bike 2023-06-28 15:34:27 2023-06-28 15:34:33\n",
              "117 B6A90F07CCAEEB50 electric_bike 2023-06-28 15:38:05 2023-06-28 15:38:13\n",
              "118 873D50153BBC0686 electric_bike 2023-06-15 12:38:05 2023-06-15 12:38:41\n",
              "119 17E7201CD21C0085 classic_bike  2023-06-29 14:36:38 2023-06-29 14:36:51\n",
              "120 21F3D75A63DC5D8B electric_bike 2023-06-29 14:41:41 2023-06-29 14:41:45\n",
              "121 A1991A2CD9556925 electric_bike 2023-06-28 10:59:19 2023-06-28 10:59:46\n",
              "122 49B15A5DEF0E132C electric_bike 2023-06-28 11:00:52 2023-06-28 11:01:28\n",
              "123 E9CE084EF510E686 electric_bike 2023-06-29 14:30:36 2023-06-29 14:30:52\n",
              "124 F85E8EC008A4E3AB electric_bike 2023-06-21 14:17:57 2023-06-21 14:18:16\n",
              "125 90117F884CB08650 electric_bike 2023-06-21 11:00:27 2023-06-21 11:00:56\n",
              "    ride_length day_of_week start_station_name    \n",
              "1     16        Monday      Base - 2132 W Hubbard \n",
              "2      4        Wednesday   Base - 2132 W Hubbard \n",
              "3      4        Wednesday   Base - 2132 W Hubbard \n",
              "4     25        Monday      Base - 2132 W Hubbard \n",
              "5    732        Wednesday   Base - 2132 W Hubbard \n",
              "6    682        Tuesday     Base - 2132 W Hubbard \n",
              "7    595        Sunday      Base - 2132 W Hubbard \n",
              "8    758        Saturday    Base - 2132 W Hubbard \n",
              "9    694        Monday      Base - 2132 W Hubbard \n",
              "10   681        Saturday    Base - 2132 W Hubbard \n",
              "11   623        Monday      Base - 2132 W Hubbard \n",
              "12   609        Wednesday   Base - 2132 W Hubbard \n",
              "13   775        Wednesday   Base - 2132 W Hubbard \n",
              "14   677        Tuesday     Base - 2132 W Hubbard \n",
              "15   746        Sunday      Base - 2132 W Hubbard \n",
              "16   625        Saturday    Base - 2132 W Hubbard \n",
              "17   714        Saturday    Base - 2132 W Hubbard \n",
              "18   808        Monday      Base - 2132 W Hubbard \n",
              "19   977        Friday      Base - 2132 W Hubbard \n",
              "20   813        Sunday      Base - 2132 W Hubbard \n",
              "21   904        Sunday      Base - 2132 W Hubbard \n",
              "22   990        Saturday    Base - 2132 W Hubbard \n",
              "23     3        Saturday    Base - 2132 W Hubbard \n",
              "24     4        Sunday      Base - 2132 W Hubbard \n",
              "25  1046        Tuesday     Base - 2132 W Hubbard \n",
              "26   809        Sunday      Base - 2132 W Hubbard \n",
              "27   541        Sunday      Base - 2132 W Hubbard \n",
              "28   819        Tuesday     Base - 2132 W Hubbard \n",
              "29   617        Sunday      Base - 2132 W Hubbard \n",
              "30   613        Wednesday   Base - 2132 W Hubbard \n",
              "⋮   ⋮           ⋮           ⋮                     \n",
              "96   283        Tuesday     Hastings LWS          \n",
              "97  1145        Thursday    Hastings LWS          \n",
              "98   872        Monday      Hastings LWS          \n",
              "99   732        Thursday    Hastings LWS          \n",
              "100  671        Saturday    Hastings LWS          \n",
              "101 1154        Friday      Hastings LWS          \n",
              "102   13        Thursday    Hastings LWS          \n",
              "103  787        Saturday    Base - 2132 W Hubbard \n",
              "104  824        Wednesday   Base - 2132 W Hubbard \n",
              "105 1110        Thursday    Base - 2132 W Hubbard \n",
              "106   17        Wednesday   OH Charging Stx - Test\n",
              "107   13        Wednesday   OH - BONFIRE - TESTING\n",
              "108  357        Sunday      Base - 2132 W Hubbard \n",
              "109    7        Thursday    OH Charging Stx - Test\n",
              "110    6        Thursday    OH Charging Stx - Test\n",
              "111    7        Thursday    OH Charging Stx - Test\n",
              "112    6        Wednesday   OH Charging Stx - Test\n",
              "113    5        Wednesday   OH Charging Stx - Test\n",
              "114    4        Wednesday   OH Charging Stx - Test\n",
              "115   16        Wednesday   OH Charging Stx - Test\n",
              "116    6        Wednesday   OH Charging Stx - Test\n",
              "117    8        Wednesday   OH Charging Stx - Test\n",
              "118   36        Thursday    OH Charging Stx - Test\n",
              "119   13        Thursday    OH Charging Stx - Test\n",
              "120    4        Thursday    OH Charging Stx - Test\n",
              "121   27        Wednesday   OH Charging Stx - Test\n",
              "122   36        Wednesday   OH Charging Stx - Test\n",
              "123   16        Thursday    OH Charging Stx - Test\n",
              "124   19        Wednesday   OH Charging Stx - Test\n",
              "125   29        Wednesday   OH Charging Stx - Test\n",
              "    start_station_id                    end_station_name            \n",
              "1   Hubbard Bike-checking (LBS-WH-TEST) Base - 2132 W Hubbard       \n",
              "2   Hubbard Bike-checking (LBS-WH-TEST) Base - 2132 W Hubbard       \n",
              "3   Hubbard Bike-checking (LBS-WH-TEST) Base - 2132 W Hubbard       \n",
              "4   Hubbard Bike-checking (LBS-WH-TEST) Base - 2132 W Hubbard       \n",
              "5   Hubbard Bike-checking (LBS-WH-TEST) Troy St & North Ave         \n",
              "6   Hubbard Bike-checking (LBS-WH-TEST) Troy St & North Ave         \n",
              "7   Hubbard Bike-checking (LBS-WH-TEST) Troy St & North Ave         \n",
              "8   Hubbard Bike-checking (LBS-WH-TEST) Troy St & North Ave         \n",
              "9   Hubbard Bike-checking (LBS-WH-TEST) Troy St & North Ave         \n",
              "10  Hubbard Bike-checking (LBS-WH-TEST) Troy St & North Ave         \n",
              "11  Hubbard Bike-checking (LBS-WH-TEST) Troy St & North Ave         \n",
              "12  Hubbard Bike-checking (LBS-WH-TEST) Troy St & North Ave         \n",
              "13  Hubbard Bike-checking (LBS-WH-TEST) Troy St & North Ave         \n",
              "14  Hubbard Bike-checking (LBS-WH-TEST) Troy St & North Ave         \n",
              "15  Hubbard Bike-checking (LBS-WH-TEST) Troy St & North Ave         \n",
              "16  Hubbard Bike-checking (LBS-WH-TEST) Troy St & North Ave         \n",
              "17  Hubbard Bike-checking (LBS-WH-TEST) Troy St & North Ave         \n",
              "18  Hubbard Bike-checking (LBS-WH-TEST) Kedzie Ave & 21st St        \n",
              "19  Hubbard Bike-checking (LBS-WH-TEST) Kedzie Ave & 21st St        \n",
              "20  Hubbard Bike-checking (LBS-WH-TEST) Clinton St & Washington Blvd\n",
              "21  Hubbard Bike-checking (LBS-WH-TEST) Clinton St & Washington Blvd\n",
              "22  Hubbard Bike-checking (LBS-WH-TEST) Clinton St & Washington Blvd\n",
              "23  Hubbard Bike-checking (LBS-WH-TEST) Base - 2132 W Hubbard       \n",
              "24  Hubbard Bike-checking (LBS-WH-TEST) Base - 2132 W Hubbard       \n",
              "25  Hubbard Bike-checking (LBS-WH-TEST) Clinton St & Madison St     \n",
              "26  Hubbard Bike-checking (LBS-WH-TEST) Clinton St & Madison St     \n",
              "27  Hubbard Bike-checking (LBS-WH-TEST) Troy St & North Ave         \n",
              "28  Hubbard Bike-checking (LBS-WH-TEST) Troy St & North Ave         \n",
              "29  Hubbard Bike-checking (LBS-WH-TEST) Troy St & North Ave         \n",
              "30  Hubbard Bike-checking (LBS-WH-TEST) Troy St & North Ave         \n",
              "⋮   ⋮                                   ⋮                           \n",
              "96  2059                                Damen Ave & Cullerton St    \n",
              "97  2059                                State St & Chicago Ave      \n",
              "98  2059                                Canal St & Jackson Blvd     \n",
              "99  2059                                Canal St & Jackson Blvd     \n",
              "100 2059                                Morgan St & 31st St         \n",
              "101 2059                                Dearborn St & Erie St       \n",
              "102 2059                                Hastings LWS                \n",
              "103 Hubbard Bike-checking (LBS-WH-TEST) Western Ave & Congress Pkwy \n",
              "104 Hubbard Bike-checking (LBS-WH-TEST) Western Ave & Congress Pkwy \n",
              "105 Hubbard Bike-checking (LBS-WH-TEST) Morgan St & 31st St         \n",
              "106 OH Charging Stx - Test              OH - BONFIRE - TESTING      \n",
              "107 6.21.23 OLD HASTINGS                OH - BONFIRE - TESTING      \n",
              "108 Hubbard Bike-checking (LBS-WH-TEST) Ashland Ave & Lake St       \n",
              "109 OH Charging Stx - Test              OH Charging Stx - Test      \n",
              "110 OH Charging Stx - Test              OH Charging Stx - Test      \n",
              "111 OH Charging Stx - Test              OH Charging Stx - Test      \n",
              "112 OH Charging Stx - Test              OH Charging Stx - Test      \n",
              "113 OH Charging Stx - Test              OH Charging Stx - Test      \n",
              "114 OH Charging Stx - Test              OH Charging Stx - Test      \n",
              "115 OH Charging Stx - Test              OH Charging Stx - Test      \n",
              "116 OH Charging Stx - Test              OH Charging Stx - Test      \n",
              "117 OH Charging Stx - Test              OH Charging Stx - Test      \n",
              "118 OH Charging Stx - Test              OH Charging Stx - Test      \n",
              "119 OH Charging Stx - Test              OH Charging Stx - Test      \n",
              "120 OH Charging Stx - Test              OH Charging Stx - Test      \n",
              "121 OH Charging Stx - Test                                          \n",
              "122 OH Charging Stx - Test                                          \n",
              "123 OH Charging Stx - Test                                          \n",
              "124 OH Charging Stx - Test                                          \n",
              "125 OH Charging Stx - Test                                          \n",
              "    end_station_id                      start_lat start_lng end_lat  end_lng  \n",
              "1   Hubbard Bike-checking (LBS-WH-TEST) 41.88992  -87.68026 41.88997 -87.68016\n",
              "2   Hubbard Bike-checking (LBS-WH-TEST) 41.88993  -87.68019 41.88997 -87.68016\n",
              "3   Hubbard Bike-checking (LBS-WH-TEST) 41.88993  -87.68019 41.88997 -87.68016\n",
              "4   Hubbard Bike-checking (LBS-WH-TEST) 41.88993  -87.68023 41.88997 -87.68016\n",
              "5   15653                               41.88992  -87.68026 41.90977 -87.70528\n",
              "6   15653                               41.88997  -87.68016 41.90977 -87.70528\n",
              "7   15653                               41.89001  -87.68012 41.90977 -87.70528\n",
              "8   15653                               41.88996  -87.68035 41.90977 -87.70528\n",
              "9   15653                               41.88993  -87.68027 41.90977 -87.70528\n",
              "10  15653                               41.88995  -87.68024 41.90977 -87.70528\n",
              "11  15653                               41.88997  -87.68022 41.90977 -87.70528\n",
              "12  15653                               41.88995  -87.68030 41.90977 -87.70528\n",
              "13  15653                               41.88998  -87.68029 41.90977 -87.70528\n",
              "14  15653                               41.88994  -87.68023 41.90977 -87.70528\n",
              "15  15653                               41.88994  -87.68026 41.90977 -87.70528\n",
              "16  15653                               41.88995  -87.68011 41.90977 -87.70528\n",
              "17  15653                               41.88997  -87.68032 41.90977 -87.70528\n",
              "18  15686                               41.88992  -87.68026 41.85353 -87.70507\n",
              "19  15686                               41.88998  -87.68024 41.85353 -87.70507\n",
              "20  WL-012                              41.88996  -87.68028 41.88338 -87.64117\n",
              "21  WL-012                              41.88996  -87.68031 41.88338 -87.64117\n",
              "22  WL-012                              41.88995  -87.68023 41.88338 -87.64117\n",
              "23  Hubbard Bike-checking (LBS-WH-TEST) 41.88993  -87.68027 41.88997 -87.68016\n",
              "24  Hubbard Bike-checking (LBS-WH-TEST) 41.88997  -87.68027 41.88997 -87.68016\n",
              "25  TA1305000032                        41.88996  -87.68031 41.88275 -87.64119\n",
              "26  TA1305000032                        41.88995  -87.68029 41.88275 -87.64119\n",
              "27  15653                               41.88995  -87.68023 41.90977 -87.70528\n",
              "28  15653                               41.88994  -87.68025 41.90977 -87.70528\n",
              "29  15653                               41.88995  -87.68027 41.90977 -87.70528\n",
              "30  15653                               41.88992  -87.68025 41.90977 -87.70528\n",
              "⋮   ⋮                                   ⋮         ⋮         ⋮        ⋮        \n",
              "96  13089                               41.86000  -87.68000 41.85497 -87.67570\n",
              "97  21544                               41.86000  -87.68000 41.89662 -87.62858\n",
              "98  13138                               41.86000  -87.68000 41.87725 -87.63937\n",
              "99  13138                               41.86000  -87.68000 41.87725 -87.63937\n",
              "100 TA1308000046                        41.86000  -87.68000 41.83780 -87.65114\n",
              "101 13045                               41.86000  -87.68000 41.89399 -87.62932\n",
              "102 2059                                41.86000  -87.68000 41.86000 -87.68000\n",
              "103 15668                               41.89006  -87.68019 41.87475 -87.68645\n",
              "104 15668                               41.88997  -87.68021 41.87475 -87.68645\n",
              "105 TA1308000046                        41.89008  -87.68035 41.83780 -87.65114\n",
              "106 6.21.23 OLD HASTINGS                41.86362  -87.67967 41.86332 -87.67979\n",
              "107 6.21.23 OLD HASTINGS                41.86362  -87.67967 41.86332 -87.67979\n",
              "108 13073                               41.89003  -87.68018 41.88592 -87.66717\n",
              "109 OH Charging Stx - Test              41.86362  -87.67972 41.86257 -87.67994\n",
              "110 OH Charging Stx - Test              41.86339  -87.67978 41.86257 -87.67994\n",
              "111 OH Charging Stx - Test              41.86257  -87.67994 41.86257 -87.67994\n",
              "112 OH Charging Stx - Test              41.86257  -87.67994 41.86257 -87.67994\n",
              "113 OH Charging Stx - Test              41.86257  -87.67994 41.86257 -87.67994\n",
              "114 OH Charging Stx - Test              41.86257  -87.67994 41.86257 -87.67994\n",
              "115 OH Charging Stx - Test              41.86362  -87.67967 41.86257 -87.67994\n",
              "116 OH Charging Stx - Test              41.86351  -87.67975 41.86257 -87.67994\n",
              "117 OH Charging Stx - Test              41.86348  -87.67987 41.86257 -87.67994\n",
              "118 OH Charging Stx - Test              41.86317  -87.67981  0.00000   0.00000\n",
              "119 OH Charging Stx - Test              41.86257  -87.67994 41.86257 -87.67994\n",
              "120 OH Charging Stx - Test              41.86339  -87.67978 41.86257 -87.67994\n",
              "121                                     41.86351  -87.67973 41.86000 -87.68000\n",
              "122                                     41.86343  -87.67971 41.86000 -87.68000\n",
              "123                                     41.86362  -87.67972 41.86000 -87.68000\n",
              "124                                     41.86349  -87.67974 41.86000 -87.68000\n",
              "125                                     41.86349  -87.67974 41.86000 -87.68000\n",
              "    member_casual date       day month year\n",
              "1   member        2022-10-24 24  10    2022\n",
              "2   member        2022-10-26 26  10    2022\n",
              "3   member        2022-10-26 26  10    2022\n",
              "4   member        2022-10-24 24  10    2022\n",
              "5   member        2022-10-12 12  10    2022\n",
              "6   member        2022-10-25 25  10    2022\n",
              "7   member        2022-10-02 02  10    2022\n",
              "8   member        2022-10-08 08  10    2022\n",
              "9   member        2022-10-17 17  10    2022\n",
              "10  member        2022-10-15 15  10    2022\n",
              "11  member        2022-10-24 24  10    2022\n",
              "12  member        2022-10-19 19  10    2022\n",
              "13  member        2022-10-05 05  10    2022\n",
              "14  member        2022-10-18 18  10    2022\n",
              "15  member        2022-10-16 16  10    2022\n",
              "16  member        2022-10-01 01  10    2022\n",
              "17  member        2022-10-29 29  10    2022\n",
              "18  member        2022-10-24 24  10    2022\n",
              "19  member        2022-10-21 21  10    2022\n",
              "20  member        2022-10-02 02  10    2022\n",
              "21  member        2022-10-09 09  10    2022\n",
              "22  member        2022-10-22 22  10    2022\n",
              "23  member        2022-11-05 05  11    2022\n",
              "24  member        2022-11-13 13  11    2022\n",
              "25  member        2022-11-08 08  11    2022\n",
              "26  member        2022-11-06 06  11    2022\n",
              "27  member        2022-11-06 06  11    2022\n",
              "28  member        2022-11-01 01  11    2022\n",
              "29  member        2022-11-13 13  11    2022\n",
              "30  member        2022-11-02 02  11    2022\n",
              "⋮   ⋮             ⋮          ⋮   ⋮     ⋮   \n",
              "96  member        2023-04-04 04  04    2023\n",
              "97  member        2023-04-06 06  04    2023\n",
              "98  casual        2023-04-03 03  04    2023\n",
              "99  casual        2023-04-06 06  04    2023\n",
              "100 member        2023-04-01 01  04    2023\n",
              "101 member        2023-04-07 07  04    2023\n",
              "102 member        2023-04-06 06  04    2023\n",
              "103 member        2023-05-13 13  05    2023\n",
              "104 member        2023-05-10 10  05    2023\n",
              "105 member        2023-05-11 11  05    2023\n",
              "106 member        2023-06-28 28  06    2023\n",
              "107 member        2023-06-28 28  06    2023\n",
              "108 member        2023-06-25 25  06    2023\n",
              "109 member        2023-06-29 29  06    2023\n",
              "110 member        2023-06-29 29  06    2023\n",
              "111 member        2023-06-29 29  06    2023\n",
              "112 member        2023-06-28 28  06    2023\n",
              "113 member        2023-06-28 28  06    2023\n",
              "114 member        2023-06-28 28  06    2023\n",
              "115 member        2023-06-28 28  06    2023\n",
              "116 member        2023-06-28 28  06    2023\n",
              "117 member        2023-06-28 28  06    2023\n",
              "118 member        2023-06-15 15  06    2023\n",
              "119 member        2023-06-29 29  06    2023\n",
              "120 member        2023-06-29 29  06    2023\n",
              "121 member        2023-06-28 28  06    2023\n",
              "122 member        2023-06-28 28  06    2023\n",
              "123 member        2023-06-29 29  06    2023\n",
              "124 casual        2023-06-21 21  06    2023\n",
              "125 casual        2023-06-21 21  06    2023"
            ]
          },
          "metadata": {}
        }
      ]
    },
    {
      "cell_type": "code",
      "source": [
        "divvy_stations$Station.Name <- str_trim(divvy_stations$Station.Name)\n",
        "divvy_stations <- divvy_stations[!duplicated(divvy_stations$Station.Name),]"
      ],
      "metadata": {
        "id": "6_o_ZbYx5mJe"
      },
      "execution_count": null,
      "outputs": []
    },
    {
      "cell_type": "code",
      "source": [
        "all_trips_v2$start_station_name <- str_trim(all_trips_v2$start_station_name)\n",
        "all_trips_v2$end_station_name <- str_trim(all_trips_v2$end_station_name)"
      ],
      "metadata": {
        "id": "KeEzPXJHNN38"
      },
      "execution_count": null,
      "outputs": []
    },
    {
      "cell_type": "markdown",
      "source": [
        "Now that I finish cleaning both data frames. I'll create a new version of the divvy stations file to drop columns that will not be used."
      ],
      "metadata": {
        "id": "PAcGQAEGM2fz"
      }
    },
    {
      "cell_type": "code",
      "source": [
        "divvy_stations_v2 <- select(divvy_stations, -c(Total.Docks, Docks.in.Service,Status, Location, ID))\n",
        "\n",
        "divvy_stations_v2$Latitude <- as.double(divvy_stations_v2$Latitude)\n",
        "divvy_stations_v2$Longitude <- as.double(divvy_stations_v2$Longitude)\n"
      ],
      "metadata": {
        "id": "fJkG3YVqM08i"
      },
      "execution_count": null,
      "outputs": []
    },
    {
      "cell_type": "markdown",
      "source": [
        "There were about 200 stations that were on the main dataset that were not present on the auxiliary file. So I had to populate the auxiliary file before doing the final merge."
      ],
      "metadata": {
        "id": "OrHgkGiM4KyZ"
      }
    },
    {
      "cell_type": "code",
      "source": [
        "#There are about 200 stations that were not on the auxiliary data set\n",
        "#I'll use this data set to spot these stations and clean them if necessary.\n",
        "\n",
        "stations_to_clean <- anti_join(all_trips_v2,divvy_stations_v2, by= join_by(start_station_name == Station.Name))\n",
        "stations_to_clean <- distinct(stations_to_clean,start_station_name)\n",
        "\n",
        "glimpse(stations_to_clean)\n",
        "\n",
        "#### I used Excel to gather all station that were missing from the auxiliary file and now I'll merge them with the previous file.\n",
        "stations_missing_from_divvy <- read.csv('New_Station_to_Divvy.csv', sep = ';')\n",
        "\n",
        "new_divvy <- left_join(stations_missing_from_divvy,all_trips_v2, by= join_by(\"New_Station_to_Divvy\"== start_station_name))\n",
        "\n",
        "new_divvy <- new_divvy[!duplicated(new_divvy$New_Station_to_Divvy),]\n",
        "\n",
        "new_divvy <- rename(new_divvy, Station.Name = New_Station_to_Divvy)\n",
        "\n",
        "new_divvy <- new_divvy %>%\n",
        "  select(c(Station.Name,start_lat,start_lng))\n",
        "\n",
        "new_divvy <- rename(new_divvy, Latitude = start_lat)\n",
        "new_divvy <- rename(new_divvy, Longitude = start_lng)\n",
        "\n",
        "new_divvy$Latitude <- as.double(new_divvy$Latitude)\n",
        "new_divvy$Longitude <- as.double(new_divvy$Longitude)\n"
      ],
      "metadata": {
        "id": "3ARkrcXnNvfu"
      },
      "execution_count": null,
      "outputs": []
    },
    {
      "cell_type": "code",
      "source": [
        "## There are some stations with duplicated coordinates. I'll replace those with a new coordinate from Google Maps.\n",
        "\n",
        "new_coordinates <- read.csv('new_coord.csv', sep = ';')\n",
        "\n",
        "new_divvy <- left_join(new_divvy, new_coordinates, by= join_by(\"Station.Name\"==\"Address\"))\n",
        "\n",
        "new_divvy$Lat <- coalesce(new_divvy$Lat, new_divvy$Latitude) #### to populate NA from column \"Lat\" with records from column \"Latitude\"\n",
        "new_divvy$Lng <- coalesce(new_divvy$Lng, new_divvy$Longitude)\n",
        "\n",
        "new_divvy <- new_divvy %>%\n",
        "  select(-c(Latitude, Longitude))\n",
        "\n",
        "new_divvy <- rename(new_divvy, Latitude = Lat)\n",
        "new_divvy <- rename(new_divvy, Longitude = Lng)\n",
        "\n",
        "divvy_stations_v3 <- bind_rows(divvy_stations_v2,new_divvy)\n",
        "divvy_stations_v3$Station.Name <- str_trim(divvy_stations_v3$Station.Name)\n"
      ],
      "metadata": {
        "id": "uIKFyMUe6ISY"
      },
      "execution_count": null,
      "outputs": []
    },
    {
      "cell_type": "markdown",
      "source": [
        "After all these modifications I created another version of \"all_trips\" file we called \"all_trips_v3\".\n",
        "Using this file we can no move to analyzing the data."
      ],
      "metadata": {
        "id": "0jvyjd8j6ZY6"
      }
    },
    {
      "cell_type": "code",
      "source": [
        "#Now that both divvy stations and all trips have the same number of distinct station names we'll be able to\n",
        "#join both of them by station to get a clean station id and coordinates.\n",
        "\n",
        "#First I'll delete duplicates in divvy data set and add a column for the station id.\n",
        "\n",
        "divvy_stations_v3 <- divvy_stations_v3[!duplicated(divvy_stations_v3$Station.Name),]\n",
        "divvy_stations_v3 <- tibble::rowid_to_column(divvy_stations_v3, \"Station.ID\")\n",
        "\n",
        "all_trips_v3 <- left_join(all_trips_v2, divvy_stations_v3, by = join_by(\"end_station_name\"==\"Station.Name\"))\n",
        "all_trips_v3 <- all_trips_v3 %>%\n",
        "  select(-c(end_station_id,end_lat,end_lng))\n",
        "\n",
        "all_trips_v3 <- rename(all_trips_v3, end_lat = Latitude, end_lng = Longitude, end_station_id = Station.ID)\n",
        "\n",
        "all_trips_v3 <- left_join(all_trips_v3, divvy_stations_v3, by= join_by(\"start_station_name\"==\"Station.Name\"))\n",
        "\n",
        "all_trips_v3 <- all_trips_v3 %>%\n",
        "  select(-c(start_station_id,start_lat,start_lng))\n",
        "\n",
        "all_trips_v3 <- rename(all_trips_v3, start_lat = Latitude, start_lng = Longitude, start_station_id = Station.ID)\n"
      ],
      "metadata": {
        "id": "h2FoV6to6Wql"
      },
      "execution_count": null,
      "outputs": []
    },
    {
      "cell_type": "markdown",
      "source": [
        "Finally, there are records with a null start or end station information. This data represents over 24% of the main clean dataset. Because this percentage is relatively high, I'll keep them in the main dataset for the analysis. Except for location analysis that I'll filter them."
      ],
      "metadata": {
        "id": "qfTmbtX56ueT"
      }
    },
    {
      "cell_type": "code",
      "source": [
        "#Last thing I'll do is verify the null in station names.\n",
        "\n",
        "nrow(filter(all_trips_v3, start_station_name==''|end_station_name==''))"
      ],
      "metadata": {
        "id": "6oa30pJU6u_D"
      },
      "execution_count": null,
      "outputs": []
    },
    {
      "cell_type": "code",
      "source": [
        "#Exporting the final cleaned dataset\n",
        "write.csv(all_trips_v3, file ='all_trips_cleaned.csv')"
      ],
      "metadata": {
        "id": "eUYkkxpN-jTe"
      },
      "execution_count": null,
      "outputs": []
    },
    {
      "cell_type": "markdown",
      "source": [
        "## Data Analysis and Visualization\n",
        "\n",
        "Now I'll combine both analysis and visualization using PowerBI.\n",
        "I decided to split the analysis in 4 parts that will answer a few questions and hypothesis I have about the data and I mencioned earlier.\n",
        "- Full Year Analysis: to study how the ridership changes over the year.\n",
        "- Week Analysis: to study how the ridership changes over the week\n",
        "- Bike Type Analysis: does users choose different type of bikes?\n",
        "- Location Analysis: where are the most departures and arraivals for each type of user?\n",
        "\n",
        "In order to perform these analysis I'll use the clean and validated dataset I obtained on the section above. And all modifications I did using PowerBI will be mentioned bellow.\n",
        "\n",
        "### Full Year Analysis\n",
        "The goal of the analysis is to study how the ridership changes over the full year, including seasonal changes.\n",
        "\n",
        "First I'll take a look  at the numbers of ride trips, I used the following R script to get a table result. And then I used PowerBI to create the chart bellow."
      ],
      "metadata": {
        "id": "GJnYER0-749B"
      }
    },
    {
      "cell_type": "code",
      "source": [
        "all_trips_v3 %>%\n",
        "  group_by(member_casual, month) %>%\n",
        "  summarise(number_of_rides = n(),average_duration = mean(ride_length)) %>%\n",
        "  arrange(member_casual, month)"
      ],
      "metadata": {
        "colab": {
          "base_uri": "https://localhost:8080/",
          "height": 887
        },
        "id": "CwsdbFee0MgZ",
        "outputId": "eaa0dde1-5e97-4bb0-e652-fe0f1efc0e6b"
      },
      "execution_count": null,
      "outputs": [
        {
          "output_type": "stream",
          "name": "stderr",
          "text": [
            "\u001b[1m\u001b[22m`summarise()` has grouped output by 'member_casual'. You can override using the\n",
            "`.groups` argument.\n"
          ]
        },
        {
          "output_type": "display_data",
          "data": {
            "text/html": [
              "<table class=\"dataframe\">\n",
              "<caption>A grouped_df: 24 × 4</caption>\n",
              "<thead>\n",
              "\t<tr><th scope=col>member_casual</th><th scope=col>month</th><th scope=col>number_of_rides</th><th scope=col>average_duration</th></tr>\n",
              "\t<tr><th scope=col>&lt;chr&gt;</th><th scope=col>&lt;chr&gt;</th><th scope=col>&lt;int&gt;</th><th scope=col>&lt;dbl&gt;</th></tr>\n",
              "</thead>\n",
              "<tbody>\n",
              "\t<tr><td>casual</td><td>01</td><td> 31694</td><td> 790.1292</td></tr>\n",
              "\t<tr><td>casual</td><td>02</td><td> 34466</td><td> 923.0576</td></tr>\n",
              "\t<tr><td>casual</td><td>03</td><td> 49840</td><td> 882.1993</td></tr>\n",
              "\t<tr><td>casual</td><td>04</td><td>116157</td><td>1179.0657</td></tr>\n",
              "\t<tr><td>casual</td><td>05</td><td>185888</td><td>1291.0596</td></tr>\n",
              "\t<tr><td>casual</td><td>06</td><td>236103</td><td>1268.4504</td></tr>\n",
              "\t<tr><td>casual</td><td>07</td><td>259047</td><td>1328.5716</td></tr>\n",
              "\t<tr><td>casual</td><td>08</td><td>246585</td><td>1282.4504</td></tr>\n",
              "\t<tr><td>casual</td><td>09</td><td>221095</td><td>1361.1501</td></tr>\n",
              "\t<tr><td>casual</td><td>10</td><td>160455</td><td>1062.7039</td></tr>\n",
              "\t<tr><td>casual</td><td>11</td><td> 77829</td><td> 893.3945</td></tr>\n",
              "\t<tr><td>casual</td><td>12</td><td> 34614</td><td> 781.3620</td></tr>\n",
              "\t<tr><td>member</td><td>01</td><td>130033</td><td> 598.6341</td></tr>\n",
              "\t<tr><td>member</td><td>02</td><td>128174</td><td> 623.0566</td></tr>\n",
              "\t<tr><td>member</td><td>03</td><td>169693</td><td> 608.5295</td></tr>\n",
              "\t<tr><td>member</td><td>04</td><td>237479</td><td> 691.4066</td></tr>\n",
              "\t<tr><td>member</td><td>05</td><td>316258</td><td> 759.2412</td></tr>\n",
              "\t<tr><td>member</td><td>06</td><td>351853</td><td> 774.3687</td></tr>\n",
              "\t<tr><td>member</td><td>07</td><td>366782</td><td> 797.2618</td></tr>\n",
              "\t<tr><td>member</td><td>08</td><td>389788</td><td> 794.1907</td></tr>\n",
              "\t<tr><td>member</td><td>09</td><td>343586</td><td> 759.8782</td></tr>\n",
              "\t<tr><td>member</td><td>10</td><td>293890</td><td> 699.1460</td></tr>\n",
              "\t<tr><td>member</td><td>11</td><td>201825</td><td> 649.6132</td></tr>\n",
              "\t<tr><td>member</td><td>12</td><td>115890</td><td> 613.9342</td></tr>\n",
              "</tbody>\n",
              "</table>\n"
            ],
            "text/markdown": "\nA grouped_df: 24 × 4\n\n| member_casual &lt;chr&gt; | month &lt;chr&gt; | number_of_rides &lt;int&gt; | average_duration &lt;dbl&gt; |\n|---|---|---|---|\n| casual | 01 |  31694 |  790.1292 |\n| casual | 02 |  34466 |  923.0576 |\n| casual | 03 |  49840 |  882.1993 |\n| casual | 04 | 116157 | 1179.0657 |\n| casual | 05 | 185888 | 1291.0596 |\n| casual | 06 | 236103 | 1268.4504 |\n| casual | 07 | 259047 | 1328.5716 |\n| casual | 08 | 246585 | 1282.4504 |\n| casual | 09 | 221095 | 1361.1501 |\n| casual | 10 | 160455 | 1062.7039 |\n| casual | 11 |  77829 |  893.3945 |\n| casual | 12 |  34614 |  781.3620 |\n| member | 01 | 130033 |  598.6341 |\n| member | 02 | 128174 |  623.0566 |\n| member | 03 | 169693 |  608.5295 |\n| member | 04 | 237479 |  691.4066 |\n| member | 05 | 316258 |  759.2412 |\n| member | 06 | 351853 |  774.3687 |\n| member | 07 | 366782 |  797.2618 |\n| member | 08 | 389788 |  794.1907 |\n| member | 09 | 343586 |  759.8782 |\n| member | 10 | 293890 |  699.1460 |\n| member | 11 | 201825 |  649.6132 |\n| member | 12 | 115890 |  613.9342 |\n\n",
            "text/latex": "A grouped\\_df: 24 × 4\n\\begin{tabular}{llll}\n member\\_casual & month & number\\_of\\_rides & average\\_duration\\\\\n <chr> & <chr> & <int> & <dbl>\\\\\n\\hline\n\t casual & 01 &  31694 &  790.1292\\\\\n\t casual & 02 &  34466 &  923.0576\\\\\n\t casual & 03 &  49840 &  882.1993\\\\\n\t casual & 04 & 116157 & 1179.0657\\\\\n\t casual & 05 & 185888 & 1291.0596\\\\\n\t casual & 06 & 236103 & 1268.4504\\\\\n\t casual & 07 & 259047 & 1328.5716\\\\\n\t casual & 08 & 246585 & 1282.4504\\\\\n\t casual & 09 & 221095 & 1361.1501\\\\\n\t casual & 10 & 160455 & 1062.7039\\\\\n\t casual & 11 &  77829 &  893.3945\\\\\n\t casual & 12 &  34614 &  781.3620\\\\\n\t member & 01 & 130033 &  598.6341\\\\\n\t member & 02 & 128174 &  623.0566\\\\\n\t member & 03 & 169693 &  608.5295\\\\\n\t member & 04 & 237479 &  691.4066\\\\\n\t member & 05 & 316258 &  759.2412\\\\\n\t member & 06 & 351853 &  774.3687\\\\\n\t member & 07 & 366782 &  797.2618\\\\\n\t member & 08 & 389788 &  794.1907\\\\\n\t member & 09 & 343586 &  759.8782\\\\\n\t member & 10 & 293890 &  699.1460\\\\\n\t member & 11 & 201825 &  649.6132\\\\\n\t member & 12 & 115890 &  613.9342\\\\\n\\end{tabular}\n",
            "text/plain": [
              "   member_casual month number_of_rides average_duration\n",
              "1  casual        01     31694           790.1292       \n",
              "2  casual        02     34466           923.0576       \n",
              "3  casual        03     49840           882.1993       \n",
              "4  casual        04    116157          1179.0657       \n",
              "5  casual        05    185888          1291.0596       \n",
              "6  casual        06    236103          1268.4504       \n",
              "7  casual        07    259047          1328.5716       \n",
              "8  casual        08    246585          1282.4504       \n",
              "9  casual        09    221095          1361.1501       \n",
              "10 casual        10    160455          1062.7039       \n",
              "11 casual        11     77829           893.3945       \n",
              "12 casual        12     34614           781.3620       \n",
              "13 member        01    130033           598.6341       \n",
              "14 member        02    128174           623.0566       \n",
              "15 member        03    169693           608.5295       \n",
              "16 member        04    237479           691.4066       \n",
              "17 member        05    316258           759.2412       \n",
              "18 member        06    351853           774.3687       \n",
              "19 member        07    366782           797.2618       \n",
              "20 member        08    389788           794.1907       \n",
              "21 member        09    343586           759.8782       \n",
              "22 member        10    293890           699.1460       \n",
              "23 member        11    201825           649.6132       \n",
              "24 member        12    115890           613.9342       "
            ]
          },
          "metadata": {}
        }
      ]
    },
    {
      "cell_type": "markdown",
      "source": [
        "\n",
        "![Rides Month.png](https://drive.google.com/uc?export=view&id=1_6O-80ZTm1KWmgoCedmoTls0iXod6IR0)\n",
        "\n",
        "Looking at the chart we see the same bell shape for both casual and member. with the maximum number of rides occuring in August for members and in July for casual riders.\n",
        "\n",
        "Both types of uders tend to have more trips during the summer. While in the winter the number of rides decrease by 66% for members and 86% for casual riders compared to summer months.\n",
        "\n",
        "![Duration Month.png](https://drive.google.com/uc?export=view&id=1raP0IeGLLLnT8VtxGhKRCyy3vU0tuqvO)\n",
        "\n",
        "\n",
        "As for ride length, we can see in the chart above, that casual rides overcome members in all months of the year. Again there is a drastic change between summer/spring and winter months. Although this change is greater for casual than for members.\n",
        "\n",
        "### Weekday Analysis\n",
        "\n",
        "Now we'll take a look at some weekly data to answer questions like:\n",
        "- Which day of the week members and casual riders prefer to ride?\n",
        "\n",
        "![Tabela.png](https://drive.google.com/uc?export=view&id=1XMHL2dcM6oFEyTGhvNc5XAGkgu3styjp)\n"
      ],
      "metadata": {
        "id": "K-Hr0IslJmHC"
      }
    },
    {
      "cell_type": "markdown",
      "source": [
        "In the table above we calculated the mode of the week day for each month. As we can see, work days are preferred by annual members, with Tuesday showing up in most months and Thurdays having most appearences overall.\n",
        "\n",
        "For casual riders, weekend days have the most appearences, with Saturday showing up on half of the months. This means that casual riders prefer to ride on weekends while members tend to ride more on week days. Let's see how many rides each group have per week day.\n",
        "\n",
        "![Rides per Week](https://drive.google.com/uc?export=view&id=1Ngq9qz4M26k60vSqEqL3EYWPLDo--ErM)\n",
        "\n",
        "The interesting thing about the graph above is that, on most work days annual members have more than double the amount of rides than casual riders. While on weekends this difference decreases radically, even tough annual members still have more rides.\n",
        "\n",
        "Now let's take a look at the average ride duration of those groups per week day.\n",
        "\n",
        "![Duration week.png](https://drive.google.com/uc?export=view&id=1nEOAtXHDViolqCFIS8baMBsrlLpUDDnu)\n",
        "\n",
        "First thing that cought my attention with the chart above is that casual riders have way longer trips than annual members, on every day of the week. And that annual members have almost a flat curve during the week, with a slight increase of trip duration on the weekends. While casual riders havea more U-shaped pattern with a great increase of trip duration on weekends.\n",
        "\n",
        "After looking at these results and seing the differences between work days and weekends, we decided to study how these two categories differ troughout the year.\n",
        "Since Friday is the day that number of rides start to increase for members, we decided to consider it as a weekend day.\n",
        "\n",
        "![Rides per Week Day.png](https://drive.google.com/uc?export=view&id=1-dvX5O_GAUYNKHqhnZ6Hftdga_4PP_kd)\n",
        "\n",
        "Above we can see that, as expected, casual riders still have a total amount of minutes ride greater on weekends for almost all quarters. Summer months have 28% increase in total minutes ride on weekends. As oppose to annunal members that have more minutes ride on work days in all quarters."
      ],
      "metadata": {
        "id": "ddPhdb-y18Ke"
      }
    },
    {
      "cell_type": "markdown",
      "source": [
        "### Bike Type Analysis\n",
        "\n",
        "There are two type of biclycles used by Ciclistic users, classic and electric. In this section we wanted to understand if there is any preferences of bike type by annual and casual members.\n",
        "\n",
        "![Rides per Bike Type.png](https://drive.google.com/uc?export=view&id=1Dny7MddZvpDHN-BdxH2hz68eS5Wrhvl9)\n",
        "\n",
        "When looking at the number of rides per type of bike above, we can see a minor preference for classic bikes for both users.\n",
        "\n",
        "If we study this by quarter, the last quarter is the only with eletric bikes being preffered and all other quarters have classic bikes with more rides, specially in summer when the difference increases significantly.\n",
        "When we look at the average ride duration per bike type we can see that classic bikes had a longer trip duration for both annual and casual riders.\n",
        "And of the sum of all minutes ride 63% was on classic bikes.\n"
      ],
      "metadata": {
        "id": "wZP_yX0Ra-bW"
      }
    },
    {
      "cell_type": "markdown",
      "source": [
        "### Location Analysis\n",
        "\n",
        "Last analysis I'll conduct will be regarding the location of the rides. For this analysis I filtered from the dataset records that had null start or end station information. These records account for 24% of the whole dataset, so I decided to leave them for other analysis and filter them in this one.\n",
        "\n",
        "We'll study how the time of day and day of week affect the number of rides on the map.\n",
        "\n",
        "First, when we look at the map of both casual and members we can see that both of them have most rides on the coast or on the city downtown. With members having considerably more rides than casual members, as we saw earlier.\n",
        "\n",
        "Stations with most bike rides for casual members are easily spotted on the map, being on the coast. As for members, we can see that those bike stations are located more in the center of the city.\n",
        "\n",
        "![Rides per Location](https://drive.google.com/uc?export=view&id=1wH1TaZW6mFlla1J5PSlOWZSyKOfKfY8x)\n",
        "\n",
        "When we filter the same map for time of day, is noticeable that in the morning rides tend to concentrate in a specific part of town (in downtown area and River North area, this are both high urban locations and neighborhoods), and this change affect mostly members.\n",
        "\n",
        "As for night rides, for both casual and members we can see an increase of rides in the north coast, where is located the Lake View district, known for being the largest entretainment center of Chicago.\n",
        "\n",
        "*Rides in the Morning*\n",
        "\n",
        "![Rides in the Morning](https://drive.google.com/uc?export=view&id=1w3TznLl9tyRmTHH80qMhfgkqsoU_iP4_)\n",
        "\n",
        "\n",
        "*Rides at Night*\n",
        "\n",
        "![Rides at Night](https://drive.google.com/uc?export=view&id=1OnGpJyciW8mCQ4hlbFVVHEGWWNbvyGE4)\n",
        "\n",
        "\n",
        "To analyze the differences in number of rides for days of the week, we divided it into weekend (including Friday, as we done before) and work days.\n",
        "As we can see in the chart bellow, the number of rides for member increases on the coast on weekends as opposed to working days that rides are mmore concentraded in city downtown. For casual riders, the changes are very low, both have more rides on the coast.\n",
        "\n",
        "*Rides on Weekends*\n",
        "\n",
        "![Rides on Weekends](https://drive.google.com/uc?export=view&id=14_7fihUrDJJBIZlpCXmGO5gNwHLLCXtT)\n",
        "\n",
        "\n",
        "*Rides on Work Days*\n",
        "\n",
        "![Rides on Work Days](https://drive.google.com/uc?export=view&id=1QRYLYDgbH9evdyZYYWSiVKOxtK3NogxU)\n"
      ],
      "metadata": {
        "id": "abCmeeiTGBQ1"
      }
    },
    {
      "cell_type": "markdown",
      "source": [
        "## Final Insights and Considerations\n",
        "\n",
        "Now we've reached the final step of the analysis process, which is act on the insights we gathered so far.\n",
        "- Summer months (June, July, August and September) have the most rides for both user type. this could be due to the change in the season, since that the rides go up as the summer comes and it gets lower in winter.\n",
        "- Casual riders have a greater trip duration all year long.\n",
        "- When we take a look at workdays versus weekend trips, we can see an increase in trip duration during the weekend. For casual riders, number of trips also increased compared to workdays. And for members, workdays tend to have a greater number of trips.\n",
        "- As for location of the trips, casual riders have majority of the trips on the coast and members have more spread rides in town. With a highlight to the downtown and the coast.\n",
        "Besides these insights there are a few recommendations I would give to the marketing manager, Lily Moreno.\n",
        "- I suggest setting the campaign on the most busiest months, between May and September, that is when number of rides go up.\n",
        "- If local marketing is to be done, I suggest setting it on the coast as well as in the Lake View district that is where there are most visits during the months mentioned above.\n",
        "- As casual riders have more rides during the weekend and have way longer trips then members, two good strategies could be:\n",
        "  - A monthly membership for summer, or even a weekend only membership.\n",
        "  - As well as a trip duration based charge, that way the longer the trip the cheaper it gets."
      ],
      "metadata": {
        "id": "OCs-OeIeGDpD"
      }
    }
  ]
}